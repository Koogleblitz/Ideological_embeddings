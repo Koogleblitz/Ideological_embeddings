{
 "cells": [
  {
   "cell_type": "markdown",
   "metadata": {},
   "source": [
    "# __[:+:]__ Transcript Processing"
   ]
  },
  {
   "cell_type": "code",
   "execution_count": 1,
   "metadata": {},
   "outputs": [
    {
     "name": "stderr",
     "output_type": "stream",
     "text": [
      "c:\\Users\\richa\\anaconda3\\lib\\site-packages\\sentence_transformers\\cross_encoder\\CrossEncoder.py:11: TqdmExperimentalWarning: Using `tqdm.autonotebook.tqdm` in notebook mode. Use `tqdm.tqdm` instead to force console mode (e.g. in jupyter console)\n",
      "  from tqdm.autonotebook import tqdm, trange\n",
      "c:\\Users\\richa\\anaconda3\\lib\\site-packages\\dask\\dataframe\\__init__.py:31: FutureWarning: \n",
      "Dask dataframe query planning is disabled because dask-expr is not installed.\n",
      "\n",
      "You can install it with `pip install dask[dataframe]` or `conda install dask`.\n",
      "This will raise in a future version.\n",
      "\n",
      "  warnings.warn(msg, FutureWarning)\n",
      "c:\\Users\\richa\\anaconda3\\lib\\site-packages\\numba\\np\\ufunc\\dufunc.py:343: NumbaWarning: \u001b[1mCompilation requested for previously compiled argument types ((uint32,)). This has no effect and perhaps indicates a bug in the calling code (compiling a ufunc more than once for the same signature\u001b[0m\n",
      "  warnings.warn(msg, errors.NumbaWarning)\n",
      "c:\\Users\\richa\\anaconda3\\lib\\site-packages\\numba\\np\\ufunc\\dufunc.py:343: NumbaWarning: \u001b[1mCompilation requested for previously compiled argument types ((uint32,)). This has no effect and perhaps indicates a bug in the calling code (compiling a ufunc more than once for the same signature\u001b[0m\n",
      "  warnings.warn(msg, errors.NumbaWarning)\n",
      "c:\\Users\\richa\\anaconda3\\lib\\site-packages\\numba\\np\\ufunc\\dufunc.py:343: NumbaWarning: \u001b[1mCompilation requested for previously compiled argument types ((uint32,)). This has no effect and perhaps indicates a bug in the calling code (compiling a ufunc more than once for the same signature\u001b[0m\n",
      "  warnings.warn(msg, errors.NumbaWarning)\n"
     ]
    }
   ],
   "source": [
    "from sentence_transformers import SentenceTransformer, util, InputExample, losses\n",
    "# from torch.utils.data import DataLoader\n",
    "import matplotlib.pyplot as plt\n",
    "import plotly.express as px\n",
    "from umap import UMAP\n",
    "import pandas as pd\n",
    "import numpy as np\n",
    "import umap.plot\n",
    "import hdbscan\n",
    "import re\n"
   ]
  },
  {
   "cell_type": "code",
   "execution_count": 2,
   "metadata": {},
   "outputs": [
    {
     "name": "stdout",
     "output_type": "stream",
     "text": [
      "[+] #lines read from file:  238\n",
      " --> Total Dictionary entries:  238\n",
      " --> Total Dataframe entries:  238\n"
     ]
    },
    {
     "data": {
      "text/html": [
       "<div>\n",
       "<style scoped>\n",
       "    .dataframe tbody tr th:only-of-type {\n",
       "        vertical-align: middle;\n",
       "    }\n",
       "\n",
       "    .dataframe tbody tr th {\n",
       "        vertical-align: top;\n",
       "    }\n",
       "\n",
       "    .dataframe thead th {\n",
       "        text-align: right;\n",
       "    }\n",
       "</style>\n",
       "<table border=\"1\" class=\"dataframe\">\n",
       "  <thead>\n",
       "    <tr style=\"text-align: right;\">\n",
       "      <th></th>\n",
       "      <th>speaker</th>\n",
       "      <th>sentence</th>\n",
       "    </tr>\n",
       "  </thead>\n",
       "  <tbody>\n",
       "    <tr>\n",
       "      <th>0</th>\n",
       "      <td>Speaker 1</td>\n",
       "      <td>You're saying that you think it's the two nar...</td>\n",
       "    </tr>\n",
       "    <tr>\n",
       "      <th>1</th>\n",
       "      <td>Speaker 1</td>\n",
       "      <td>So are you surprised by that? Because the poi...</td>\n",
       "    </tr>\n",
       "    <tr>\n",
       "      <th>2</th>\n",
       "      <td>Speaker 1</td>\n",
       "      <td>Wait, you think the Jews left voluntarily? Yo...</td>\n",
       "    </tr>\n",
       "    <tr>\n",
       "      <th>3</th>\n",
       "      <td>Speaker 1</td>\n",
       "      <td>Wait, wait, wait. I have some thoughts about ...</td>\n",
       "    </tr>\n",
       "    <tr>\n",
       "      <th>4</th>\n",
       "      <td>Speaker 1</td>\n",
       "      <td>First archaeological would probably be 4,000 ...</td>\n",
       "    </tr>\n",
       "    <tr>\n",
       "      <th>...</th>\n",
       "      <td>...</td>\n",
       "      <td>...</td>\n",
       "    </tr>\n",
       "    <tr>\n",
       "      <th>233</th>\n",
       "      <td>Speaker 2</td>\n",
       "      <td>Yeah.</td>\n",
       "    </tr>\n",
       "    <tr>\n",
       "      <th>234</th>\n",
       "      <td>Speaker 2</td>\n",
       "      <td>Yeah, me too.</td>\n",
       "    </tr>\n",
       "    <tr>\n",
       "      <th>235</th>\n",
       "      <td>Speaker 2</td>\n",
       "      <td>No, you're fine. Yeah. I never really like sh...</td>\n",
       "    </tr>\n",
       "    <tr>\n",
       "      <th>236</th>\n",
       "      <td>Speaker 2</td>\n",
       "      <td>Want to project that onto another group and l...</td>\n",
       "    </tr>\n",
       "    <tr>\n",
       "      <th>237</th>\n",
       "      <td>Speaker 2</td>\n",
       "      <td>Yeah, we can definitely continue that. Yeah, ...</td>\n",
       "    </tr>\n",
       "  </tbody>\n",
       "</table>\n",
       "<p>238 rows × 2 columns</p>\n",
       "</div>"
      ],
      "text/plain": [
       "       speaker                                           sentence\n",
       "0    Speaker 1   You're saying that you think it's the two nar...\n",
       "1    Speaker 1   So are you surprised by that? Because the poi...\n",
       "2    Speaker 1   Wait, you think the Jews left voluntarily? Yo...\n",
       "3    Speaker 1   Wait, wait, wait. I have some thoughts about ...\n",
       "4    Speaker 1   First archaeological would probably be 4,000 ...\n",
       "..         ...                                                ...\n",
       "233  Speaker 2                                              Yeah.\n",
       "234  Speaker 2                                      Yeah, me too.\n",
       "235  Speaker 2   No, you're fine. Yeah. I never really like sh...\n",
       "236  Speaker 2   Want to project that onto another group and l...\n",
       "237  Speaker 2   Yeah, we can definitely continue that. Yeah, ...\n",
       "\n",
       "[238 rows x 2 columns]"
      ]
     },
     "execution_count": 2,
     "metadata": {},
     "output_type": "execute_result"
    }
   ],
   "source": [
    "#Extract each line from the transcript, with no wordwrap, each line is a new speaker\n",
    "def readFile(filePath):\n",
    "    with open(filePath, 'r') as file:\n",
    "        lines= file.read().split('\\n')\n",
    "        print('[+] #lines read from file: ',len(lines))\n",
    "        return lines\n",
    "    \n",
    "# Create a dictionary where each speaker is a key and their spoken sentences are the values\n",
    "def transMapper(lines):\n",
    "    trans_map= {}\n",
    "    regex= r'(.+): (.+)'\n",
    "    for i in range(len(lines)):\n",
    "        if re.match(regex, lines[i]):\n",
    "            speaker= lines[i][0:9]\n",
    "            sentence= lines[i][10:]\n",
    "\n",
    "            if speaker not in trans_map:\n",
    "                trans_map[speaker]= []\n",
    "            trans_map[speaker].append(sentence)\n",
    "        else:\n",
    "            print('--> Non-match: ', lines[i])\n",
    "    print(' --> Total Dictionary entries: ', sum([len(trans_map[k]) for k in trans_map.keys()])  )\n",
    "    return trans_map\n",
    "\n",
    "\n",
    "def trans_dataFramer(trans_map):\n",
    "    ts_df= pd.DataFrame(columns= ['speaker', 'sentence'])\n",
    "    for speaker in trans_map.keys():\n",
    "        for sentence in trans_map[speaker]:\n",
    "            newEntry= pd.DataFrame([{'speaker': speaker, 'sentence':sentence}])\n",
    "            ts_df= pd.concat([ts_df, newEntry], ignore_index= True)\n",
    "    print(' --> Total Dataframe entries: ', len(ts_df))\n",
    "    return ts_df\n",
    "\n",
    "#------------------------------------------------------------------------------------------------\n",
    "filePath= r'transcript_noTimeStamp.txt'\n",
    "ts_df= trans_dataFramer(transMapper(readFile(filePath)))\n",
    "ts_df\n",
    "\n"
   ]
  },
  {
   "cell_type": "markdown",
   "metadata": {},
   "source": [
    "## __[+]__ Embed + UMAP"
   ]
  },
  {
   "cell_type": "code",
   "execution_count": 16,
   "metadata": {},
   "outputs": [
    {
     "name": "stderr",
     "output_type": "stream",
     "text": [
      "c:\\Users\\richa\\anaconda3\\lib\\site-packages\\transformers\\tokenization_utils_base.py:1601: FutureWarning:\n",
      "\n",
      "`clean_up_tokenization_spaces` was not set. It will be set to `True` by default. This behavior will be depracted in transformers v4.45, and will be then set to `False` by default. For more details check this issue: https://github.com/huggingface/transformers/issues/31884\n",
      "\n"
     ]
    },
    {
     "data": {
      "text/plain": [
       "pandas.core.series.Series"
      ]
     },
     "execution_count": 16,
     "metadata": {},
     "output_type": "execute_result"
    }
   ],
   "source": [
    "emb_model= SentenceTransformer('all-mpnet-base-v2')\n",
    "sentences = ts_df.loc[:,'sentence']\n",
    "type(sentences)"
   ]
  },
  {
   "cell_type": "code",
   "execution_count": 4,
   "metadata": {},
   "outputs": [
    {
     "name": "stdout",
     "output_type": "stream",
     "text": [
      "\n",
      "Sentences sans Labels: \n",
      " 0     You're saying that you think it's the two nar...\n",
      "1     So are you surprised by that? Because the poi...\n",
      "2     Wait, you think the Jews left voluntarily? Yo...\n",
      "3     Wait, wait, wait. I have some thoughts about ...\n",
      "4     First archaeological would probably be 4,000 ...\n",
      "Name: sentence, dtype: object \n",
      " 238\n"
     ]
    },
    {
     "data": {
      "application/vnd.jupyter.widget-view+json": {
       "model_id": "8744364b03294a63863b1e27d3d29ef4",
       "version_major": 2,
       "version_minor": 0
      },
      "text/plain": [
       "Batches:   0%|          | 0/8 [00:00<?, ?it/s]"
      ]
     },
     "metadata": {},
     "output_type": "display_data"
    },
    {
     "name": "stdout",
     "output_type": "stream",
     "text": [
      " --> Embeded Sentences <=400 chars:  238 x 768\n"
     ]
    }
   ],
   "source": [
    "print('\\nSentences sans Labels: \\n', sentences.head(), '\\n', len(sentences))\n",
    "\n",
    "#[+:] Embed the extracted sentences\n",
    "snt_emb_full = emb_model.encode(sentences, show_progress_bar=True)\n",
    "print(' --> Embeded Sentences <=400 chars: ', type(snt_emb_full), len(snt_emb_full),'x', len(snt_emb_full[0]))"
   ]
  },
  {
   "cell_type": "code",
   "execution_count": 5,
   "metadata": {},
   "outputs": [
    {
     "name": "stdout",
     "output_type": "stream",
     "text": [
      " --> Full Embeded Sentences:  238 x 768\n"
     ]
    }
   ],
   "source": [
    "#[+:] Embed the extracted sentences, but only up to the first 400 chars\n",
    "snt_emb_400=[]\n",
    "for s in sentences:\n",
    "    maxL= min(len(s), 400)\n",
    "    trunc= s[:maxL]\n",
    "    # print((trunc))\n",
    "    snt_emb_400.append(emb_model.encode(trunc))\n",
    "print(' --> Full Embeded Sentences: ', len(snt_emb_400),'x', len(snt_emb_400[0]))"
   ]
  },
  {
   "cell_type": "code",
   "execution_count": 6,
   "metadata": {},
   "outputs": [
    {
     "name": "stderr",
     "output_type": "stream",
     "text": [
      "c:\\Users\\richa\\anaconda3\\lib\\site-packages\\umap\\umap_.py:1945: UserWarning: n_jobs value 1 overridden to 1 by setting random_state. Use no seed for parallelism.\n",
      "  warn(f\"n_jobs value {self.n_jobs} overridden to 1 by setting random_state. Use no seed for parallelism.\")\n"
     ]
    },
    {
     "name": "stdout",
     "output_type": "stream",
     "text": [
      "\n",
      " -->3D Projection:  238\n",
      "           x         y         z    speaker  index\n",
      "0  10.514611  3.002629  7.387030  Speaker 1      0\n",
      "1  11.189832  1.490113  7.388382  Speaker 1      1\n",
      "2  11.837924  1.637674  7.936531  Speaker 1      2\n",
      "3   8.653387  4.525954  6.872148  Speaker 1      3\n",
      "4  11.296014  2.922088  7.787458  Speaker 1      4 \n",
      " 238\n"
     ]
    },
    {
     "data": {
      "application/vnd.plotly.v1+json": {
       "config": {
        "plotlyServerURL": "https://plot.ly"
       },
       "data": [
        {
         "customdata": [
          [
           0
          ],
          [
           1
          ],
          [
           2
          ],
          [
           3
          ],
          [
           4
          ],
          [
           5
          ],
          [
           6
          ],
          [
           7
          ],
          [
           8
          ],
          [
           9
          ],
          [
           10
          ],
          [
           11
          ],
          [
           12
          ],
          [
           13
          ],
          [
           14
          ],
          [
           15
          ],
          [
           16
          ],
          [
           17
          ],
          [
           18
          ],
          [
           19
          ],
          [
           20
          ],
          [
           21
          ],
          [
           22
          ],
          [
           23
          ],
          [
           24
          ],
          [
           25
          ],
          [
           26
          ],
          [
           27
          ],
          [
           28
          ],
          [
           29
          ],
          [
           30
          ],
          [
           31
          ],
          [
           32
          ],
          [
           33
          ],
          [
           34
          ],
          [
           35
          ],
          [
           36
          ],
          [
           37
          ],
          [
           38
          ],
          [
           39
          ],
          [
           40
          ],
          [
           41
          ],
          [
           42
          ],
          [
           43
          ],
          [
           44
          ],
          [
           45
          ],
          [
           46
          ],
          [
           47
          ],
          [
           48
          ],
          [
           49
          ],
          [
           50
          ],
          [
           51
          ],
          [
           52
          ],
          [
           53
          ],
          [
           54
          ],
          [
           55
          ],
          [
           56
          ],
          [
           57
          ],
          [
           58
          ],
          [
           59
          ],
          [
           60
          ],
          [
           61
          ],
          [
           62
          ],
          [
           63
          ],
          [
           64
          ],
          [
           65
          ],
          [
           66
          ],
          [
           67
          ],
          [
           68
          ],
          [
           69
          ],
          [
           70
          ],
          [
           71
          ],
          [
           72
          ],
          [
           73
          ],
          [
           74
          ],
          [
           75
          ],
          [
           76
          ],
          [
           77
          ],
          [
           78
          ],
          [
           79
          ],
          [
           80
          ],
          [
           81
          ],
          [
           82
          ],
          [
           83
          ],
          [
           84
          ],
          [
           85
          ],
          [
           86
          ],
          [
           87
          ],
          [
           88
          ],
          [
           89
          ],
          [
           90
          ],
          [
           91
          ],
          [
           92
          ],
          [
           93
          ],
          [
           94
          ],
          [
           95
          ],
          [
           96
          ],
          [
           97
          ],
          [
           98
          ],
          [
           99
          ],
          [
           100
          ],
          [
           101
          ]
         ],
         "hovertemplate": "speaker=Speaker 1<br>x=%{x}<br>y=%{y}<br>z=%{z}<br>index=%{customdata[0]}<extra></extra>",
         "legendgroup": "Speaker 1",
         "marker": {
          "color": "#636efa",
          "size": 3.5,
          "symbol": "circle"
         },
         "mode": "markers",
         "name": "Speaker 1",
         "scene": "scene",
         "showlegend": true,
         "type": "scatter3d",
         "x": [
          10.51461124420166,
          11.189831733703613,
          11.837924003601074,
          8.653387069702148,
          11.296013832092285,
          8.433484077453613,
          12.59097957611084,
          12.33181095123291,
          12.305012702941895,
          9.023092269897461,
          12.886898040771484,
          12.901576042175293,
          11.010934829711914,
          11.238869667053223,
          10.173348426818848,
          11.84976577758789,
          8.440296173095703,
          10.518548011779785,
          10.641021728515625,
          10.17054271697998,
          10.707389831542969,
          10.714677810668945,
          12.588727951049805,
          11.288954734802246,
          11.167675018310547,
          10.244314193725586,
          9.817049980163574,
          12.664427757263184,
          10.774134635925293,
          10.754425048828125,
          12.51444149017334,
          10.860158920288086,
          9.974950790405273,
          9.855766296386719,
          10.969341278076172,
          10.961811065673828,
          10.986976623535156,
          10.8503999710083,
          11.24899959564209,
          8.41897201538086,
          9.131257057189941,
          8.376733779907227,
          11.61988353729248,
          8.237607955932617,
          10.090296745300293,
          11.616792678833008,
          11.374685287475586,
          12.443563461303711,
          10.433369636535645,
          10.391833305358887,
          10.1375150680542,
          8.183547973632812,
          10.454483032226562,
          11.09298038482666,
          11.123156547546387,
          10.36158275604248,
          10.048489570617676,
          10.29560661315918,
          10.701995849609375,
          10.564878463745117,
          9.512826919555664,
          10.816194534301758,
          10.880621910095215,
          9.298616409301758,
          9.509385108947754,
          8.33187484741211,
          9.486518859863281,
          9.423413276672363,
          10.01693058013916,
          9.977720260620117,
          9.832764625549316,
          10.313949584960938,
          8.360496520996094,
          10.156667709350586,
          10.19738483428955,
          9.547638893127441,
          10.85626220703125,
          10.242606163024902,
          10.989555358886719,
          9.375532150268555,
          10.253934860229492,
          10.841171264648438,
          8.556196212768555,
          9.070011138916016,
          10.254206657409668,
          11.205774307250977,
          10.458972930908203,
          10.842047691345215,
          10.766409873962402,
          9.627486228942871,
          10.497343063354492,
          10.354558944702148,
          10.8109130859375,
          9.87840747833252,
          9.936641693115234,
          9.986762046813965,
          12.095508575439453,
          10.2074613571167,
          10.275277137756348,
          10.116287231445312,
          9.975975036621094,
          8.370881080627441
         ],
         "y": [
          3.002628803253174,
          1.4901131391525269,
          1.6376737356185913,
          4.525953769683838,
          2.922088384628296,
          5.4071149826049805,
          2.0306553840637207,
          1.5674288272857666,
          1.361303448677063,
          3.956669569015503,
          1.8475408554077148,
          1.7592663764953613,
          1.1020591259002686,
          2.9609997272491455,
          3.430955171585083,
          2.60685658454895,
          5.437242031097412,
          3.433680295944214,
          1.0947437286376953,
          3.2067227363586426,
          0.9515202045440674,
          1.1985455751419067,
          2.0172224044799805,
          2.480827808380127,
          1.1296346187591553,
          3.045039415359497,
          3.808213949203491,
          1.990749716758728,
          0.9293488264083862,
          2.4372830390930176,
          2.200119733810425,
          0.9828891158103943,
          3.2974157333374023,
          3.557063579559326,
          1.0001589059829712,
          0.9792491793632507,
          1.3167917728424072,
          1.503205418586731,
          1.9671962261199951,
          5.101813793182373,
          4.355178356170654,
          5.118595600128174,
          2.8458056449890137,
          4.796581745147705,
          2.980769157409668,
          2.6133623123168945,
          2.877500295639038,
          2.0500829219818115,
          2.02219557762146,
          2.441028118133545,
          3.6676762104034424,
          4.804346561431885,
          2.9409360885620117,
          2.726788282394409,
          2.3279199600219727,
          2.5319886207580566,
          3.7301604747772217,
          3.571997880935669,
          2.355407953262329,
          2.232560873031616,
          3.402401924133301,
          2.1371448040008545,
          3.205601215362549,
          4.012113571166992,
          3.3511135578155518,
          5.526551246643066,
          3.582054853439331,
          3.3241376876831055,
          3.217257022857666,
          3.977452516555786,
          2.5269033908843994,
          1.2286080121994019,
          5.501457214355469,
          1.7665876150131226,
          1.8269559144973755,
          2.979508876800537,
          2.5256106853485107,
          1.8939327001571655,
          1.9219706058502197,
          4.643279552459717,
          3.4563138484954834,
          2.1412346363067627,
          5.038590431213379,
          4.787933826446533,
          1.5941399335861206,
          1.440172791481018,
          2.883084297180176,
          1.7547138929367065,
          1.8823695182800293,
          4.121091365814209,
          1.560249924659729,
          1.156983494758606,
          1.8992159366607666,
          4.4137163162231445,
          2.6112916469573975,
          4.273725509643555,
          2.0766706466674805,
          3.880429983139038,
          1.915139079093933,
          3.756420135498047,
          3.958772659301758,
          4.428583145141602
         ],
         "z": [
          7.387030124664307,
          7.3883819580078125,
          7.936530590057373,
          6.872147560119629,
          7.7874579429626465,
          5.3167195320129395,
          8.357139587402344,
          9.648022651672363,
          9.44417667388916,
          6.785881519317627,
          9.624505996704102,
          9.659829139709473,
          8.456585884094238,
          8.480107307434082,
          7.317808151245117,
          8.4251127243042,
          5.277191162109375,
          7.596253871917725,
          8.625683784484863,
          6.935001850128174,
          8.578640937805176,
          8.561572074890137,
          8.504161834716797,
          9.690563201904297,
          8.35886287689209,
          9.567151069641113,
          9.004932403564453,
          8.778000831604004,
          8.682157516479492,
          9.543992042541504,
          8.149239540100098,
          8.048810958862305,
          9.354098320007324,
          9.210429191589355,
          8.225419998168945,
          8.193352699279785,
          7.618208408355713,
          8.697013854980469,
          8.640304565429688,
          5.496992588043213,
          7.377645492553711,
          5.33419942855835,
          8.006908416748047,
          6.668398857116699,
          7.828487396240234,
          9.449448585510254,
          9.061100006103516,
          7.900274276733398,
          8.13045883178711,
          8.562524795532227,
          9.216170310974121,
          6.75513219833374,
          8.714082717895508,
          8.897079467773438,
          7.998791694641113,
          8.691494941711426,
          9.139481544494629,
          9.287153244018555,
          8.52901554107666,
          8.25716781616211,
          8.832504272460938,
          7.988600254058838,
          7.737573146820068,
          7.273813247680664,
          8.770766258239746,
          5.217541694641113,
          8.798697471618652,
          9.0076265335083,
          8.855360984802246,
          7.444164752960205,
          8.988216400146484,
          8.704500198364258,
          5.268458843231201,
          7.90138053894043,
          8.18360424041748,
          8.99609661102295,
          10.180926322937012,
          8.754056930541992,
          10.09404468536377,
          6.417108535766602,
          9.206233024597168,
          7.616534233093262,
          5.563844203948975,
          6.105929851531982,
          7.685335159301758,
          7.7612504959106445,
          6.991048336029053,
          7.42833948135376,
          7.337034225463867,
          6.56766414642334,
          7.404337406158447,
          8.084248542785645,
          8.850380897521973,
          6.7293291091918945,
          6.928154945373535,
          6.684152603149414,
          7.519552707672119,
          7.029932975769043,
          7.127547264099121,
          7.1367950439453125,
          6.900540351867676,
          6.358476638793945
         ]
        },
        {
         "customdata": [
          [
           102
          ],
          [
           103
          ],
          [
           104
          ],
          [
           105
          ],
          [
           106
          ],
          [
           107
          ],
          [
           108
          ],
          [
           109
          ],
          [
           110
          ],
          [
           111
          ],
          [
           112
          ],
          [
           113
          ],
          [
           114
          ],
          [
           115
          ],
          [
           116
          ],
          [
           117
          ],
          [
           118
          ],
          [
           119
          ],
          [
           120
          ],
          [
           121
          ],
          [
           122
          ],
          [
           123
          ],
          [
           124
          ],
          [
           125
          ],
          [
           126
          ],
          [
           127
          ],
          [
           128
          ],
          [
           129
          ],
          [
           130
          ],
          [
           131
          ],
          [
           132
          ],
          [
           133
          ],
          [
           134
          ],
          [
           135
          ],
          [
           136
          ],
          [
           137
          ],
          [
           138
          ],
          [
           139
          ],
          [
           140
          ],
          [
           141
          ],
          [
           142
          ],
          [
           143
          ],
          [
           144
          ],
          [
           145
          ],
          [
           146
          ],
          [
           147
          ],
          [
           148
          ],
          [
           149
          ],
          [
           150
          ],
          [
           151
          ],
          [
           152
          ],
          [
           153
          ],
          [
           154
          ],
          [
           155
          ],
          [
           156
          ],
          [
           157
          ],
          [
           158
          ],
          [
           159
          ],
          [
           160
          ],
          [
           161
          ],
          [
           162
          ],
          [
           163
          ],
          [
           164
          ],
          [
           165
          ],
          [
           166
          ],
          [
           167
          ],
          [
           168
          ],
          [
           169
          ],
          [
           170
          ],
          [
           171
          ],
          [
           172
          ]
         ],
         "hovertemplate": "speaker=Speaker 3<br>x=%{x}<br>y=%{y}<br>z=%{z}<br>index=%{customdata[0]}<extra></extra>",
         "legendgroup": "Speaker 3",
         "marker": {
          "color": "#EF553B",
          "size": 3.5,
          "symbol": "circle"
         },
         "mode": "markers",
         "name": "Speaker 3",
         "scene": "scene",
         "showlegend": true,
         "type": "scatter3d",
         "x": [
          10.428572654724121,
          10.792581558227539,
          10.397363662719727,
          9.822813034057617,
          11.03199291229248,
          12.02835750579834,
          11.635496139526367,
          12.041253089904785,
          12.171967506408691,
          12.03569221496582,
          10.783233642578125,
          12.284250259399414,
          11.458894729614258,
          12.895783424377441,
          12.95567798614502,
          12.960142135620117,
          8.26404094696045,
          10.546545028686523,
          12.583385467529297,
          11.749078750610352,
          12.680108070373535,
          11.398862838745117,
          8.17985725402832,
          9.898879051208496,
          9.134197235107422,
          10.391362190246582,
          9.911433219909668,
          12.230326652526855,
          11.946187973022461,
          10.940869331359863,
          11.33906078338623,
          10.141922950744629,
          10.056888580322266,
          11.946554183959961,
          8.231359481811523,
          8.05872631072998,
          8.986318588256836,
          9.624390602111816,
          10.01701831817627,
          10.887179374694824,
          11.370558738708496,
          9.797106742858887,
          9.661587715148926,
          9.6312255859375,
          9.831143379211426,
          9.977518081665039,
          10.064375877380371,
          9.890144348144531,
          10.811992645263672,
          9.757299423217773,
          10.084238052368164,
          9.210551261901855,
          10.085182189941406,
          11.540681838989258,
          11.474119186401367,
          11.604522705078125,
          11.482898712158203,
          11.636260986328125,
          11.554862976074219,
          9.234980583190918,
          11.051667213439941,
          8.587112426757812,
          11.547022819519043,
          10.021407127380371,
          9.975403785705566,
          10.08157730102539,
          10.672259330749512,
          10.326356887817383,
          9.086380004882812,
          8.42887020111084,
          8.35944652557373
         ],
         "y": [
          1.7502986192703247,
          1.5187450647354126,
          3.3834009170532227,
          3.7924160957336426,
          2.0738751888275146,
          1.7372441291809082,
          1.1327117681503296,
          1.6669676303863525,
          1.6996732950210571,
          1.7057135105133057,
          2.5485737323760986,
          1.6647173166275024,
          1.0371506214141846,
          1.8568925857543945,
          1.750141978263855,
          1.7745118141174316,
          5.397924423217773,
          3.669731378555298,
          1.9126003980636597,
          1.4964652061462402,
          2.000213384628296,
          2.217100143432617,
          4.930492401123047,
          2.482858180999756,
          4.033661365509033,
          2.0123298168182373,
          2.563060760498047,
          1.9907407760620117,
          1.9950337409973145,
          2.138345956802368,
          2.184548854827881,
          1.6950336694717407,
          1.8228785991668701,
          2.3070359230041504,
          4.931806564331055,
          4.8083930015563965,
          4.892277240753174,
          4.25130033493042,
          4.349207401275635,
          3.259105920791626,
          3.0558950901031494,
          3.3937699794769287,
          3.5325872898101807,
          3.8702940940856934,
          3.7527692317962646,
          3.7904036045074463,
          2.746194839477539,
          2.530629873275757,
          3.193929433822632,
          2.5297157764434814,
          1.8833082914352417,
          3.684319019317627,
          1.7222930192947388,
          1.8730885982513428,
          1.8761364221572876,
          1.8926173448562622,
          1.8368282318115234,
          1.7685134410858154,
          1.8065284490585327,
          4.241433620452881,
          1.0477471351623535,
          5.099081039428711,
          2.2383952140808105,
          2.630821704864502,
          2.0788791179656982,
          3.030752420425415,
          1.9946458339691162,
          2.4236273765563965,
          4.293092250823975,
          4.310759544372559,
          4.30750036239624
         ],
         "z": [
          7.109745025634766,
          7.086716175079346,
          7.472215175628662,
          7.1576995849609375,
          8.262556076049805,
          7.956427097320557,
          8.716707229614258,
          8.480536460876465,
          8.362113952636719,
          9.634873390197754,
          9.897636413574219,
          9.709386825561523,
          8.961053848266602,
          9.551557540893555,
          9.558424949645996,
          9.676314353942871,
          5.22222900390625,
          7.288333892822266,
          9.689587593078613,
          9.846858024597168,
          8.976988792419434,
          10.057363510131836,
          6.613164901733398,
          9.2815580368042,
          7.529273986816406,
          8.225370407104492,
          8.511309623718262,
          8.030651092529297,
          8.218971252441406,
          7.634087562561035,
          7.810675621032715,
          7.3267693519592285,
          7.242729663848877,
          9.577938079833984,
          6.277612209320068,
          6.435816764831543,
          6.035637855529785,
          7.229352951049805,
          7.06318998336792,
          8.410380363464355,
          8.88485336303711,
          8.517986297607422,
          8.596112251281738,
          8.1552734375,
          8.544787406921387,
          8.672313690185547,
          9.061749458312988,
          9.389311790466309,
          8.49307632446289,
          9.443684577941895,
          8.796542167663574,
          6.7817277908325195,
          8.457706451416016,
          10.329375267028809,
          10.415881156921387,
          10.416512489318848,
          10.524614334106445,
          10.376916885375977,
          10.529609680175781,
          6.790889263153076,
          7.869248867034912,
          5.8064398765563965,
          7.27768611907959,
          7.037405490875244,
          7.0388031005859375,
          6.748593807220459,
          7.169775009155273,
          7.154537200927734,
          6.153982639312744,
          6.2967143058776855,
          6.426512718200684
         ]
        },
        {
         "customdata": [
          [
           173
          ],
          [
           174
          ],
          [
           175
          ],
          [
           176
          ],
          [
           177
          ],
          [
           178
          ],
          [
           179
          ],
          [
           180
          ],
          [
           181
          ],
          [
           182
          ],
          [
           183
          ],
          [
           184
          ],
          [
           185
          ],
          [
           186
          ],
          [
           187
          ],
          [
           188
          ],
          [
           189
          ],
          [
           190
          ],
          [
           191
          ],
          [
           192
          ],
          [
           193
          ],
          [
           194
          ],
          [
           195
          ],
          [
           196
          ],
          [
           197
          ],
          [
           198
          ],
          [
           199
          ],
          [
           200
          ],
          [
           201
          ],
          [
           202
          ],
          [
           203
          ],
          [
           204
          ],
          [
           205
          ],
          [
           206
          ],
          [
           207
          ],
          [
           208
          ],
          [
           209
          ],
          [
           210
          ],
          [
           211
          ],
          [
           212
          ],
          [
           213
          ],
          [
           214
          ],
          [
           215
          ],
          [
           216
          ],
          [
           217
          ],
          [
           218
          ],
          [
           219
          ],
          [
           220
          ],
          [
           221
          ],
          [
           222
          ],
          [
           223
          ],
          [
           224
          ],
          [
           225
          ],
          [
           226
          ],
          [
           227
          ],
          [
           228
          ],
          [
           229
          ],
          [
           230
          ],
          [
           231
          ],
          [
           232
          ],
          [
           233
          ],
          [
           234
          ],
          [
           235
          ],
          [
           236
          ],
          [
           237
          ]
         ],
         "hovertemplate": "speaker=Speaker 2<br>x=%{x}<br>y=%{y}<br>z=%{z}<br>index=%{customdata[0]}<extra></extra>",
         "legendgroup": "Speaker 2",
         "marker": {
          "color": "#00cc96",
          "size": 3.5,
          "symbol": "circle"
         },
         "mode": "markers",
         "name": "Speaker 2",
         "scene": "scene",
         "showlegend": true,
         "type": "scatter3d",
         "x": [
          12.385546684265137,
          11.570853233337402,
          11.90443229675293,
          11.33536434173584,
          9.815800666809082,
          11.943364143371582,
          11.648305892944336,
          11.296833992004395,
          11.960057258605957,
          11.923905372619629,
          9.699311256408691,
          9.553092956542969,
          12.3389253616333,
          12.697298049926758,
          12.425262451171875,
          12.758621215820312,
          11.4210786819458,
          11.134958267211914,
          11.645962715148926,
          11.52202033996582,
          11.115180015563965,
          10.723094940185547,
          10.70643138885498,
          8.509572982788086,
          10.529726028442383,
          8.77330207824707,
          8.228937149047852,
          11.154877662658691,
          11.396272659301758,
          8.684279441833496,
          10.618714332580566,
          11.6898193359375,
          12.296363830566406,
          10.502253532409668,
          12.389266014099121,
          12.261144638061523,
          9.416732788085938,
          11.754575729370117,
          11.741311073303223,
          8.037178993225098,
          7.971348762512207,
          11.350478172302246,
          11.107901573181152,
          10.516127586364746,
          8.299458503723145,
          8.624117851257324,
          10.04736042022705,
          9.775124549865723,
          10.279616355895996,
          10.136855125427246,
          11.031084060668945,
          9.29255485534668,
          11.128158569335938,
          9.87318229675293,
          10.119885444641113,
          10.404950141906738,
          10.344490051269531,
          10.385184288024902,
          10.040607452392578,
          10.13682746887207,
          8.526841163635254,
          8.332785606384277,
          9.89509105682373,
          10.179759979248047,
          8.274730682373047
         ],
         "y": [
          2.1269371509552,
          1.3872711658477783,
          1.5428963899612427,
          1.2961506843566895,
          4.411010265350342,
          1.4733505249023438,
          1.3780368566513062,
          1.3690614700317383,
          1.8572211265563965,
          1.6263978481292725,
          4.4986162185668945,
          4.472530841827393,
          2.1280016899108887,
          1.9292025566101074,
          2.086900472640991,
          2.008613348007202,
          2.5647356510162354,
          3.3045384883880615,
          1.2357089519500732,
          3.198805570602417,
          1.4313143491744995,
          2.9048244953155518,
          2.4759416580200195,
          4.969717025756836,
          2.659757137298584,
          4.95217752456665,
          4.985889434814453,
          1.001068115234375,
          3.136077404022217,
          5.056252479553223,
          1.7099583148956299,
          2.407952308654785,
          1.9076299667358398,
          2.8113958835601807,
          2.170703649520874,
          1.9931379556655884,
          4.3041534423828125,
          2.0227181911468506,
          2.560539722442627,
          4.964179515838623,
          4.927932262420654,
          3.256098985671997,
          3.0082685947418213,
          2.6403019428253174,
          5.417710781097412,
          5.310146808624268,
          1.8849425315856934,
          2.9460813999176025,
          1.267701506614685,
          1.5275864601135254,
          2.4553961753845215,
          4.693213939666748,
          2.155606746673584,
          2.5666065216064453,
          4.231468200683594,
          2.4568731784820557,
          2.7518577575683594,
          1.2781686782836914,
          2.2230746746063232,
          2.287499189376831,
          5.364359378814697,
          5.274436950683594,
          3.0612752437591553,
          2.6299846172332764,
          4.5449323654174805
         ],
         "z": [
          7.772005081176758,
          8.022175788879395,
          8.044526100158691,
          8.1309814453125,
          6.677745819091797,
          8.014409065246582,
          8.047595024108887,
          7.518316745758057,
          9.818580627441406,
          9.606225967407227,
          6.828660011291504,
          6.6371378898620605,
          9.803531646728516,
          9.645535469055176,
          9.652838706970215,
          9.444204330444336,
          8.828837394714355,
          8.893027305603027,
          8.67552375793457,
          8.657355308532715,
          8.538802146911621,
          9.478769302368164,
          9.581056594848633,
          6.593544006347656,
          9.619085311889648,
          5.787936210632324,
          6.587214469909668,
          8.69527816772461,
          8.339070320129395,
          5.674897193908691,
          9.101400375366211,
          9.88322639465332,
          8.067209243774414,
          9.458223342895508,
          7.720294952392578,
          7.801987171173096,
          6.628916263580322,
          7.988091468811035,
          8.30986499786377,
          6.530613899230957,
          6.473766326904297,
          8.837267875671387,
          9.156293869018555,
          8.360285758972168,
          5.36814546585083,
          5.318358421325684,
          8.544169425964355,
          9.512744903564453,
          8.107216835021973,
          8.638162612915039,
          10.11404037475586,
          6.477911472320557,
          10.425843238830566,
          9.671879768371582,
          6.8588385581970215,
          9.659797668457031,
          9.27430534362793,
          7.853706359863281,
          9.520350456237793,
          9.648253440856934,
          5.3705339431762695,
          5.776200771331787,
          6.7005228996276855,
          7.0686564445495605,
          6.37553596496582
         ]
        }
       ],
       "layout": {
        "legend": {
         "title": {
          "text": "speaker"
         },
         "tracegroupgap": 0
        },
        "scene": {
         "domain": {
          "x": [
           0,
           1
          ],
          "y": [
           0,
           1
          ]
         },
         "xaxis": {
          "title": {
           "text": "x"
          }
         },
         "yaxis": {
          "title": {
           "text": "y"
          }
         },
         "zaxis": {
          "title": {
           "text": "z"
          }
         }
        },
        "template": {
         "data": {
          "bar": [
           {
            "error_x": {
             "color": "#2a3f5f"
            },
            "error_y": {
             "color": "#2a3f5f"
            },
            "marker": {
             "line": {
              "color": "#E5ECF6",
              "width": 0.5
             },
             "pattern": {
              "fillmode": "overlay",
              "size": 10,
              "solidity": 0.2
             }
            },
            "type": "bar"
           }
          ],
          "barpolar": [
           {
            "marker": {
             "line": {
              "color": "#E5ECF6",
              "width": 0.5
             },
             "pattern": {
              "fillmode": "overlay",
              "size": 10,
              "solidity": 0.2
             }
            },
            "type": "barpolar"
           }
          ],
          "carpet": [
           {
            "aaxis": {
             "endlinecolor": "#2a3f5f",
             "gridcolor": "white",
             "linecolor": "white",
             "minorgridcolor": "white",
             "startlinecolor": "#2a3f5f"
            },
            "baxis": {
             "endlinecolor": "#2a3f5f",
             "gridcolor": "white",
             "linecolor": "white",
             "minorgridcolor": "white",
             "startlinecolor": "#2a3f5f"
            },
            "type": "carpet"
           }
          ],
          "choropleth": [
           {
            "colorbar": {
             "outlinewidth": 0,
             "ticks": ""
            },
            "type": "choropleth"
           }
          ],
          "contour": [
           {
            "colorbar": {
             "outlinewidth": 0,
             "ticks": ""
            },
            "colorscale": [
             [
              0,
              "#0d0887"
             ],
             [
              0.1111111111111111,
              "#46039f"
             ],
             [
              0.2222222222222222,
              "#7201a8"
             ],
             [
              0.3333333333333333,
              "#9c179e"
             ],
             [
              0.4444444444444444,
              "#bd3786"
             ],
             [
              0.5555555555555556,
              "#d8576b"
             ],
             [
              0.6666666666666666,
              "#ed7953"
             ],
             [
              0.7777777777777778,
              "#fb9f3a"
             ],
             [
              0.8888888888888888,
              "#fdca26"
             ],
             [
              1,
              "#f0f921"
             ]
            ],
            "type": "contour"
           }
          ],
          "contourcarpet": [
           {
            "colorbar": {
             "outlinewidth": 0,
             "ticks": ""
            },
            "type": "contourcarpet"
           }
          ],
          "heatmap": [
           {
            "colorbar": {
             "outlinewidth": 0,
             "ticks": ""
            },
            "colorscale": [
             [
              0,
              "#0d0887"
             ],
             [
              0.1111111111111111,
              "#46039f"
             ],
             [
              0.2222222222222222,
              "#7201a8"
             ],
             [
              0.3333333333333333,
              "#9c179e"
             ],
             [
              0.4444444444444444,
              "#bd3786"
             ],
             [
              0.5555555555555556,
              "#d8576b"
             ],
             [
              0.6666666666666666,
              "#ed7953"
             ],
             [
              0.7777777777777778,
              "#fb9f3a"
             ],
             [
              0.8888888888888888,
              "#fdca26"
             ],
             [
              1,
              "#f0f921"
             ]
            ],
            "type": "heatmap"
           }
          ],
          "heatmapgl": [
           {
            "colorbar": {
             "outlinewidth": 0,
             "ticks": ""
            },
            "colorscale": [
             [
              0,
              "#0d0887"
             ],
             [
              0.1111111111111111,
              "#46039f"
             ],
             [
              0.2222222222222222,
              "#7201a8"
             ],
             [
              0.3333333333333333,
              "#9c179e"
             ],
             [
              0.4444444444444444,
              "#bd3786"
             ],
             [
              0.5555555555555556,
              "#d8576b"
             ],
             [
              0.6666666666666666,
              "#ed7953"
             ],
             [
              0.7777777777777778,
              "#fb9f3a"
             ],
             [
              0.8888888888888888,
              "#fdca26"
             ],
             [
              1,
              "#f0f921"
             ]
            ],
            "type": "heatmapgl"
           }
          ],
          "histogram": [
           {
            "marker": {
             "pattern": {
              "fillmode": "overlay",
              "size": 10,
              "solidity": 0.2
             }
            },
            "type": "histogram"
           }
          ],
          "histogram2d": [
           {
            "colorbar": {
             "outlinewidth": 0,
             "ticks": ""
            },
            "colorscale": [
             [
              0,
              "#0d0887"
             ],
             [
              0.1111111111111111,
              "#46039f"
             ],
             [
              0.2222222222222222,
              "#7201a8"
             ],
             [
              0.3333333333333333,
              "#9c179e"
             ],
             [
              0.4444444444444444,
              "#bd3786"
             ],
             [
              0.5555555555555556,
              "#d8576b"
             ],
             [
              0.6666666666666666,
              "#ed7953"
             ],
             [
              0.7777777777777778,
              "#fb9f3a"
             ],
             [
              0.8888888888888888,
              "#fdca26"
             ],
             [
              1,
              "#f0f921"
             ]
            ],
            "type": "histogram2d"
           }
          ],
          "histogram2dcontour": [
           {
            "colorbar": {
             "outlinewidth": 0,
             "ticks": ""
            },
            "colorscale": [
             [
              0,
              "#0d0887"
             ],
             [
              0.1111111111111111,
              "#46039f"
             ],
             [
              0.2222222222222222,
              "#7201a8"
             ],
             [
              0.3333333333333333,
              "#9c179e"
             ],
             [
              0.4444444444444444,
              "#bd3786"
             ],
             [
              0.5555555555555556,
              "#d8576b"
             ],
             [
              0.6666666666666666,
              "#ed7953"
             ],
             [
              0.7777777777777778,
              "#fb9f3a"
             ],
             [
              0.8888888888888888,
              "#fdca26"
             ],
             [
              1,
              "#f0f921"
             ]
            ],
            "type": "histogram2dcontour"
           }
          ],
          "mesh3d": [
           {
            "colorbar": {
             "outlinewidth": 0,
             "ticks": ""
            },
            "type": "mesh3d"
           }
          ],
          "parcoords": [
           {
            "line": {
             "colorbar": {
              "outlinewidth": 0,
              "ticks": ""
             }
            },
            "type": "parcoords"
           }
          ],
          "pie": [
           {
            "automargin": true,
            "type": "pie"
           }
          ],
          "scatter": [
           {
            "fillpattern": {
             "fillmode": "overlay",
             "size": 10,
             "solidity": 0.2
            },
            "type": "scatter"
           }
          ],
          "scatter3d": [
           {
            "line": {
             "colorbar": {
              "outlinewidth": 0,
              "ticks": ""
             }
            },
            "marker": {
             "colorbar": {
              "outlinewidth": 0,
              "ticks": ""
             }
            },
            "type": "scatter3d"
           }
          ],
          "scattercarpet": [
           {
            "marker": {
             "colorbar": {
              "outlinewidth": 0,
              "ticks": ""
             }
            },
            "type": "scattercarpet"
           }
          ],
          "scattergeo": [
           {
            "marker": {
             "colorbar": {
              "outlinewidth": 0,
              "ticks": ""
             }
            },
            "type": "scattergeo"
           }
          ],
          "scattergl": [
           {
            "marker": {
             "colorbar": {
              "outlinewidth": 0,
              "ticks": ""
             }
            },
            "type": "scattergl"
           }
          ],
          "scattermapbox": [
           {
            "marker": {
             "colorbar": {
              "outlinewidth": 0,
              "ticks": ""
             }
            },
            "type": "scattermapbox"
           }
          ],
          "scatterpolar": [
           {
            "marker": {
             "colorbar": {
              "outlinewidth": 0,
              "ticks": ""
             }
            },
            "type": "scatterpolar"
           }
          ],
          "scatterpolargl": [
           {
            "marker": {
             "colorbar": {
              "outlinewidth": 0,
              "ticks": ""
             }
            },
            "type": "scatterpolargl"
           }
          ],
          "scatterternary": [
           {
            "marker": {
             "colorbar": {
              "outlinewidth": 0,
              "ticks": ""
             }
            },
            "type": "scatterternary"
           }
          ],
          "surface": [
           {
            "colorbar": {
             "outlinewidth": 0,
             "ticks": ""
            },
            "colorscale": [
             [
              0,
              "#0d0887"
             ],
             [
              0.1111111111111111,
              "#46039f"
             ],
             [
              0.2222222222222222,
              "#7201a8"
             ],
             [
              0.3333333333333333,
              "#9c179e"
             ],
             [
              0.4444444444444444,
              "#bd3786"
             ],
             [
              0.5555555555555556,
              "#d8576b"
             ],
             [
              0.6666666666666666,
              "#ed7953"
             ],
             [
              0.7777777777777778,
              "#fb9f3a"
             ],
             [
              0.8888888888888888,
              "#fdca26"
             ],
             [
              1,
              "#f0f921"
             ]
            ],
            "type": "surface"
           }
          ],
          "table": [
           {
            "cells": {
             "fill": {
              "color": "#EBF0F8"
             },
             "line": {
              "color": "white"
             }
            },
            "header": {
             "fill": {
              "color": "#C8D4E3"
             },
             "line": {
              "color": "white"
             }
            },
            "type": "table"
           }
          ]
         },
         "layout": {
          "annotationdefaults": {
           "arrowcolor": "#2a3f5f",
           "arrowhead": 0,
           "arrowwidth": 1
          },
          "autotypenumbers": "strict",
          "coloraxis": {
           "colorbar": {
            "outlinewidth": 0,
            "ticks": ""
           }
          },
          "colorscale": {
           "diverging": [
            [
             0,
             "#8e0152"
            ],
            [
             0.1,
             "#c51b7d"
            ],
            [
             0.2,
             "#de77ae"
            ],
            [
             0.3,
             "#f1b6da"
            ],
            [
             0.4,
             "#fde0ef"
            ],
            [
             0.5,
             "#f7f7f7"
            ],
            [
             0.6,
             "#e6f5d0"
            ],
            [
             0.7,
             "#b8e186"
            ],
            [
             0.8,
             "#7fbc41"
            ],
            [
             0.9,
             "#4d9221"
            ],
            [
             1,
             "#276419"
            ]
           ],
           "sequential": [
            [
             0,
             "#0d0887"
            ],
            [
             0.1111111111111111,
             "#46039f"
            ],
            [
             0.2222222222222222,
             "#7201a8"
            ],
            [
             0.3333333333333333,
             "#9c179e"
            ],
            [
             0.4444444444444444,
             "#bd3786"
            ],
            [
             0.5555555555555556,
             "#d8576b"
            ],
            [
             0.6666666666666666,
             "#ed7953"
            ],
            [
             0.7777777777777778,
             "#fb9f3a"
            ],
            [
             0.8888888888888888,
             "#fdca26"
            ],
            [
             1,
             "#f0f921"
            ]
           ],
           "sequentialminus": [
            [
             0,
             "#0d0887"
            ],
            [
             0.1111111111111111,
             "#46039f"
            ],
            [
             0.2222222222222222,
             "#7201a8"
            ],
            [
             0.3333333333333333,
             "#9c179e"
            ],
            [
             0.4444444444444444,
             "#bd3786"
            ],
            [
             0.5555555555555556,
             "#d8576b"
            ],
            [
             0.6666666666666666,
             "#ed7953"
            ],
            [
             0.7777777777777778,
             "#fb9f3a"
            ],
            [
             0.8888888888888888,
             "#fdca26"
            ],
            [
             1,
             "#f0f921"
            ]
           ]
          },
          "colorway": [
           "#636efa",
           "#EF553B",
           "#00cc96",
           "#ab63fa",
           "#FFA15A",
           "#19d3f3",
           "#FF6692",
           "#B6E880",
           "#FF97FF",
           "#FECB52"
          ],
          "font": {
           "color": "#2a3f5f"
          },
          "geo": {
           "bgcolor": "white",
           "lakecolor": "white",
           "landcolor": "#E5ECF6",
           "showlakes": true,
           "showland": true,
           "subunitcolor": "white"
          },
          "hoverlabel": {
           "align": "left"
          },
          "hovermode": "closest",
          "mapbox": {
           "style": "light"
          },
          "paper_bgcolor": "white",
          "plot_bgcolor": "#E5ECF6",
          "polar": {
           "angularaxis": {
            "gridcolor": "white",
            "linecolor": "white",
            "ticks": ""
           },
           "bgcolor": "#E5ECF6",
           "radialaxis": {
            "gridcolor": "white",
            "linecolor": "white",
            "ticks": ""
           }
          },
          "scene": {
           "xaxis": {
            "backgroundcolor": "#E5ECF6",
            "gridcolor": "white",
            "gridwidth": 2,
            "linecolor": "white",
            "showbackground": true,
            "ticks": "",
            "zerolinecolor": "white"
           },
           "yaxis": {
            "backgroundcolor": "#E5ECF6",
            "gridcolor": "white",
            "gridwidth": 2,
            "linecolor": "white",
            "showbackground": true,
            "ticks": "",
            "zerolinecolor": "white"
           },
           "zaxis": {
            "backgroundcolor": "#E5ECF6",
            "gridcolor": "white",
            "gridwidth": 2,
            "linecolor": "white",
            "showbackground": true,
            "ticks": "",
            "zerolinecolor": "white"
           }
          },
          "shapedefaults": {
           "line": {
            "color": "#2a3f5f"
           }
          },
          "ternary": {
           "aaxis": {
            "gridcolor": "white",
            "linecolor": "white",
            "ticks": ""
           },
           "baxis": {
            "gridcolor": "white",
            "linecolor": "white",
            "ticks": ""
           },
           "bgcolor": "#E5ECF6",
           "caxis": {
            "gridcolor": "white",
            "linecolor": "white",
            "ticks": ""
           }
          },
          "title": {
           "x": 0.05
          },
          "xaxis": {
           "automargin": true,
           "gridcolor": "white",
           "linecolor": "white",
           "ticks": "",
           "title": {
            "standoff": 15
           },
           "zerolinecolor": "white",
           "zerolinewidth": 2
          },
          "yaxis": {
           "automargin": true,
           "gridcolor": "white",
           "linecolor": "white",
           "ticks": "",
           "title": {
            "standoff": 15
           },
           "zerolinecolor": "white",
           "zerolinewidth": 2
          }
         }
        },
        "title": {
         "text": "Full Sentences"
        }
       }
      }
     },
     "metadata": {},
     "output_type": "display_data"
    }
   ],
   "source": [
    "vectors= snt_emb_400\n",
    "proj_3d = UMAP(n_components=3, init='random', random_state=0, metric='cosine').fit_transform(vectors)\n",
    "print('\\n -->3D Projection: ', len(proj_3d))\n",
    "\n",
    "#[+] Create a new dataframe where each sentence is not the sentence embedding projection\n",
    "proj_3d_df= pd.DataFrame(proj_3d, columns= ['x', 'y', 'z'])\n",
    "proj_3d_df['speaker'] = ts_df.speaker\n",
    "proj_3d_df['index'] = ts_df.index\n",
    "print(proj_3d_df.head(), '\\n', len(proj_3d_df))\n",
    "\n",
    "#[+] Map the dataframe of projected embeddings in 3d\n",
    "fig_3d = px.scatter_3d(\n",
    "    proj_3d_df,\n",
    "    x='x', y='y', z='z',\n",
    "    color='speaker', \n",
    "    #labels={'color': 'stance'}\n",
    "    hover_data= 'index',\n",
    "    title= 'Full Sentences'\n",
    ")\n",
    "fig_3d.update_traces(marker_size=3.5)\n",
    "fig_3d.show()"
   ]
  },
  {
   "cell_type": "code",
   "execution_count": 7,
   "metadata": {},
   "outputs": [
    {
     "name": "stderr",
     "output_type": "stream",
     "text": [
      "c:\\Users\\richa\\anaconda3\\lib\\site-packages\\umap\\umap_.py:1945: UserWarning:\n",
      "\n",
      "n_jobs value 1 overridden to 1 by setting random_state. Use no seed for parallelism.\n",
      "\n"
     ]
    },
    {
     "name": "stdout",
     "output_type": "stream",
     "text": [
      "\n",
      " -->3D Projection:  238\n",
      "          x         y          z    speaker  index\n",
      "0  0.026387  5.377555  11.741396  Speaker 1      0\n",
      "1 -0.497412  5.928132  13.300177  Speaker 1      1\n",
      "2 -1.412828  5.625690  13.035725  Speaker 1      2\n",
      "3  2.430344  5.711737  11.170720  Speaker 1      3\n",
      "4 -1.202994  5.026009  13.192148  Speaker 1      4 \n",
      " 238\n"
     ]
    },
    {
     "data": {
      "application/vnd.plotly.v1+json": {
       "config": {
        "plotlyServerURL": "https://plot.ly"
       },
       "data": [
        {
         "customdata": [
          [
           0
          ],
          [
           1
          ],
          [
           2
          ],
          [
           3
          ],
          [
           4
          ],
          [
           5
          ],
          [
           6
          ],
          [
           7
          ],
          [
           8
          ],
          [
           9
          ],
          [
           10
          ],
          [
           11
          ],
          [
           12
          ],
          [
           13
          ],
          [
           14
          ],
          [
           15
          ],
          [
           16
          ],
          [
           17
          ],
          [
           18
          ],
          [
           19
          ],
          [
           20
          ],
          [
           21
          ],
          [
           22
          ],
          [
           23
          ],
          [
           24
          ],
          [
           25
          ],
          [
           26
          ],
          [
           27
          ],
          [
           28
          ],
          [
           29
          ],
          [
           30
          ],
          [
           31
          ],
          [
           32
          ],
          [
           33
          ],
          [
           34
          ],
          [
           35
          ],
          [
           36
          ],
          [
           37
          ],
          [
           38
          ],
          [
           39
          ],
          [
           40
          ],
          [
           41
          ],
          [
           42
          ],
          [
           43
          ],
          [
           44
          ],
          [
           45
          ],
          [
           46
          ],
          [
           47
          ],
          [
           48
          ],
          [
           49
          ],
          [
           50
          ],
          [
           51
          ],
          [
           52
          ],
          [
           53
          ],
          [
           54
          ],
          [
           55
          ],
          [
           56
          ],
          [
           57
          ],
          [
           58
          ],
          [
           59
          ],
          [
           60
          ],
          [
           61
          ],
          [
           62
          ],
          [
           63
          ],
          [
           64
          ],
          [
           65
          ],
          [
           66
          ],
          [
           67
          ],
          [
           68
          ],
          [
           69
          ],
          [
           70
          ],
          [
           71
          ],
          [
           72
          ],
          [
           73
          ],
          [
           74
          ],
          [
           75
          ],
          [
           76
          ],
          [
           77
          ],
          [
           78
          ],
          [
           79
          ],
          [
           80
          ],
          [
           81
          ],
          [
           82
          ],
          [
           83
          ],
          [
           84
          ],
          [
           85
          ],
          [
           86
          ],
          [
           87
          ],
          [
           88
          ],
          [
           89
          ],
          [
           90
          ],
          [
           91
          ],
          [
           92
          ],
          [
           93
          ],
          [
           94
          ],
          [
           95
          ],
          [
           96
          ],
          [
           97
          ],
          [
           98
          ],
          [
           99
          ],
          [
           100
          ],
          [
           101
          ]
         ],
         "hovertemplate": "speaker=Speaker 1<br>x=%{x}<br>y=%{y}<br>z=%{z}<br>index=%{customdata[0]}<extra></extra>",
         "legendgroup": "Speaker 1",
         "marker": {
          "color": "#636efa",
          "size": 3.5,
          "symbol": "circle"
         },
         "mode": "markers",
         "name": "Speaker 1",
         "scene": "scene",
         "showlegend": true,
         "type": "scatter3d",
         "x": [
          0.026387479156255722,
          -0.4974120855331421,
          -1.412827730178833,
          2.4303436279296875,
          -1.2029942274093628,
          3.0832862854003906,
          -1.5716547966003418,
          -1.9262577295303345,
          -1.8575838804244995,
          1.916982650756836,
          -2.083353042602539,
          -2.1083338260650635,
          -0.5149214267730713,
          -0.0018217990873381495,
          0.3626904785633087,
          -0.6808716654777527,
          3.0312421321868896,
          0.49279558658599854,
          -0.29906439781188965,
          0.7467160224914551,
          -0.41070711612701416,
          -0.4224034547805786,
          -1.634688377380371,
          -0.5892947912216187,
          -0.7291818857192993,
          0.5800241827964783,
          1.0537312030792236,
          -1.6927978992462158,
          -0.532921552658081,
          -0.06223828345537186,
          -1.3388137817382812,
          -0.5882352590560913,
          0.9325879216194153,
          0.8941301703453064,
          -0.6192655563354492,
          -0.7437534332275391,
          -0.5999274849891663,
          -0.26623794436454773,
          -0.7928463816642761,
          2.6443843841552734,
          2.003000259399414,
          2.6697638034820557,
          -0.4725950360298157,
          2.859576940536499,
          0.3441901206970215,
          -0.9062178134918213,
          -0.4821833074092865,
          -1.4670263528823853,
          -0.06507520377635956,
          0.019183849915862083,
          0.5981556177139282,
          2.979552745819092,
          -0.249820739030838,
          -0.4704282879829407,
          -0.557163655757904,
          -0.09967515617609024,
          0.6999696493148804,
          0.4213741421699524,
          0.21665258705615997,
          0.3518856167793274,
          1.101304054260254,
          -0.26259684562683105,
          0.26567044854164124,
          1.6457123756408691,
          0.9308969974517822,
          3.208047389984131,
          1.2617368698120117,
          1.2158490419387817,
          0.6062225103378296,
          1.1149426698684692,
          0.6482692956924438,
          0.010897558182477951,
          3.0973153114318848,
          0.12076063454151154,
          0.15964823961257935,
          1.0303080081939697,
          -0.2818155884742737,
          0.2037137895822525,
          -0.7023018002510071,
          1.8019379377365112,
          0.5638407468795776,
          -0.32644134759902954,
          2.6512973308563232,
          2.2843728065490723,
          -0.3856588304042816,
          -0.718216598033905,
          0.2570783495903015,
          -0.2675236761569977,
          -0.49941304326057434,
          1.218194842338562,
          -0.3017887771129608,
          -0.3901229202747345,
          -0.347428560256958,
          1.4254257678985596,
          0.5092895030975342,
          1.1815333366394043,
          -1.0928452014923096,
          0.6479094624519348,
          -0.07461101561784744,
          0.576589822769165,
          0.78440922498703,
          2.6653003692626953
         ],
         "y": [
          5.377554893493652,
          5.928131580352783,
          5.625689506530762,
          5.711737155914307,
          5.026008605957031,
          6.287399768829346,
          5.168405055999756,
          3.9506030082702637,
          4.100656509399414,
          5.20727014541626,
          3.8531877994537354,
          3.813741445541382,
          6.064847946166992,
          4.388192176818848,
          5.263765811920166,
          4.58632230758667,
          6.300857067108154,
          5.125028610229492,
          5.994982719421387,
          5.847759246826172,
          5.998255729675293,
          5.901831150054932,
          4.8691253662109375,
          4.1580023765563965,
          5.858178615570068,
          3.9987242221832275,
          4.118069171905518,
          4.521221160888672,
          5.898025989532471,
          4.61089563369751,
          5.263904094696045,
          6.174336910247803,
          3.9982705116271973,
          3.8073923587799072,
          5.81017541885376,
          6.112325191497803,
          6.3868021965026855,
          5.490000247955322,
          5.2616424560546875,
          6.185948848724365,
          5.562929630279541,
          6.305708885192871,
          4.8660664558410645,
          5.741556644439697,
          5.187838077545166,
          4.055673599243164,
          4.26141357421875,
          5.496363639831543,
          5.440774440765381,
          4.615161895751953,
          3.7016401290893555,
          5.6829681396484375,
          4.155675888061523,
          4.442899227142334,
          5.340724945068359,
          4.5925211906433105,
          3.7721822261810303,
          3.5940613746643066,
          4.06017541885376,
          5.038659572601318,
          4.290549278259277,
          5.414749622344971,
          4.720881938934326,
          5.33085823059082,
          4.284607887268066,
          6.1492109298706055,
          4.3492631912231445,
          4.455403804779053,
          4.110520839691162,
          5.161771774291992,
          4.86950159072876,
          5.797140121459961,
          6.27707576751709,
          5.85958194732666,
          5.755321979522705,
          4.718985080718994,
          3.547457456588745,
          5.174045562744141,
          3.9734761714935303,
          5.6653289794921875,
          3.501344680786133,
          5.697759628295898,
          6.243048667907715,
          5.9193596839904785,
          6.528376579284668,
          6.151177406311035,
          5.837405204772949,
          6.133005619049072,
          6.239838123321533,
          5.515145778656006,
          6.480201721191406,
          6.413235664367676,
          5.26934814453125,
          5.507659912109375,
          6.260480880737305,
          5.678993225097656,
          5.815342426300049,
          5.519346714019775,
          6.501993656158447,
          5.701534271240234,
          5.683557987213135,
          6.223895072937012
         ],
         "z": [
          11.741395950317383,
          13.300176620483398,
          13.035724639892578,
          11.170720100402832,
          13.192148208618164,
          9.747044563293457,
          12.332242012023926,
          13.680052757263184,
          13.687897682189941,
          10.982659339904785,
          13.487147331237793,
          13.264605522155762,
          14.060088157653809,
          12.253286361694336,
          11.231719970703125,
          12.3748140335083,
          9.707474708557129,
          11.483823776245117,
          13.997807502746582,
          11.535787582397461,
          14.183639526367188,
          14.331014633178711,
          12.48192310333252,
          13.960884094238281,
          13.866979598999023,
          13.646892547607422,
          12.64785385131836,
          12.72497844696045,
          14.234197616577148,
          13.986321449279785,
          12.195459365844727,
          13.754634857177734,
          13.262332916259766,
          13.169702529907227,
          13.839622497558594,
          13.909747123718262,
          13.52186393737793,
          13.919427871704102,
          13.293933868408203,
          9.708573341369629,
          11.303078651428223,
          9.788790702819824,
          12.174860954284668,
          10.998795509338379,
          11.830235481262207,
          13.311495780944824,
          12.827157974243164,
          12.296266555786133,
          13.08670711517334,
          13.12205982208252,
          13.127398490905762,
          10.98746109008789,
          13.024735450744629,
          12.964807510375977,
          12.595559120178223,
          13.100313186645508,
          13.072025299072266,
          13.257647514343262,
          13.075119972229004,
          12.563128471374512,
          12.942560195922852,
          12.743342399597168,
          12.12289047241211,
          11.3818998336792,
          12.746057510375977,
          9.734273910522461,
          12.628674507141113,
          13.007391929626465,
          13.029375076293945,
          11.431124687194824,
          13.538832664489746,
          14.011860847473145,
          9.727009773254395,
          13.647951126098633,
          13.107864379882812,
          13.211462020874023,
          14.010050773620605,
          13.681418418884277,
          14.387060165405273,
          10.579620361328125,
          13.349132537841797,
          12.537690162658691,
          9.77235221862793,
          10.297252655029297,
          12.827768325805664,
          13.326171875,
          11.608041763305664,
          12.360610008239746,
          12.47540283203125,
          10.974145889282227,
          12.721636772155762,
          13.260957717895508,
          13.801985740661621,
          10.762259483337402,
          11.996871948242188,
          10.9503173828125,
          12.094539642333984,
          10.997618675231934,
          12.548733711242676,
          11.135493278503418,
          10.844428062438965,
          10.914267539978027
         ]
        },
        {
         "customdata": [
          [
           102
          ],
          [
           103
          ],
          [
           104
          ],
          [
           105
          ],
          [
           106
          ],
          [
           107
          ],
          [
           108
          ],
          [
           109
          ],
          [
           110
          ],
          [
           111
          ],
          [
           112
          ],
          [
           113
          ],
          [
           114
          ],
          [
           115
          ],
          [
           116
          ],
          [
           117
          ],
          [
           118
          ],
          [
           119
          ],
          [
           120
          ],
          [
           121
          ],
          [
           122
          ],
          [
           123
          ],
          [
           124
          ],
          [
           125
          ],
          [
           126
          ],
          [
           127
          ],
          [
           128
          ],
          [
           129
          ],
          [
           130
          ],
          [
           131
          ],
          [
           132
          ],
          [
           133
          ],
          [
           134
          ],
          [
           135
          ],
          [
           136
          ],
          [
           137
          ],
          [
           138
          ],
          [
           139
          ],
          [
           140
          ],
          [
           141
          ],
          [
           142
          ],
          [
           143
          ],
          [
           144
          ],
          [
           145
          ],
          [
           146
          ],
          [
           147
          ],
          [
           148
          ],
          [
           149
          ],
          [
           150
          ],
          [
           151
          ],
          [
           152
          ],
          [
           153
          ],
          [
           154
          ],
          [
           155
          ],
          [
           156
          ],
          [
           157
          ],
          [
           158
          ],
          [
           159
          ],
          [
           160
          ],
          [
           161
          ],
          [
           162
          ],
          [
           163
          ],
          [
           164
          ],
          [
           165
          ],
          [
           166
          ],
          [
           167
          ],
          [
           168
          ],
          [
           169
          ],
          [
           170
          ],
          [
           171
          ],
          [
           172
          ]
         ],
         "hovertemplate": "speaker=Speaker 3<br>x=%{x}<br>y=%{y}<br>z=%{z}<br>index=%{customdata[0]}<extra></extra>",
         "legendgroup": "Speaker 3",
         "marker": {
          "color": "#EF553B",
          "size": 3.5,
          "symbol": "circle"
         },
         "mode": "markers",
         "name": "Speaker 3",
         "scene": "scene",
         "showlegend": true,
         "type": "scatter3d",
         "x": [
          0.2254706770181656,
          -0.008643540553748608,
          0.32856670022010803,
          0.9253417253494263,
          -0.25241726636886597,
          -1.4263920783996582,
          -1.3518770933151245,
          -1.4784693717956543,
          -1.5322829484939575,
          -1.6961418390274048,
          -0.2844800055027008,
          -1.8114941120147705,
          -1.2895334959030151,
          -2.215181827545166,
          -2.1825976371765137,
          -2.2205111980438232,
          2.9217288494110107,
          0.4915999174118042,
          -2.035447359085083,
          -1.5552595853805542,
          -1.9702160358428955,
          -0.8698347210884094,
          2.9448113441467285,
          0.608609139919281,
          1.9739481210708618,
          0.12790773808956146,
          0.4261423945426941,
          -1.3567183017730713,
          -1.3593734502792358,
          -0.4964032769203186,
          -0.866315484046936,
          0.09635809063911438,
          0.2854823172092438,
          -1.1078826189041138,
          3.0393595695495605,
          3.1038877964019775,
          2.391286611557007,
          1.5075370073318481,
          1.3934038877487183,
          0.43221357464790344,
          -0.17831416428089142,
          0.7567203044891357,
          1.0610442161560059,
          1.3135708570480347,
          1.0197336673736572,
          0.9526271820068359,
          0.6241936683654785,
          0.7126812934875488,
          0.3602508008480072,
          0.8144062161445618,
          0.41486722230911255,
          1.8001409769058228,
          0.2995293438434601,
          -1.2132189273834229,
          -1.3184651136398315,
          -1.1733335256576538,
          -1.2183738946914673,
          -1.3740121126174927,
          -1.3246254920959473,
          1.6892287731170654,
          -0.7713552713394165,
          2.6954197883605957,
          -0.7896320223808289,
          0.3151751160621643,
          0.3825702965259552,
          0.6784717440605164,
          -0.3510819971561432,
          -0.06853707879781723,
          1.8618334531784058,
          2.543701648712158,
          2.6672306060791016
         ],
         "y": [
          6.2701826095581055,
          6.284825325012207,
          5.176843166351318,
          5.4671783447265625,
          5.351640701293945,
          5.397205352783203,
          5.385241508483887,
          5.36482572555542,
          5.260638236999512,
          4.060196876525879,
          3.7238705158233643,
          4.031414031982422,
          5.221563816070557,
          3.7508678436279297,
          3.8436365127563477,
          3.7322278022766113,
          6.425949573516846,
          5.286080837249756,
          3.859492540359497,
          4.353060722351074,
          4.197161674499512,
          3.846146821975708,
          5.768044471740723,
          4.672690391540527,
          5.502514362335205,
          5.538309574127197,
          5.008863925933838,
          5.698731899261475,
          5.635180950164795,
          5.729712963104248,
          5.622323989868164,
          6.556972026824951,
          6.449972629547119,
          3.970926284790039,
          5.956618785858154,
          5.89638614654541,
          5.9654412269592285,
          5.2978315353393555,
          5.226362705230713,
          4.968204021453857,
          4.201773166656494,
          4.369801998138428,
          4.3345818519592285,
          4.646781921386719,
          4.244688987731934,
          4.308076858520508,
          4.439835071563721,
          4.603854179382324,
          4.954617977142334,
          4.613811016082764,
          5.264208793640137,
          4.993716716766357,
          5.525325775146484,
          3.921285629272461,
          3.869067430496216,
          3.8383712768554688,
          3.9257848262786865,
          3.894247055053711,
          3.8481216430664062,
          5.289212703704834,
          6.34233283996582,
          5.83493709564209,
          5.800093173980713,
          6.178648471832275,
          6.460880756378174,
          6.064200401306152,
          6.200703144073486,
          6.170764923095703,
          6.08366060256958,
          6.328430652618408,
          6.110131740570068
         ],
         "z": [
          13.169093132019043,
          13.30001163482666,
          11.161229133605957,
          11.244402885437012,
          12.796807289123535,
          13.160722732543945,
          13.88267993927002,
          12.916292190551758,
          12.768081665039062,
          13.831730842590332,
          13.91463565826416,
          13.863725662231445,
          14.169273376464844,
          13.297245025634766,
          13.204910278320312,
          13.379150390625,
          9.610197067260742,
          11.064312934875488,
          13.7068452835083,
          14.20392894744873,
          13.036100387573242,
          14.121376991271973,
          10.911345481872559,
          13.778058052062988,
          11.645378112792969,
          13.15768051147461,
          13.137290954589844,
          12.423055648803711,
          12.552542686462402,
          12.448177337646484,
          12.495537757873535,
          12.910075187683105,
          12.708388328552246,
          13.309917449951172,
          10.605704307556152,
          10.652532577514648,
          10.325447082519531,
          11.23338794708252,
          11.186320304870605,
          12.332465171813965,
          12.296348571777344,
          12.625962257385254,
          12.66584587097168,
          12.007261276245117,
          12.323960304260254,
          12.215136528015137,
          13.405388832092285,
          13.901874542236328,
          12.559093475341797,
          13.866747856140137,
          13.780882835388184,
          11.098628997802734,
          13.53748607635498,
          14.44912338256836,
          14.613619804382324,
          14.493638038635254,
          14.499397277832031,
          14.580301284790039,
          14.642922401428223,
          10.75716495513916,
          13.706385612487793,
          9.983285903930664,
          11.941105842590332,
          12.000443458557129,
          12.444104194641113,
          11.556084632873535,
          12.371434211730957,
          12.046099662780762,
          10.757963180541992,
          10.946545600891113,
          11.075129508972168
         ]
        },
        {
         "customdata": [
          [
           173
          ],
          [
           174
          ],
          [
           175
          ],
          [
           176
          ],
          [
           177
          ],
          [
           178
          ],
          [
           179
          ],
          [
           180
          ],
          [
           181
          ],
          [
           182
          ],
          [
           183
          ],
          [
           184
          ],
          [
           185
          ],
          [
           186
          ],
          [
           187
          ],
          [
           188
          ],
          [
           189
          ],
          [
           190
          ],
          [
           191
          ],
          [
           192
          ],
          [
           193
          ],
          [
           194
          ],
          [
           195
          ],
          [
           196
          ],
          [
           197
          ],
          [
           198
          ],
          [
           199
          ],
          [
           200
          ],
          [
           201
          ],
          [
           202
          ],
          [
           203
          ],
          [
           204
          ],
          [
           205
          ],
          [
           206
          ],
          [
           207
          ],
          [
           208
          ],
          [
           209
          ],
          [
           210
          ],
          [
           211
          ],
          [
           212
          ],
          [
           213
          ],
          [
           214
          ],
          [
           215
          ],
          [
           216
          ],
          [
           217
          ],
          [
           218
          ],
          [
           219
          ],
          [
           220
          ],
          [
           221
          ],
          [
           222
          ],
          [
           223
          ],
          [
           224
          ],
          [
           225
          ],
          [
           226
          ],
          [
           227
          ],
          [
           228
          ],
          [
           229
          ],
          [
           230
          ],
          [
           231
          ],
          [
           232
          ],
          [
           233
          ],
          [
           234
          ],
          [
           235
          ],
          [
           236
          ],
          [
           237
          ]
         ],
         "hovertemplate": "speaker=Speaker 2<br>x=%{x}<br>y=%{y}<br>z=%{z}<br>index=%{customdata[0]}<extra></extra>",
         "legendgroup": "Speaker 2",
         "marker": {
          "color": "#00cc96",
          "size": 3.5,
          "symbol": "circle"
         },
         "mode": "markers",
         "name": "Speaker 2",
         "scene": "scene",
         "showlegend": true,
         "type": "scatter3d",
         "x": [
          -1.3959766626358032,
          -1.1473097801208496,
          -1.5960063934326172,
          -1.0858956575393677,
          1.4601051807403564,
          -1.5381090641021729,
          -1.2927312850952148,
          -0.9915099740028381,
          -1.4909250736236572,
          -1.5574756860733032,
          1.2167017459869385,
          1.5884677171707153,
          -1.7172181606292725,
          -2.0819168090820312,
          -1.7553890943527222,
          -2.029879331588745,
          -0.7387839555740356,
          0.15400569140911102,
          -1.1740331649780273,
          -0.3354926109313965,
          -0.7306070923805237,
          -0.05789637938141823,
          0.08773859590291977,
          2.8247194290161133,
          -0.012655232101678848,
          2.5560925006866455,
          3.1090168952941895,
          -0.8557599186897278,
          -0.27991047501564026,
          2.578861951828003,
          -0.2428598254919052,
          -0.9770515561103821,
          -1.4575920104980469,
          0.06428378075361252,
          -1.2547366619110107,
          -1.5345011949539185,
          1.494377613067627,
          -1.2795445919036865,
          -0.7676210403442383,
          3.1325933933258057,
          3.112722158432007,
          -0.12991325557231903,
          -0.23073863983154297,
          0.040678516030311584,
          3.142747163772583,
          3.0460917949676514,
          0.33307334780693054,
          0.8444425463676453,
          -0.08876471221446991,
          0.18543146550655365,
          -0.5183362364768982,
          1.9235739707946777,
          -0.6739675402641296,
          0.6381517648696899,
          1.0048118829727173,
          -0.016044581308960915,
          0.18082422018051147,
          -0.5780583024024963,
          0.4255422353744507,
          0.44284212589263916,
          3.1373956203460693,
          2.9635860919952393,
          1.0961731672286987,
          0.11562027782201767,
          2.8871500492095947
         ],
         "y": [
          5.658749103546143,
          5.863190650939941,
          5.697694301605225,
          5.969635963439941,
          5.436273574829102,
          5.62780237197876,
          5.701066017150879,
          6.071884632110596,
          3.859687328338623,
          4.061150550842285,
          5.597017288208008,
          5.331727981567383,
          3.666205406188965,
          3.7463223934173584,
          3.6834356784820557,
          3.9674906730651855,
          4.871779918670654,
          4.0978474617004395,
          5.406891345977783,
          4.199530124664307,
          5.550617218017578,
          4.292159557342529,
          4.460906505584717,
          5.920699119567871,
          4.354718208312988,
          6.169370174407959,
          5.604843616485596,
          5.687478542327881,
          4.352110862731934,
          6.19499397277832,
          5.225671768188477,
          3.782719612121582,
          5.570431232452393,
          4.427735328674316,
          5.631560325622559,
          5.674955368041992,
          5.237939357757568,
          5.750743389129639,
          4.793219089508057,
          5.771189212799072,
          5.778759002685547,
          4.070749282836914,
          4.2819318771362305,
          4.885867118835449,
          6.367987632751465,
          6.293757915496826,
          5.344200611114502,
          4.1303181648254395,
          5.974006175994873,
          5.572088718414307,
          3.5649337768554688,
          5.794086456298828,
          3.651216745376587,
          4.355042934417725,
          5.487843036651611,
          4.001058578491211,
          4.348402976989746,
          6.514636993408203,
          4.773287773132324,
          4.72725772857666,
          6.196854591369629,
          5.814803123474121,
          6.145520210266113,
          6.007574558258057,
          6.156478404998779
         ],
         "z": [
          12.21742057800293,
          13.302191734313965,
          13.137716293334961,
          13.548481941223145,
          10.720640182495117,
          13.232985496520996,
          13.482725143432617,
          13.366776466369629,
          13.799821853637695,
          13.836673736572266,
          10.409541130065918,
          10.744315147399902,
          13.67678451538086,
          13.550268173217773,
          13.515218734741211,
          13.183932304382324,
          13.35932445526123,
          12.276556968688965,
          13.992562294006348,
          12.166936874389648,
          13.936969757080078,
          13.72774600982666,
          14.085677146911621,
          10.656966209411621,
          14.1985445022583,
          10.249032020568848,
          10.621626853942871,
          14.15035629272461,
          12.010034561157227,
          10.268057823181152,
          14.018645286560059,
          13.7142972946167,
          12.349838256835938,
          13.808136940002441,
          12.005179405212402,
          12.344228744506836,
          10.638303756713867,
          12.690940856933594,
          12.430510520935059,
          10.860236167907715,
          10.826217651367188,
          12.231925964355469,
          12.534077644348145,
          12.756367683410645,
          9.621167182922363,
          9.672146797180176,
          13.435072898864746,
          13.666616439819336,
          13.242886543273926,
          13.709744453430176,
          13.99183464050293,
          10.593195915222168,
          14.348467826843262,
          13.977112770080566,
          10.74242115020752,
          13.938570976257324,
          13.619470596313477,
          13.097545623779297,
          14.196993827819824,
          14.231529235839844,
          9.66779613494873,
          10.059904098510742,
          11.577478408813477,
          11.782042503356934,
          10.844955444335938
         ]
        }
       ],
       "layout": {
        "legend": {
         "title": {
          "text": "speaker"
         },
         "tracegroupgap": 0
        },
        "scene": {
         "domain": {
          "x": [
           0,
           1
          ],
          "y": [
           0,
           1
          ]
         },
         "xaxis": {
          "title": {
           "text": "x"
          }
         },
         "yaxis": {
          "title": {
           "text": "y"
          }
         },
         "zaxis": {
          "title": {
           "text": "z"
          }
         }
        },
        "template": {
         "data": {
          "bar": [
           {
            "error_x": {
             "color": "#2a3f5f"
            },
            "error_y": {
             "color": "#2a3f5f"
            },
            "marker": {
             "line": {
              "color": "#E5ECF6",
              "width": 0.5
             },
             "pattern": {
              "fillmode": "overlay",
              "size": 10,
              "solidity": 0.2
             }
            },
            "type": "bar"
           }
          ],
          "barpolar": [
           {
            "marker": {
             "line": {
              "color": "#E5ECF6",
              "width": 0.5
             },
             "pattern": {
              "fillmode": "overlay",
              "size": 10,
              "solidity": 0.2
             }
            },
            "type": "barpolar"
           }
          ],
          "carpet": [
           {
            "aaxis": {
             "endlinecolor": "#2a3f5f",
             "gridcolor": "white",
             "linecolor": "white",
             "minorgridcolor": "white",
             "startlinecolor": "#2a3f5f"
            },
            "baxis": {
             "endlinecolor": "#2a3f5f",
             "gridcolor": "white",
             "linecolor": "white",
             "minorgridcolor": "white",
             "startlinecolor": "#2a3f5f"
            },
            "type": "carpet"
           }
          ],
          "choropleth": [
           {
            "colorbar": {
             "outlinewidth": 0,
             "ticks": ""
            },
            "type": "choropleth"
           }
          ],
          "contour": [
           {
            "colorbar": {
             "outlinewidth": 0,
             "ticks": ""
            },
            "colorscale": [
             [
              0,
              "#0d0887"
             ],
             [
              0.1111111111111111,
              "#46039f"
             ],
             [
              0.2222222222222222,
              "#7201a8"
             ],
             [
              0.3333333333333333,
              "#9c179e"
             ],
             [
              0.4444444444444444,
              "#bd3786"
             ],
             [
              0.5555555555555556,
              "#d8576b"
             ],
             [
              0.6666666666666666,
              "#ed7953"
             ],
             [
              0.7777777777777778,
              "#fb9f3a"
             ],
             [
              0.8888888888888888,
              "#fdca26"
             ],
             [
              1,
              "#f0f921"
             ]
            ],
            "type": "contour"
           }
          ],
          "contourcarpet": [
           {
            "colorbar": {
             "outlinewidth": 0,
             "ticks": ""
            },
            "type": "contourcarpet"
           }
          ],
          "heatmap": [
           {
            "colorbar": {
             "outlinewidth": 0,
             "ticks": ""
            },
            "colorscale": [
             [
              0,
              "#0d0887"
             ],
             [
              0.1111111111111111,
              "#46039f"
             ],
             [
              0.2222222222222222,
              "#7201a8"
             ],
             [
              0.3333333333333333,
              "#9c179e"
             ],
             [
              0.4444444444444444,
              "#bd3786"
             ],
             [
              0.5555555555555556,
              "#d8576b"
             ],
             [
              0.6666666666666666,
              "#ed7953"
             ],
             [
              0.7777777777777778,
              "#fb9f3a"
             ],
             [
              0.8888888888888888,
              "#fdca26"
             ],
             [
              1,
              "#f0f921"
             ]
            ],
            "type": "heatmap"
           }
          ],
          "heatmapgl": [
           {
            "colorbar": {
             "outlinewidth": 0,
             "ticks": ""
            },
            "colorscale": [
             [
              0,
              "#0d0887"
             ],
             [
              0.1111111111111111,
              "#46039f"
             ],
             [
              0.2222222222222222,
              "#7201a8"
             ],
             [
              0.3333333333333333,
              "#9c179e"
             ],
             [
              0.4444444444444444,
              "#bd3786"
             ],
             [
              0.5555555555555556,
              "#d8576b"
             ],
             [
              0.6666666666666666,
              "#ed7953"
             ],
             [
              0.7777777777777778,
              "#fb9f3a"
             ],
             [
              0.8888888888888888,
              "#fdca26"
             ],
             [
              1,
              "#f0f921"
             ]
            ],
            "type": "heatmapgl"
           }
          ],
          "histogram": [
           {
            "marker": {
             "pattern": {
              "fillmode": "overlay",
              "size": 10,
              "solidity": 0.2
             }
            },
            "type": "histogram"
           }
          ],
          "histogram2d": [
           {
            "colorbar": {
             "outlinewidth": 0,
             "ticks": ""
            },
            "colorscale": [
             [
              0,
              "#0d0887"
             ],
             [
              0.1111111111111111,
              "#46039f"
             ],
             [
              0.2222222222222222,
              "#7201a8"
             ],
             [
              0.3333333333333333,
              "#9c179e"
             ],
             [
              0.4444444444444444,
              "#bd3786"
             ],
             [
              0.5555555555555556,
              "#d8576b"
             ],
             [
              0.6666666666666666,
              "#ed7953"
             ],
             [
              0.7777777777777778,
              "#fb9f3a"
             ],
             [
              0.8888888888888888,
              "#fdca26"
             ],
             [
              1,
              "#f0f921"
             ]
            ],
            "type": "histogram2d"
           }
          ],
          "histogram2dcontour": [
           {
            "colorbar": {
             "outlinewidth": 0,
             "ticks": ""
            },
            "colorscale": [
             [
              0,
              "#0d0887"
             ],
             [
              0.1111111111111111,
              "#46039f"
             ],
             [
              0.2222222222222222,
              "#7201a8"
             ],
             [
              0.3333333333333333,
              "#9c179e"
             ],
             [
              0.4444444444444444,
              "#bd3786"
             ],
             [
              0.5555555555555556,
              "#d8576b"
             ],
             [
              0.6666666666666666,
              "#ed7953"
             ],
             [
              0.7777777777777778,
              "#fb9f3a"
             ],
             [
              0.8888888888888888,
              "#fdca26"
             ],
             [
              1,
              "#f0f921"
             ]
            ],
            "type": "histogram2dcontour"
           }
          ],
          "mesh3d": [
           {
            "colorbar": {
             "outlinewidth": 0,
             "ticks": ""
            },
            "type": "mesh3d"
           }
          ],
          "parcoords": [
           {
            "line": {
             "colorbar": {
              "outlinewidth": 0,
              "ticks": ""
             }
            },
            "type": "parcoords"
           }
          ],
          "pie": [
           {
            "automargin": true,
            "type": "pie"
           }
          ],
          "scatter": [
           {
            "fillpattern": {
             "fillmode": "overlay",
             "size": 10,
             "solidity": 0.2
            },
            "type": "scatter"
           }
          ],
          "scatter3d": [
           {
            "line": {
             "colorbar": {
              "outlinewidth": 0,
              "ticks": ""
             }
            },
            "marker": {
             "colorbar": {
              "outlinewidth": 0,
              "ticks": ""
             }
            },
            "type": "scatter3d"
           }
          ],
          "scattercarpet": [
           {
            "marker": {
             "colorbar": {
              "outlinewidth": 0,
              "ticks": ""
             }
            },
            "type": "scattercarpet"
           }
          ],
          "scattergeo": [
           {
            "marker": {
             "colorbar": {
              "outlinewidth": 0,
              "ticks": ""
             }
            },
            "type": "scattergeo"
           }
          ],
          "scattergl": [
           {
            "marker": {
             "colorbar": {
              "outlinewidth": 0,
              "ticks": ""
             }
            },
            "type": "scattergl"
           }
          ],
          "scattermapbox": [
           {
            "marker": {
             "colorbar": {
              "outlinewidth": 0,
              "ticks": ""
             }
            },
            "type": "scattermapbox"
           }
          ],
          "scatterpolar": [
           {
            "marker": {
             "colorbar": {
              "outlinewidth": 0,
              "ticks": ""
             }
            },
            "type": "scatterpolar"
           }
          ],
          "scatterpolargl": [
           {
            "marker": {
             "colorbar": {
              "outlinewidth": 0,
              "ticks": ""
             }
            },
            "type": "scatterpolargl"
           }
          ],
          "scatterternary": [
           {
            "marker": {
             "colorbar": {
              "outlinewidth": 0,
              "ticks": ""
             }
            },
            "type": "scatterternary"
           }
          ],
          "surface": [
           {
            "colorbar": {
             "outlinewidth": 0,
             "ticks": ""
            },
            "colorscale": [
             [
              0,
              "#0d0887"
             ],
             [
              0.1111111111111111,
              "#46039f"
             ],
             [
              0.2222222222222222,
              "#7201a8"
             ],
             [
              0.3333333333333333,
              "#9c179e"
             ],
             [
              0.4444444444444444,
              "#bd3786"
             ],
             [
              0.5555555555555556,
              "#d8576b"
             ],
             [
              0.6666666666666666,
              "#ed7953"
             ],
             [
              0.7777777777777778,
              "#fb9f3a"
             ],
             [
              0.8888888888888888,
              "#fdca26"
             ],
             [
              1,
              "#f0f921"
             ]
            ],
            "type": "surface"
           }
          ],
          "table": [
           {
            "cells": {
             "fill": {
              "color": "#EBF0F8"
             },
             "line": {
              "color": "white"
             }
            },
            "header": {
             "fill": {
              "color": "#C8D4E3"
             },
             "line": {
              "color": "white"
             }
            },
            "type": "table"
           }
          ]
         },
         "layout": {
          "annotationdefaults": {
           "arrowcolor": "#2a3f5f",
           "arrowhead": 0,
           "arrowwidth": 1
          },
          "autotypenumbers": "strict",
          "coloraxis": {
           "colorbar": {
            "outlinewidth": 0,
            "ticks": ""
           }
          },
          "colorscale": {
           "diverging": [
            [
             0,
             "#8e0152"
            ],
            [
             0.1,
             "#c51b7d"
            ],
            [
             0.2,
             "#de77ae"
            ],
            [
             0.3,
             "#f1b6da"
            ],
            [
             0.4,
             "#fde0ef"
            ],
            [
             0.5,
             "#f7f7f7"
            ],
            [
             0.6,
             "#e6f5d0"
            ],
            [
             0.7,
             "#b8e186"
            ],
            [
             0.8,
             "#7fbc41"
            ],
            [
             0.9,
             "#4d9221"
            ],
            [
             1,
             "#276419"
            ]
           ],
           "sequential": [
            [
             0,
             "#0d0887"
            ],
            [
             0.1111111111111111,
             "#46039f"
            ],
            [
             0.2222222222222222,
             "#7201a8"
            ],
            [
             0.3333333333333333,
             "#9c179e"
            ],
            [
             0.4444444444444444,
             "#bd3786"
            ],
            [
             0.5555555555555556,
             "#d8576b"
            ],
            [
             0.6666666666666666,
             "#ed7953"
            ],
            [
             0.7777777777777778,
             "#fb9f3a"
            ],
            [
             0.8888888888888888,
             "#fdca26"
            ],
            [
             1,
             "#f0f921"
            ]
           ],
           "sequentialminus": [
            [
             0,
             "#0d0887"
            ],
            [
             0.1111111111111111,
             "#46039f"
            ],
            [
             0.2222222222222222,
             "#7201a8"
            ],
            [
             0.3333333333333333,
             "#9c179e"
            ],
            [
             0.4444444444444444,
             "#bd3786"
            ],
            [
             0.5555555555555556,
             "#d8576b"
            ],
            [
             0.6666666666666666,
             "#ed7953"
            ],
            [
             0.7777777777777778,
             "#fb9f3a"
            ],
            [
             0.8888888888888888,
             "#fdca26"
            ],
            [
             1,
             "#f0f921"
            ]
           ]
          },
          "colorway": [
           "#636efa",
           "#EF553B",
           "#00cc96",
           "#ab63fa",
           "#FFA15A",
           "#19d3f3",
           "#FF6692",
           "#B6E880",
           "#FF97FF",
           "#FECB52"
          ],
          "font": {
           "color": "#2a3f5f"
          },
          "geo": {
           "bgcolor": "white",
           "lakecolor": "white",
           "landcolor": "#E5ECF6",
           "showlakes": true,
           "showland": true,
           "subunitcolor": "white"
          },
          "hoverlabel": {
           "align": "left"
          },
          "hovermode": "closest",
          "mapbox": {
           "style": "light"
          },
          "paper_bgcolor": "white",
          "plot_bgcolor": "#E5ECF6",
          "polar": {
           "angularaxis": {
            "gridcolor": "white",
            "linecolor": "white",
            "ticks": ""
           },
           "bgcolor": "#E5ECF6",
           "radialaxis": {
            "gridcolor": "white",
            "linecolor": "white",
            "ticks": ""
           }
          },
          "scene": {
           "xaxis": {
            "backgroundcolor": "#E5ECF6",
            "gridcolor": "white",
            "gridwidth": 2,
            "linecolor": "white",
            "showbackground": true,
            "ticks": "",
            "zerolinecolor": "white"
           },
           "yaxis": {
            "backgroundcolor": "#E5ECF6",
            "gridcolor": "white",
            "gridwidth": 2,
            "linecolor": "white",
            "showbackground": true,
            "ticks": "",
            "zerolinecolor": "white"
           },
           "zaxis": {
            "backgroundcolor": "#E5ECF6",
            "gridcolor": "white",
            "gridwidth": 2,
            "linecolor": "white",
            "showbackground": true,
            "ticks": "",
            "zerolinecolor": "white"
           }
          },
          "shapedefaults": {
           "line": {
            "color": "#2a3f5f"
           }
          },
          "ternary": {
           "aaxis": {
            "gridcolor": "white",
            "linecolor": "white",
            "ticks": ""
           },
           "baxis": {
            "gridcolor": "white",
            "linecolor": "white",
            "ticks": ""
           },
           "bgcolor": "#E5ECF6",
           "caxis": {
            "gridcolor": "white",
            "linecolor": "white",
            "ticks": ""
           }
          },
          "title": {
           "x": 0.05
          },
          "xaxis": {
           "automargin": true,
           "gridcolor": "white",
           "linecolor": "white",
           "ticks": "",
           "title": {
            "standoff": 15
           },
           "zerolinecolor": "white",
           "zerolinewidth": 2
          },
          "yaxis": {
           "automargin": true,
           "gridcolor": "white",
           "linecolor": "white",
           "ticks": "",
           "title": {
            "standoff": 15
           },
           "zerolinecolor": "white",
           "zerolinewidth": 2
          }
         }
        },
        "title": {
         "text": "First 400 Chars"
        }
       }
      }
     },
     "metadata": {},
     "output_type": "display_data"
    }
   ],
   "source": [
    "vectors= snt_emb_full\n",
    "proj_3d = UMAP(n_components=3, init='random', random_state=0, metric='cosine').fit_transform(vectors)\n",
    "print('\\n -->3D Projection: ', len(proj_3d))\n",
    "\n",
    "#[+] Create a new dataframe where each sentence is not the sentence embedding projection\n",
    "proj_3d_df= pd.DataFrame(proj_3d, columns= ['x', 'y', 'z'])\n",
    "proj_3d_df['speaker'] = ts_df.speaker\n",
    "proj_3d_df['index'] = ts_df.index\n",
    "print(proj_3d_df.head(), '\\n', len(proj_3d_df))\n",
    "\n",
    "#[+] Map the dataframe of projected embeddings in 3d\n",
    "fig_3d = px.scatter_3d(\n",
    "    proj_3d_df,\n",
    "    x='x', y='y', z='z',\n",
    "    color='speaker', \n",
    "    #labels={'color': 'stance'}\n",
    "    hover_data= 'index',\n",
    "    title= 'First 400 Chars'\n",
    ")\n",
    "fig_3d.update_traces(marker_size=3.5)\n",
    "fig_3d.show()"
   ]
  },
  {
   "cell_type": "markdown",
   "metadata": {},
   "source": [
    "## [_] Topic Modelling\n",
    "https://towardsdatascience.com/topic-modeling-with-bert-779f7db187e6"
   ]
  },
  {
   "cell_type": "code",
   "execution_count": 8,
   "metadata": {},
   "outputs": [
    {
     "name": "stdout",
     "output_type": "stream",
     "text": [
      "13 cluster labels:  {0, 1, 2, 3, 4, 5, 6, 7, 8, 9, 10, 11, -1} \n",
      "\n",
      "\n",
      " -->3D Projection:  238\n",
      "          x         y         z    speaker  index  labels\n",
      "0  6.108739  1.223565 -2.393724  Speaker 1      0      -1\n",
      "1  6.401168  2.050539 -4.049073  Speaker 1      1      -1\n",
      "2  7.062026  1.900195 -4.054942  Speaker 1      2      -1\n",
      "3  5.029031  0.173908 -0.277231  Speaker 1      3      -1\n",
      "4  7.143356  1.377014 -3.883331  Speaker 1      4      -1 \n",
      " lenght: 238\n"
     ]
    },
    {
     "data": {
      "application/vnd.plotly.v1+json": {
       "config": {
        "plotlyServerURL": "https://plot.ly"
       },
       "data": [
        {
         "customdata": [
          [
           0
          ],
          [
           1
          ],
          [
           2
          ],
          [
           3
          ],
          [
           4
          ],
          [
           5
          ],
          [
           6
          ],
          [
           7
          ],
          [
           8
          ],
          [
           9
          ],
          [
           10
          ],
          [
           11
          ],
          [
           12
          ],
          [
           13
          ],
          [
           14
          ],
          [
           15
          ],
          [
           16
          ],
          [
           17
          ],
          [
           18
          ],
          [
           19
          ],
          [
           20
          ],
          [
           21
          ],
          [
           22
          ],
          [
           23
          ],
          [
           24
          ],
          [
           25
          ],
          [
           26
          ],
          [
           27
          ],
          [
           28
          ],
          [
           29
          ],
          [
           30
          ],
          [
           31
          ],
          [
           32
          ],
          [
           33
          ],
          [
           34
          ],
          [
           35
          ],
          [
           36
          ],
          [
           37
          ],
          [
           38
          ],
          [
           39
          ],
          [
           40
          ],
          [
           41
          ],
          [
           42
          ],
          [
           43
          ],
          [
           44
          ],
          [
           45
          ],
          [
           46
          ],
          [
           47
          ],
          [
           48
          ],
          [
           49
          ],
          [
           50
          ],
          [
           51
          ],
          [
           52
          ],
          [
           53
          ],
          [
           54
          ],
          [
           55
          ],
          [
           56
          ],
          [
           57
          ],
          [
           58
          ],
          [
           59
          ],
          [
           60
          ],
          [
           61
          ],
          [
           62
          ],
          [
           63
          ],
          [
           64
          ],
          [
           65
          ],
          [
           66
          ],
          [
           67
          ],
          [
           68
          ],
          [
           69
          ],
          [
           70
          ],
          [
           71
          ],
          [
           72
          ],
          [
           73
          ],
          [
           74
          ],
          [
           75
          ],
          [
           76
          ],
          [
           77
          ],
          [
           78
          ],
          [
           79
          ],
          [
           80
          ],
          [
           81
          ],
          [
           82
          ],
          [
           83
          ],
          [
           84
          ],
          [
           85
          ],
          [
           86
          ],
          [
           87
          ],
          [
           88
          ],
          [
           89
          ],
          [
           90
          ],
          [
           91
          ],
          [
           92
          ],
          [
           93
          ],
          [
           94
          ],
          [
           95
          ],
          [
           96
          ],
          [
           97
          ],
          [
           98
          ],
          [
           99
          ],
          [
           100
          ],
          [
           101
          ],
          [
           102
          ],
          [
           103
          ],
          [
           104
          ],
          [
           105
          ],
          [
           106
          ],
          [
           107
          ],
          [
           108
          ],
          [
           109
          ],
          [
           110
          ],
          [
           111
          ],
          [
           112
          ],
          [
           113
          ],
          [
           114
          ],
          [
           115
          ],
          [
           116
          ],
          [
           117
          ],
          [
           118
          ],
          [
           119
          ],
          [
           120
          ],
          [
           121
          ],
          [
           122
          ],
          [
           123
          ],
          [
           124
          ],
          [
           125
          ],
          [
           126
          ],
          [
           127
          ],
          [
           128
          ],
          [
           129
          ],
          [
           130
          ],
          [
           131
          ],
          [
           132
          ],
          [
           133
          ],
          [
           134
          ],
          [
           135
          ],
          [
           136
          ],
          [
           137
          ],
          [
           138
          ],
          [
           139
          ],
          [
           140
          ],
          [
           141
          ],
          [
           142
          ],
          [
           143
          ],
          [
           144
          ],
          [
           145
          ],
          [
           146
          ],
          [
           147
          ],
          [
           148
          ],
          [
           149
          ],
          [
           150
          ],
          [
           151
          ],
          [
           152
          ],
          [
           153
          ],
          [
           154
          ],
          [
           155
          ],
          [
           156
          ],
          [
           157
          ],
          [
           158
          ],
          [
           159
          ],
          [
           160
          ],
          [
           161
          ],
          [
           162
          ],
          [
           163
          ],
          [
           164
          ],
          [
           165
          ],
          [
           166
          ],
          [
           167
          ],
          [
           168
          ],
          [
           169
          ],
          [
           170
          ],
          [
           171
          ],
          [
           172
          ],
          [
           173
          ],
          [
           174
          ],
          [
           175
          ],
          [
           176
          ],
          [
           177
          ],
          [
           178
          ],
          [
           179
          ],
          [
           180
          ],
          [
           181
          ],
          [
           182
          ],
          [
           183
          ],
          [
           184
          ],
          [
           185
          ],
          [
           186
          ],
          [
           187
          ],
          [
           188
          ],
          [
           189
          ],
          [
           190
          ],
          [
           191
          ],
          [
           192
          ],
          [
           193
          ],
          [
           194
          ],
          [
           195
          ],
          [
           196
          ],
          [
           197
          ],
          [
           198
          ],
          [
           199
          ],
          [
           200
          ],
          [
           201
          ],
          [
           202
          ],
          [
           203
          ],
          [
           204
          ],
          [
           205
          ],
          [
           206
          ],
          [
           207
          ],
          [
           208
          ],
          [
           209
          ],
          [
           210
          ],
          [
           211
          ],
          [
           212
          ],
          [
           213
          ],
          [
           214
          ],
          [
           215
          ],
          [
           216
          ],
          [
           217
          ],
          [
           218
          ],
          [
           219
          ],
          [
           220
          ],
          [
           221
          ],
          [
           222
          ],
          [
           223
          ],
          [
           224
          ],
          [
           225
          ],
          [
           226
          ],
          [
           227
          ],
          [
           228
          ],
          [
           229
          ],
          [
           230
          ],
          [
           231
          ],
          [
           232
          ],
          [
           233
          ],
          [
           234
          ],
          [
           235
          ],
          [
           236
          ],
          [
           237
          ]
         ],
         "hovertemplate": "x=%{x}<br>y=%{y}<br>z=%{z}<br>index=%{customdata[0]}<br>labels=%{marker.color}<extra></extra>",
         "legendgroup": "",
         "marker": {
          "color": [
           -1,
           -1,
           -1,
           -1,
           -1,
           11,
           6,
           2,
           2,
           -1,
           2,
           2,
           7,
           0,
           -1,
           -1,
           11,
           -1,
           7,
           -1,
           7,
           7,
           6,
           -1,
           7,
           3,
           3,
           -1,
           7,
           4,
           6,
           7,
           3,
           3,
           7,
           7,
           7,
           -1,
           -1,
           11,
           -1,
           11,
           -1,
           9,
           -1,
           -1,
           0,
           6,
           8,
           -1,
           3,
           9,
           -1,
           -1,
           8,
           -1,
           3,
           -1,
           8,
           8,
           3,
           8,
           -1,
           10,
           3,
           11,
           3,
           3,
           3,
           -1,
           -1,
           7,
           11,
           -1,
           8,
           -1,
           -1,
           -1,
           -1,
           10,
           3,
           -1,
           -1,
           11,
           5,
           -1,
           -1,
           -1,
           -1,
           -1,
           5,
           -1,
           -1,
           10,
           -1,
           10,
           -1,
           10,
           -1,
           -1,
           -1,
           -1,
           -1,
           -1,
           -1,
           -1,
           -1,
           6,
           -1,
           6,
           6,
           2,
           -1,
           2,
           -1,
           2,
           2,
           2,
           11,
           -1,
           2,
           2,
           -1,
           1,
           9,
           4,
           -1,
           8,
           -1,
           6,
           6,
           -1,
           -1,
           5,
           5,
           -1,
           9,
           9,
           10,
           -1,
           10,
           -1,
           0,
           -1,
           3,
           -1,
           3,
           -1,
           4,
           4,
           -1,
           4,
           -1,
           -1,
           8,
           1,
           1,
           1,
           1,
           1,
           1,
           10,
           7,
           11,
           -1,
           -1,
           -1,
           -1,
           5,
           -1,
           -1,
           -1,
           9,
           6,
           6,
           6,
           -1,
           10,
           6,
           -1,
           6,
           2,
           2,
           -1,
           10,
           2,
           2,
           2,
           2,
           -1,
           0,
           -1,
           0,
           7,
           -1,
           -1,
           9,
           -1,
           11,
           9,
           7,
           0,
           11,
           -1,
           -1,
           6,
           4,
           6,
           6,
           10,
           6,
           -1,
           9,
           9,
           0,
           0,
           -1,
           11,
           11,
           8,
           -1,
           -1,
           8,
           1,
           -1,
           -1,
           -1,
           10,
           4,
           -1,
           -1,
           4,
           4,
           11,
           -1,
           -1,
           -1,
           9
          ],
          "coloraxis": "coloraxis",
          "size": 3.5,
          "symbol": "circle"
         },
         "mode": "markers",
         "name": "",
         "scene": "scene",
         "showlegend": false,
         "type": "scatter3d",
         "x": [
          6.108739376068115,
          6.401167869567871,
          7.062026023864746,
          5.029031276702881,
          7.1433563232421875,
          5.424103260040283,
          7.737186431884766,
          8.205079078674316,
          8.161059379577637,
          5.472830772399902,
          8.371040344238281,
          8.414233207702637,
          6.127615928649902,
          6.5696702003479,
          5.922261714935303,
          6.89561128616333,
          5.433929920196533,
          5.937526226043701,
          5.9776763916015625,
          5.60298490524292,
          5.960888385772705,
          6.0222063064575195,
          7.7173967361450195,
          6.668870449066162,
          6.29095983505249,
          5.686891555786133,
          5.557640552520752,
          7.865246295928955,
          5.997891426086426,
          6.23360013961792,
          7.431519508361816,
          6.097091197967529,
          5.521171569824219,
          5.404713153839111,
          6.130198955535889,
          5.978184223175049,
          6.121478080749512,
          6.171611785888672,
          6.604324817657471,
          5.1574296951293945,
          5.032962799072266,
          5.196446418762207,
          6.729689598083496,
          5.091738700866699,
          6.006921768188477,
          7.102417945861816,
          6.693552017211914,
          7.357398509979248,
          5.731832504272461,
          5.762838363647461,
          5.5306077003479,
          4.994184494018555,
          6.050865173339844,
          6.367013454437256,
          6.395216464996338,
          5.887943744659424,
          5.484370708465576,
          5.65391731262207,
          5.924619197845459,
          5.86968994140625,
          5.294321537017822,
          6.020361423492432,
          6.051612854003906,
          5.390064716339111,
          5.148688793182373,
          5.429771423339844,
          5.333467960357666,
          5.376795291900635,
          5.115945816040039,
          5.606551647186279,
          5.451703071594238,
          5.641324520111084,
          5.366127014160156,
          5.72548246383667,
          5.6026997566223145,
          5.399242401123047,
          6.755064010620117,
          5.670144557952881,
          6.7386794090271,
          5.559689044952393,
          5.617422580718994,
          5.73903751373291,
          5.143911361694336,
          5.413772106170654,
          5.516255855560303,
          6.176494121551514,
          5.69856595993042,
          5.951102256774902,
          5.7232208251953125,
          5.563997745513916,
          5.512571811676025,
          5.515804767608643,
          6.237297534942627,
          5.628248691558838,
          5.485585689544678,
          5.904636383056641,
          7.056673049926758,
          5.848728179931641,
          5.398726463317871,
          5.887484550476074,
          5.801927089691162,
          4.861924648284912,
          6.022331237792969,
          6.139999866485596,
          5.991108417510986,
          5.5327911376953125,
          6.2529449462890625,
          7.210762977600098,
          6.892280578613281,
          7.335373401641846,
          7.3962178230285645,
          7.924530506134033,
          6.434391021728516,
          8.076688766479492,
          6.752408981323242,
          8.394401550292969,
          8.4510498046875,
          8.345410346984863,
          5.379910945892334,
          6.035078048706055,
          8.200855255126953,
          7.504668712615967,
          8.107845306396484,
          7.154356479644775,
          4.970661163330078,
          5.43069314956665,
          5.009396553039551,
          5.779390811920166,
          5.614786624908447,
          7.299651622772217,
          7.200211048126221,
          6.046527862548828,
          6.515361785888672,
          5.599515914916992,
          5.602790832519531,
          7.389075756072998,
          5.161688804626465,
          4.986240386962891,
          5.361279010772705,
          5.57309103012085,
          5.690462589263916,
          6.516209602355957,
          6.689213752746582,
          5.185957431793213,
          5.122188091278076,
          5.362382411956787,
          5.374783515930176,
          5.486198425292969,
          5.223612308502197,
          5.426701545715332,
          6.5280280113220215,
          5.416519641876221,
          5.443666934967041,
          5.620884418487549,
          5.6074042320251465,
          7.203828811645508,
          7.308746337890625,
          7.147828102111816,
          7.1111297607421875,
          7.21864652633667,
          7.09252405166626,
          5.573324680328369,
          6.141561508178711,
          5.3580451011657715,
          6.714519023895264,
          5.56003999710083,
          5.4895920753479,
          5.547787189483643,
          5.7806172370910645,
          5.678473949432373,
          5.378225803375244,
          4.789398193359375,
          4.871687412261963,
          7.215153217315674,
          6.630154132843018,
          7.090497970581055,
          6.38336706161499,
          5.705264091491699,
          7.015017986297607,
          6.712743759155273,
          6.465658187866211,
          7.860651016235352,
          7.868810653686523,
          5.8274760246276855,
          5.537113666534424,
          8.139775276184082,
          8.211376190185547,
          8.083518981933594,
          8.427186965942383,
          6.756293296813965,
          6.367972373962402,
          6.666358947753906,
          6.792438507080078,
          6.415849208831787,
          6.315575122833252,
          6.151186466217041,
          5.278858661651611,
          6.130707263946533,
          5.167139053344727,
          5.046168327331543,
          6.336822986602783,
          6.730198383331299,
          5.200298309326172,
          6.1173272132873535,
          7.222141265869141,
          7.337610244750977,
          6.147742748260498,
          7.211474895477295,
          7.2194952964782715,
          5.695644855499268,
          6.99130916595459,
          6.885982036590576,
          4.970269680023193,
          4.930060386657715,
          6.67885160446167,
          6.560986042022705,
          5.499570369720459,
          5.414813995361328,
          5.480681896209717,
          5.541918754577637,
          5.530401229858398,
          5.459957122802734,
          5.536333084106445,
          6.803201675415039,
          5.4734721183776855,
          6.889797687530518,
          5.661028861999512,
          5.903871536254883,
          6.02873420715332,
          5.906260967254639,
          5.521402359008789,
          5.643920421600342,
          5.630354881286621,
          5.299253463745117,
          5.377407550811768,
          5.391028881072998,
          5.631748676300049,
          4.936468124389648
         ],
         "y": [
          1.2235652208328247,
          2.050539016723633,
          1.900194525718689,
          0.17390766739845276,
          1.3770140409469604,
          0.4774218797683716,
          1.7330081462860107,
          0.5505836606025696,
          0.46524742245674133,
          0.23283393681049347,
          0.7936995625495911,
          0.7698787450790405,
          1.8386236429214478,
          0.8679720759391785,
          0.9528159499168396,
          1.1756757497787476,
          0.44472986459732056,
          1.2095667123794556,
          1.6046557426452637,
          1.5808076858520508,
          1.677978515625,
          1.5102336406707764,
          1.7216185331344604,
          0.15221858024597168,
          1.8209319114685059,
          -0.23507125675678253,
          -0.08166289329528809,
          1.5261605978012085,
          1.6232303380966187,
          0.1798866242170334,
          1.8888370990753174,
          1.981908917427063,
          -0.25019779801368713,
          -0.20355376601219177,
          1.748451828956604,
          2.0522871017456055,
          2.3110556602478027,
          1.3446292877197266,
          1.3888224363327026,
          0.4518081247806549,
          0.381583034992218,
          0.39521026611328125,
          1.3424540758132935,
          -0.0772479698061943,
          0.9748086333274841,
          0.28252825140953064,
          0.5112752914428711,
          1.9720648527145386,
          1.3430029153823853,
          0.8727563619613647,
          -0.3789439797401428,
          -0.14727629721164703,
          0.5447021126747131,
          0.7029730081558228,
          1.649841070175171,
          0.771023690700531,
          -0.3559263050556183,
          -0.3855607211589813,
          1.1431621313095093,
          1.1773394346237183,
          0.1796616017818451,
          1.5467137098312378,
          0.8101364374160767,
          0.5735860466957092,
          0.19635304808616638,
          0.4212392568588257,
          0.1326862871646881,
          0.1991991102695465,
          -0.016427554190158844,
          0.8365777730941772,
          0.12318622320890427,
          1.271402359008789,
          0.49687567353248596,
          1.5370049476623535,
          1.444797158241272,
          0.33561307191848755,
          -0.33197250962257385,
          0.9324783682823181,
          -0.20404550433158875,
          0.6204087138175964,
          -0.3343017101287842,
          1.7642954587936401,
          0.4943578541278839,
          0.5987470746040344,
          1.8389989137649536,
          2.2752552032470703,
          1.6264488697052002,
          2.2055904865264893,
          2.08258318901062,
          0.6846643090248108,
          2.107635974884033,
          1.8350210189819336,
          1.2825020551681519,
          0.7807693481445312,
          1.9396350383758545,
          0.9642187356948853,
          2.108938217163086,
          1.1903319358825684,
          2.1076531410217285,
          1.276401400566101,
          1.1636829376220703,
          0.24821044504642487,
          2.2968928813934326,
          2.3562417030334473,
          0.9932910799980164,
          0.9887553453445435,
          1.5628974437713623,
          1.619423508644104,
          1.7913539409637451,
          1.9327998161315918,
          1.9215558767318726,
          0.45848557353019714,
          -0.2021905928850174,
          0.4857555627822876,
          1.649336814880371,
          0.777131199836731,
          0.7528092265129089,
          0.7437826991081238,
          0.44655269384384155,
          1.1028822660446167,
          0.851125955581665,
          0.5107355713844299,
          1.1717389822006226,
          -0.02567359246313572,
          -0.0868934839963913,
          0.050659213215112686,
          0.3531905710697174,
          1.346243977546692,
          0.5284820795059204,
          2.027081251144409,
          1.9543428421020508,
          1.6932318210601807,
          1.7761311531066895,
          2.3792810440063477,
          2.3690993785858154,
          0.4110220968723297,
          0.051329970359802246,
          -0.08507046848535538,
          0.5852561593055725,
          0.6914371848106384,
          0.7422482967376709,
          0.6231683492660522,
          0.5501284599304199,
          0.28354352712631226,
          0.23983800411224365,
          0.27890661358833313,
          0.12133292853832245,
          0.17084333300590515,
          0.10168427228927612,
          -0.12022475153207779,
          0.6445562243461609,
          -0.0408267043530941,
          0.894942581653595,
          0.32828032970428467,
          1.1876966953277588,
          -0.215048149228096,
          -0.3230854570865631,
          -0.3364931643009186,
          -0.400395929813385,
          -0.36957207322120667,
          -0.3571891486644745,
          0.44669729471206665,
          2.2621254920959473,
          0.40213721990585327,
          2.0491905212402344,
          1.8960788249969482,
          2.4480865001678467,
          1.6657990217208862,
          2.095127582550049,
          1.9360647201538086,
          0.8786466717720032,
          0.31906452775001526,
          0.20675334334373474,
          2.09509015083313,
          1.9286797046661377,
          1.87164306640625,
          1.8590002059936523,
          0.7825601100921631,
          1.9346933364868164,
          1.9111309051513672,
          2.1084094047546387,
          0.389299601316452,
          0.3992677330970764,
          0.8323343396186829,
          0.666953444480896,
          0.695024847984314,
          0.8716689348220825,
          0.7247350215911865,
          0.898536205291748,
          0.9616497159004211,
          0.33273905515670776,
          1.7059589624404907,
          0.6289976835250854,
          1.6342378854751587,
          0.022861706092953682,
          0.0552566759288311,
          0.05079768970608711,
          0.03725152090191841,
          0.5950268507003784,
          -0.1113397479057312,
          1.687669038772583,
          0.7760882377624512,
          0.6549341082572937,
          0.9137163162231445,
          0.17715255916118622,
          2.116569995880127,
          0.04101403057575226,
          2.0533008575439453,
          2.0113792419433594,
          0.48968085646629333,
          1.9167643785476685,
          1.3952281475067139,
          -0.16694317758083344,
          -0.19527451694011688,
          0.42359989881515503,
          0.2857477068901062,
          0.8590032458305359,
          0.41185271739959717,
          0.5257293581962585,
          0.9894495606422424,
          -0.12732729315757751,
          1.5702550411224365,
          1.0965670347213745,
          -0.2812875509262085,
          0.6862061619758606,
          -0.40308770537376404,
          -0.12711668014526367,
          1.0051742792129517,
          -0.03721844032406807,
          0.13213787972927094,
          1.8318794965744019,
          -0.0806984230875969,
          -0.05184837058186531,
          0.5658966302871704,
          0.34169721603393555,
          1.608791708946228,
          1.827932357788086,
          0.20005646347999573
         ],
         "z": [
          -2.393723726272583,
          -4.049072742462158,
          -4.0549421310424805,
          -0.2772313356399536,
          -3.883331060409546,
          1.1753928661346436,
          -3.6388723850250244,
          -4.4395904541015625,
          -4.424837589263916,
          -0.6661847233772278,
          -4.50516939163208,
          -4.577221393585205,
          -4.7250800132751465,
          -3.183213710784912,
          -2.0264039039611816,
          -3.30039644241333,
          1.1985437870025635,
          -1.9050530195236206,
          -4.661369800567627,
          -1.8909797668457031,
          -4.678300857543945,
          -4.51957893371582,
          -3.6434690952301025,
          -3.986091375350952,
          -4.532166957855225,
          -3.295447587966919,
          -2.8092405796051025,
          -3.858318567276001,
          -4.691732883453369,
          -4.0103044509887695,
          -3.513864517211914,
          -4.648191928863525,
          -3.1168594360351562,
          -3.0155317783355713,
          -4.42907190322876,
          -4.777205944061279,
          -4.254985809326172,
          -4.381649017333984,
          -4.121514797210693,
          0.7895737290382385,
          -0.9610650539398193,
          0.9257322549819946,
          -3.0751137733459473,
          0.10674234479665756,
          -2.23075008392334,
          -3.8214919567108154,
          -3.3675098419189453,
          -3.4880928993225098,
          -3.853511333465576,
          -3.516289472579956,
          -2.773440361022949,
          0.12344197928905487,
          -3.0754127502441406,
          -3.517327070236206,
          -3.4757912158966064,
          -3.464953660964966,
          -2.7567527294158936,
          -2.8628897666931152,
          -3.374206781387329,
          -3.3949320316314697,
          -2.9499213695526123,
          -3.358914613723755,
          -2.5719830989837646,
          -1.2134640216827393,
          -2.8488495349884033,
          1.273908019065857,
          -2.8329124450683594,
          -3.0698041915893555,
          -3.2351036071777344,
          -1.5711181163787842,
          -3.8451828956604004,
          -4.399472713470459,
          1.2344591617584229,
          -4.13201379776001,
          -3.8302624225616455,
          -3.2568912506103516,
          -3.926523208618164,
          -3.929415464401245,
          -4.4098920822143555,
          -0.24913600087165833,
          -2.9312403202056885,
          -3.4691975116729736,
          0.8314101696014404,
          0.1708116978406906,
          -3.8526358604431152,
          -4.178574562072754,
          -2.1062891483306885,
          -3.627187490463257,
          -3.372191905975342,
          -0.7306877374649048,
          -3.6530961990356445,
          -4.226687908172607,
          -3.7434310913085938,
          -0.7293874025344849,
          -2.308351516723633,
          -0.923548698425293,
          -3.2731754779815674,
          -1.4757360219955444,
          -3.5200233459472656,
          -1.590925931930542,
          -1.3277984857559204,
          -0.04653304070234299,
          -3.77457332611084,
          -3.8287718296051025,
          -2.0360212326049805,
          -1.6030528545379639,
          -3.5061569213867188,
          -3.9333975315093994,
          -4.688785552978516,
          -4.028782367706299,
          -3.9331650733947754,
          -4.254013538360596,
          -3.8332138061523438,
          -4.3827290534973145,
          -4.857450485229492,
          -4.551229476928711,
          -4.5969743728637695,
          -4.526113986968994,
          1.240235447883606,
          -1.8139704465866089,
          -4.582976818084717,
          -4.652580738067627,
          -4.225906848907471,
          -4.27716064453125,
          0.0820472463965416,
          -3.89202618598938,
          -1.1564899682998657,
          -3.683805227279663,
          -3.5795352458953857,
          -3.5322442054748535,
          -3.680964469909668,
          -3.370912551879883,
          -3.4075043201446533,
          -3.7158303260803223,
          -3.5480217933654785,
          -3.9577183723449707,
          0.23612886667251587,
          0.22092875838279724,
          0.2534206509590149,
          -1.1949602365493774,
          -1.0867985486984253,
          -2.6678967475891113,
          -3.177415609359741,
          -2.8390684127807617,
          -2.8317689895629883,
          -2.1802265644073486,
          -2.567186117172241,
          -2.567239999771118,
          -3.5948760509490967,
          -3.9316253662109375,
          -2.6614649295806885,
          -3.943643093109131,
          -3.8964953422546387,
          -0.906380832195282,
          -3.959756851196289,
          -4.4516801834106445,
          -4.558121204376221,
          -4.415915012359619,
          -4.432822227478027,
          -4.490609645843506,
          -4.461307525634766,
          -0.7553795576095581,
          -4.4427666664123535,
          0.6200900077819824,
          -3.0277252197265625,
          -2.5780422687530518,
          -3.4190452098846436,
          -1.9223253726959229,
          -3.2361786365509033,
          -2.7856690883636475,
          -0.21544845402240753,
          -0.1341220587491989,
          -0.058897312730550766,
          -3.316133499145508,
          -4.118947982788086,
          -4.109973907470703,
          -4.3193206787109375,
          -0.7596322298049927,
          -4.155096054077148,
          -4.281105041503906,
          -4.125146865844727,
          -4.187172889709473,
          -4.182511806488037,
          -0.55655837059021,
          -0.6734630465507507,
          -4.432977199554443,
          -4.522000312805176,
          -4.317646503448486,
          -4.4272027015686035,
          -3.7734646797180176,
          -3.055536985397339,
          -4.618164539337158,
          -3.031787395477295,
          -4.488813400268555,
          -3.6010990142822266,
          -3.9966609477996826,
          0.11375496536493301,
          -3.9839720726013184,
          0.4824986457824707,
          0.18059396743774414,
          -4.739546298980713,
          -2.8418538570404053,
          0.39548879861831665,
          -4.281607151031494,
          -3.983097791671753,
          -3.5346875190734863,
          -3.666740655899048,
          -3.2482070922851562,
          -3.3995299339294434,
          -0.8067498803138733,
          -3.671273946762085,
          -3.347520351409912,
          0.13510186970233917,
          0.2021043598651886,
          -3.0614516735076904,
          -3.25413179397583,
          -3.3898091316223145,
          1.2899588346481323,
          1.1365710496902466,
          -3.816007614135742,
          -3.3986995220184326,
          -4.188831329345703,
          -4.114149570465088,
          -3.9134304523468018,
          -0.207951158285141,
          -4.19500732421875,
          -3.735518217086792,
          -0.9650352597236633,
          -3.8666200637817383,
          -3.6552371978759766,
          -4.13597297668457,
          -4.1395087242126465,
          -4.108914375305176,
          1.1795817613601685,
          0.7082194089889526,
          -1.7527329921722412,
          -2.6107351779937744,
          0.05539175868034363
         ]
        }
       ],
       "layout": {
        "coloraxis": {
         "colorbar": {
          "title": {
           "text": "labels"
          }
         },
         "colorscale": [
          [
           0,
           "#0d0887"
          ],
          [
           0.1111111111111111,
           "#46039f"
          ],
          [
           0.2222222222222222,
           "#7201a8"
          ],
          [
           0.3333333333333333,
           "#9c179e"
          ],
          [
           0.4444444444444444,
           "#bd3786"
          ],
          [
           0.5555555555555556,
           "#d8576b"
          ],
          [
           0.6666666666666666,
           "#ed7953"
          ],
          [
           0.7777777777777778,
           "#fb9f3a"
          ],
          [
           0.8888888888888888,
           "#fdca26"
          ],
          [
           1,
           "#f0f921"
          ]
         ]
        },
        "legend": {
         "tracegroupgap": 0
        },
        "scene": {
         "domain": {
          "x": [
           0,
           1
          ],
          "y": [
           0,
           1
          ]
         },
         "xaxis": {
          "title": {
           "text": "x"
          }
         },
         "yaxis": {
          "title": {
           "text": "y"
          }
         },
         "zaxis": {
          "title": {
           "text": "z"
          }
         }
        },
        "template": {
         "data": {
          "bar": [
           {
            "error_x": {
             "color": "#2a3f5f"
            },
            "error_y": {
             "color": "#2a3f5f"
            },
            "marker": {
             "line": {
              "color": "#E5ECF6",
              "width": 0.5
             },
             "pattern": {
              "fillmode": "overlay",
              "size": 10,
              "solidity": 0.2
             }
            },
            "type": "bar"
           }
          ],
          "barpolar": [
           {
            "marker": {
             "line": {
              "color": "#E5ECF6",
              "width": 0.5
             },
             "pattern": {
              "fillmode": "overlay",
              "size": 10,
              "solidity": 0.2
             }
            },
            "type": "barpolar"
           }
          ],
          "carpet": [
           {
            "aaxis": {
             "endlinecolor": "#2a3f5f",
             "gridcolor": "white",
             "linecolor": "white",
             "minorgridcolor": "white",
             "startlinecolor": "#2a3f5f"
            },
            "baxis": {
             "endlinecolor": "#2a3f5f",
             "gridcolor": "white",
             "linecolor": "white",
             "minorgridcolor": "white",
             "startlinecolor": "#2a3f5f"
            },
            "type": "carpet"
           }
          ],
          "choropleth": [
           {
            "colorbar": {
             "outlinewidth": 0,
             "ticks": ""
            },
            "type": "choropleth"
           }
          ],
          "contour": [
           {
            "colorbar": {
             "outlinewidth": 0,
             "ticks": ""
            },
            "colorscale": [
             [
              0,
              "#0d0887"
             ],
             [
              0.1111111111111111,
              "#46039f"
             ],
             [
              0.2222222222222222,
              "#7201a8"
             ],
             [
              0.3333333333333333,
              "#9c179e"
             ],
             [
              0.4444444444444444,
              "#bd3786"
             ],
             [
              0.5555555555555556,
              "#d8576b"
             ],
             [
              0.6666666666666666,
              "#ed7953"
             ],
             [
              0.7777777777777778,
              "#fb9f3a"
             ],
             [
              0.8888888888888888,
              "#fdca26"
             ],
             [
              1,
              "#f0f921"
             ]
            ],
            "type": "contour"
           }
          ],
          "contourcarpet": [
           {
            "colorbar": {
             "outlinewidth": 0,
             "ticks": ""
            },
            "type": "contourcarpet"
           }
          ],
          "heatmap": [
           {
            "colorbar": {
             "outlinewidth": 0,
             "ticks": ""
            },
            "colorscale": [
             [
              0,
              "#0d0887"
             ],
             [
              0.1111111111111111,
              "#46039f"
             ],
             [
              0.2222222222222222,
              "#7201a8"
             ],
             [
              0.3333333333333333,
              "#9c179e"
             ],
             [
              0.4444444444444444,
              "#bd3786"
             ],
             [
              0.5555555555555556,
              "#d8576b"
             ],
             [
              0.6666666666666666,
              "#ed7953"
             ],
             [
              0.7777777777777778,
              "#fb9f3a"
             ],
             [
              0.8888888888888888,
              "#fdca26"
             ],
             [
              1,
              "#f0f921"
             ]
            ],
            "type": "heatmap"
           }
          ],
          "heatmapgl": [
           {
            "colorbar": {
             "outlinewidth": 0,
             "ticks": ""
            },
            "colorscale": [
             [
              0,
              "#0d0887"
             ],
             [
              0.1111111111111111,
              "#46039f"
             ],
             [
              0.2222222222222222,
              "#7201a8"
             ],
             [
              0.3333333333333333,
              "#9c179e"
             ],
             [
              0.4444444444444444,
              "#bd3786"
             ],
             [
              0.5555555555555556,
              "#d8576b"
             ],
             [
              0.6666666666666666,
              "#ed7953"
             ],
             [
              0.7777777777777778,
              "#fb9f3a"
             ],
             [
              0.8888888888888888,
              "#fdca26"
             ],
             [
              1,
              "#f0f921"
             ]
            ],
            "type": "heatmapgl"
           }
          ],
          "histogram": [
           {
            "marker": {
             "pattern": {
              "fillmode": "overlay",
              "size": 10,
              "solidity": 0.2
             }
            },
            "type": "histogram"
           }
          ],
          "histogram2d": [
           {
            "colorbar": {
             "outlinewidth": 0,
             "ticks": ""
            },
            "colorscale": [
             [
              0,
              "#0d0887"
             ],
             [
              0.1111111111111111,
              "#46039f"
             ],
             [
              0.2222222222222222,
              "#7201a8"
             ],
             [
              0.3333333333333333,
              "#9c179e"
             ],
             [
              0.4444444444444444,
              "#bd3786"
             ],
             [
              0.5555555555555556,
              "#d8576b"
             ],
             [
              0.6666666666666666,
              "#ed7953"
             ],
             [
              0.7777777777777778,
              "#fb9f3a"
             ],
             [
              0.8888888888888888,
              "#fdca26"
             ],
             [
              1,
              "#f0f921"
             ]
            ],
            "type": "histogram2d"
           }
          ],
          "histogram2dcontour": [
           {
            "colorbar": {
             "outlinewidth": 0,
             "ticks": ""
            },
            "colorscale": [
             [
              0,
              "#0d0887"
             ],
             [
              0.1111111111111111,
              "#46039f"
             ],
             [
              0.2222222222222222,
              "#7201a8"
             ],
             [
              0.3333333333333333,
              "#9c179e"
             ],
             [
              0.4444444444444444,
              "#bd3786"
             ],
             [
              0.5555555555555556,
              "#d8576b"
             ],
             [
              0.6666666666666666,
              "#ed7953"
             ],
             [
              0.7777777777777778,
              "#fb9f3a"
             ],
             [
              0.8888888888888888,
              "#fdca26"
             ],
             [
              1,
              "#f0f921"
             ]
            ],
            "type": "histogram2dcontour"
           }
          ],
          "mesh3d": [
           {
            "colorbar": {
             "outlinewidth": 0,
             "ticks": ""
            },
            "type": "mesh3d"
           }
          ],
          "parcoords": [
           {
            "line": {
             "colorbar": {
              "outlinewidth": 0,
              "ticks": ""
             }
            },
            "type": "parcoords"
           }
          ],
          "pie": [
           {
            "automargin": true,
            "type": "pie"
           }
          ],
          "scatter": [
           {
            "fillpattern": {
             "fillmode": "overlay",
             "size": 10,
             "solidity": 0.2
            },
            "type": "scatter"
           }
          ],
          "scatter3d": [
           {
            "line": {
             "colorbar": {
              "outlinewidth": 0,
              "ticks": ""
             }
            },
            "marker": {
             "colorbar": {
              "outlinewidth": 0,
              "ticks": ""
             }
            },
            "type": "scatter3d"
           }
          ],
          "scattercarpet": [
           {
            "marker": {
             "colorbar": {
              "outlinewidth": 0,
              "ticks": ""
             }
            },
            "type": "scattercarpet"
           }
          ],
          "scattergeo": [
           {
            "marker": {
             "colorbar": {
              "outlinewidth": 0,
              "ticks": ""
             }
            },
            "type": "scattergeo"
           }
          ],
          "scattergl": [
           {
            "marker": {
             "colorbar": {
              "outlinewidth": 0,
              "ticks": ""
             }
            },
            "type": "scattergl"
           }
          ],
          "scattermapbox": [
           {
            "marker": {
             "colorbar": {
              "outlinewidth": 0,
              "ticks": ""
             }
            },
            "type": "scattermapbox"
           }
          ],
          "scatterpolar": [
           {
            "marker": {
             "colorbar": {
              "outlinewidth": 0,
              "ticks": ""
             }
            },
            "type": "scatterpolar"
           }
          ],
          "scatterpolargl": [
           {
            "marker": {
             "colorbar": {
              "outlinewidth": 0,
              "ticks": ""
             }
            },
            "type": "scatterpolargl"
           }
          ],
          "scatterternary": [
           {
            "marker": {
             "colorbar": {
              "outlinewidth": 0,
              "ticks": ""
             }
            },
            "type": "scatterternary"
           }
          ],
          "surface": [
           {
            "colorbar": {
             "outlinewidth": 0,
             "ticks": ""
            },
            "colorscale": [
             [
              0,
              "#0d0887"
             ],
             [
              0.1111111111111111,
              "#46039f"
             ],
             [
              0.2222222222222222,
              "#7201a8"
             ],
             [
              0.3333333333333333,
              "#9c179e"
             ],
             [
              0.4444444444444444,
              "#bd3786"
             ],
             [
              0.5555555555555556,
              "#d8576b"
             ],
             [
              0.6666666666666666,
              "#ed7953"
             ],
             [
              0.7777777777777778,
              "#fb9f3a"
             ],
             [
              0.8888888888888888,
              "#fdca26"
             ],
             [
              1,
              "#f0f921"
             ]
            ],
            "type": "surface"
           }
          ],
          "table": [
           {
            "cells": {
             "fill": {
              "color": "#EBF0F8"
             },
             "line": {
              "color": "white"
             }
            },
            "header": {
             "fill": {
              "color": "#C8D4E3"
             },
             "line": {
              "color": "white"
             }
            },
            "type": "table"
           }
          ]
         },
         "layout": {
          "annotationdefaults": {
           "arrowcolor": "#2a3f5f",
           "arrowhead": 0,
           "arrowwidth": 1
          },
          "autotypenumbers": "strict",
          "coloraxis": {
           "colorbar": {
            "outlinewidth": 0,
            "ticks": ""
           }
          },
          "colorscale": {
           "diverging": [
            [
             0,
             "#8e0152"
            ],
            [
             0.1,
             "#c51b7d"
            ],
            [
             0.2,
             "#de77ae"
            ],
            [
             0.3,
             "#f1b6da"
            ],
            [
             0.4,
             "#fde0ef"
            ],
            [
             0.5,
             "#f7f7f7"
            ],
            [
             0.6,
             "#e6f5d0"
            ],
            [
             0.7,
             "#b8e186"
            ],
            [
             0.8,
             "#7fbc41"
            ],
            [
             0.9,
             "#4d9221"
            ],
            [
             1,
             "#276419"
            ]
           ],
           "sequential": [
            [
             0,
             "#0d0887"
            ],
            [
             0.1111111111111111,
             "#46039f"
            ],
            [
             0.2222222222222222,
             "#7201a8"
            ],
            [
             0.3333333333333333,
             "#9c179e"
            ],
            [
             0.4444444444444444,
             "#bd3786"
            ],
            [
             0.5555555555555556,
             "#d8576b"
            ],
            [
             0.6666666666666666,
             "#ed7953"
            ],
            [
             0.7777777777777778,
             "#fb9f3a"
            ],
            [
             0.8888888888888888,
             "#fdca26"
            ],
            [
             1,
             "#f0f921"
            ]
           ],
           "sequentialminus": [
            [
             0,
             "#0d0887"
            ],
            [
             0.1111111111111111,
             "#46039f"
            ],
            [
             0.2222222222222222,
             "#7201a8"
            ],
            [
             0.3333333333333333,
             "#9c179e"
            ],
            [
             0.4444444444444444,
             "#bd3786"
            ],
            [
             0.5555555555555556,
             "#d8576b"
            ],
            [
             0.6666666666666666,
             "#ed7953"
            ],
            [
             0.7777777777777778,
             "#fb9f3a"
            ],
            [
             0.8888888888888888,
             "#fdca26"
            ],
            [
             1,
             "#f0f921"
            ]
           ]
          },
          "colorway": [
           "#636efa",
           "#EF553B",
           "#00cc96",
           "#ab63fa",
           "#FFA15A",
           "#19d3f3",
           "#FF6692",
           "#B6E880",
           "#FF97FF",
           "#FECB52"
          ],
          "font": {
           "color": "#2a3f5f"
          },
          "geo": {
           "bgcolor": "white",
           "lakecolor": "white",
           "landcolor": "#E5ECF6",
           "showlakes": true,
           "showland": true,
           "subunitcolor": "white"
          },
          "hoverlabel": {
           "align": "left"
          },
          "hovermode": "closest",
          "mapbox": {
           "style": "light"
          },
          "paper_bgcolor": "white",
          "plot_bgcolor": "#E5ECF6",
          "polar": {
           "angularaxis": {
            "gridcolor": "white",
            "linecolor": "white",
            "ticks": ""
           },
           "bgcolor": "#E5ECF6",
           "radialaxis": {
            "gridcolor": "white",
            "linecolor": "white",
            "ticks": ""
           }
          },
          "scene": {
           "xaxis": {
            "backgroundcolor": "#E5ECF6",
            "gridcolor": "white",
            "gridwidth": 2,
            "linecolor": "white",
            "showbackground": true,
            "ticks": "",
            "zerolinecolor": "white"
           },
           "yaxis": {
            "backgroundcolor": "#E5ECF6",
            "gridcolor": "white",
            "gridwidth": 2,
            "linecolor": "white",
            "showbackground": true,
            "ticks": "",
            "zerolinecolor": "white"
           },
           "zaxis": {
            "backgroundcolor": "#E5ECF6",
            "gridcolor": "white",
            "gridwidth": 2,
            "linecolor": "white",
            "showbackground": true,
            "ticks": "",
            "zerolinecolor": "white"
           }
          },
          "shapedefaults": {
           "line": {
            "color": "#2a3f5f"
           }
          },
          "ternary": {
           "aaxis": {
            "gridcolor": "white",
            "linecolor": "white",
            "ticks": ""
           },
           "baxis": {
            "gridcolor": "white",
            "linecolor": "white",
            "ticks": ""
           },
           "bgcolor": "#E5ECF6",
           "caxis": {
            "gridcolor": "white",
            "linecolor": "white",
            "ticks": ""
           }
          },
          "title": {
           "x": 0.05
          },
          "xaxis": {
           "automargin": true,
           "gridcolor": "white",
           "linecolor": "white",
           "ticks": "",
           "title": {
            "standoff": 15
           },
           "zerolinecolor": "white",
           "zerolinewidth": 2
          },
          "yaxis": {
           "automargin": true,
           "gridcolor": "white",
           "linecolor": "white",
           "ticks": "",
           "title": {
            "standoff": 15
           },
           "zerolinecolor": "white",
           "zerolinewidth": 2
          }
         }
        },
        "title": {
         "text": "DBScan Clustering"
        }
       }
      }
     },
     "metadata": {},
     "output_type": "display_data"
    }
   ],
   "source": [
    "snt_emb= snt_emb_400\n",
    "\n",
    "nhood= 15\n",
    "proj_5d = umap.UMAP(n_neighbors= nhood, \n",
    "                    n_components=5, \n",
    "                    metric='cosine').fit_transform(snt_emb)\n",
    "\n",
    "cluster = hdbscan.HDBSCAN(min_cluster_size=5,\n",
    "                          metric='euclidean',                      \n",
    "                          cluster_selection_method='eom').fit(proj_5d)\n",
    "print(len(set(cluster.labels_)), 'cluster labels: ', set(cluster.labels_), '\\n' )\n",
    "\n",
    "\n",
    "# Prepare data\n",
    "# proj_2d_2 = umap.UMAP(n_neighbors=nhood, \n",
    "#                       n_components=2, \n",
    "#                       min_dist=0.0, \n",
    "#                       metric='cosine').fit_transform(snt_emb)\n",
    "\n",
    "# res_df = pd.DataFrame(proj_2d_2, columns=['x', 'y'])\n",
    "# res_df['labels'] = cluster.labels_\n",
    "# print(res_df.head(), '\\n',res_df.shape)\n",
    "\n",
    "# # Visualize clusters\n",
    "# fig, ax = plt.subplots(figsize=(20, 10))\n",
    "# outliers = res_df.loc[res_df.labels == -1, :]\n",
    "# clustered = res_df.loc[res_df.labels != -1, :]\n",
    "# plt.scatter(outliers.x, outliers.y, color='#BDBDBD', s=20)\n",
    "# plt.scatter(clustered.x, clustered.y, c=clustered.labels, s=20, cmap='hsv_r')\n",
    "# plt.colorbar()\n",
    "\n",
    "proj_3d = UMAP(n_neighbors=nhood,\n",
    "               n_components=3,\n",
    "                init='random',\n",
    "                 min_dist=0.0,\n",
    "                 metric='cosine').fit_transform(snt_emb)\n",
    "print('\\n -->3D Projection: ', len(proj_3d))\n",
    "\n",
    "proj_3d_df= pd.DataFrame(proj_3d, columns= ['x', 'y', 'z'])\n",
    "proj_3d_df['speaker'] = ts_df.speaker\n",
    "proj_3d_df['index'] = ts_df.index\n",
    "proj_3d_df['labels'] = cluster.labels_\n",
    "print(proj_3d_df.head(), '\\n lenght:', len(proj_3d_df))\n",
    "\n",
    "#[+] Map the dataframe of projected embeddings in 3d\n",
    "fig_3d = px.scatter_3d(\n",
    "    proj_3d_df,\n",
    "    x='x', y='y', z='z',\n",
    "    # color= 'speaker',\n",
    "    color='labels', \n",
    "    #labels={'color': 'stance'}\n",
    "    hover_data= 'index',\n",
    "    title= 'DBScan Clustering'\n",
    ")\n",
    "fig_3d.update_traces(marker_size=3.5)\n",
    "fig_3d.show()"
   ]
  },
  {
   "cell_type": "code",
   "execution_count": 9,
   "metadata": {},
   "outputs": [
    {
     "name": "stdout",
     "output_type": "stream",
     "text": [
      " You're saying that you think it's the two narratives. Yeah, but we can't hear you very loudly. Maybe it's much better, much better.\n",
      " So are you surprised by that? Because the point is that there are Native Americans that then seem to support Israel because of the claim for indigeneity. They understand what it's like to be a people, sometimes tribes that have the spiritual dimension to these tribes, they're kicked out of their land and now they want to come back to their land. That's also exactly the story of the Jews, no?\n",
      " Wait, you think the Jews left voluntarily? You think the Jews left Judea voluntarily?\n",
      " Wait, wait, wait. I have some thoughts about this, but Beata, maybe you jump in.\n",
      " First archaeological would probably be 4,000 years ago. Wow.\n",
      " Hmm. Ah. Sounds a little bit like a free pass, man. I got. They they're they're.\n",
      " Can you explain that last sentence again?\n",
      " Beata, what's your take on either option? I mean, it's like I have a video. Oh yeah. And it feels like, did they have a concept of national identity before the Jews begin to immigrate or did they not? And I think that that makes a slight difference in use of smine. Not a whole, but yeah. Do you think that there's one, do you think it was one or the other?\n",
      " Yeah, yeah, yeah. You said imagining that that is true. How would that change your thinking?\n",
      " Does it affect your thinking at all?\n",
      " That's where they developed their national identity. American identity is in reaction to the British somewhat. Like it's not, it means nothing to me. Yeah, like nations come and go and identities continue to battle each other out and to continue to be in flux. And it doesn't mean that you yourself and your family don't have deep claims to the land.\n",
      " No, I feel that they emerged in the action to Jewish immigration. But yeah. Yeah, you got up exactly where I wanted to upset you. So you can hear me OK now? So Yusuf, is that OK if I repeat that? OK, so I was saying that I think it's pretty clear to me that\n",
      " Let me ask you, then, do you think the Jews have claimed to the land because of their indigeneity? Assuming you think they're indigenous? Because of their indigeneity? You said, do you think Palestinians have a right to live on the land because of their indigeneity?\n",
      " Wait, you don't think, you don't think European, sorry. No, no, please, please, please, please. Okay, so you think that European Jews can't make an indigenous claim to the land?\n",
      " I don't, I'm not following.\n",
      " views if you buy it. The distinction itself is preparing. I think that's the claim, right? Beyond, I think you're making the claim that the distinction itself might even have some historical, some bias associated. It's your take on that.\n",
      " I think now she's fully gone. Let me ask you because I think that I have a very different take on these things than both of you guys. But just to proceed with the same analogy that you were going for, let's imagine that the\n",
      " The Portuguese, the British came to North America and they took the Cherokees and sent them into exile in slavery in Europe.\n",
      " I don't think they have a right to go back because they're from there. I don't think the Native Americans have a right to go back because they're from there. I don't think the Palestinians have a right to go back because that's where they're from. I don't believe in that type of thing. I believe that if your ancestors are, just because I can't imagine building a stable international system on the basis of that kind of claim,\n",
      " I want to give you the example that I gave to Yousef, and I think that both of us then settled on clarity, and now I'm pushing back on both of you guys. Was that cool? Okay, so the example was, what happens if, let's say like the British came to North America, captured the Cherokees, and then exiled them into slavery in Europe, and they lived there for 100 years in bondage or whatever,\n",
      " And but they've maintained the same traditions, the same rituals, the same everything. And now after 100 years, they're saying we want to go back to our ancient homeland. That's in Massachusetts. That's where our God is. That's where our traditions are. That's where we formed our national, ethnic, religious, spiritual identity. The question is whether they would have a right to go back by the claim of indigeneity. And I think the Yusuf agreed that they would have that right, even though they're coming from Europe. You're with us, right, Viara, still can hear us?\n",
      " That's right. That's right. So I think you can. I believe Yusuf probably believes that we can too, but let's just imagine for now as an assumption, assuming that he's persuaded that you can, then fine. I still push back on both of these. I actually don't think they have a right to go back. Neither the Cherokees nor the Palestinians.\n",
      " that continues to allow different people to constantly move and demand sovereignty in these different areas and not respect the other people that live there and their sense of immigration policies. I can't imagine what such a system would look like. It sounds incredibly chaotic. The one thing I, this was interesting, last year I went on a trip, I visited lots of countries and every country I went to, I went to the National Museum.\n",
      " But wouldn't the most documented stuff is correct?\n",
      " Right. And my feeling is that Yusef and you probably both agree more on those things than I do. I think that's my suspicion is that I don't think there's any, I don't believe in that concept.\n",
      " Yeah, yeah. But that's a claim for property rights. But I think the claim is about, let's see. Let me ask you, Beata, then this question. Do you think that it should have been the legitimate\n",
      " use of my question then for you is, despite her commitment to indigeneity, or what sounds like a commitment to indigeneity, is it surprising to you how reasonable she sounds on the question of whether Palestinians should have had the rights to reject Jews?\n",
      " Yeah. And it's legitimate whatever they choose. I mean, you may or may not agree with it, but at least you accept that it's legitimate. Yes, if you agree.\n",
      " So you're saying that let's imagine, let's say Japan right now is a country with a government that was an illegitimate government in its origin. It was non-democratic, it was non-liberal, it was monarchical, and probably theocratic in a sense.\n",
      " Should they now not have the rights to choose their own border policy because they had this kind of origin? Yeah, they started an illegitimate form of, yeah, they started illegitimately. That's the claim you're making about the Jews. However they started, right now it's a liberal democracy and all of the people get to choose.\n",
      " And whether or not it had an ignominious beginning, that's the situation now. Would you say the same thing about Pakistan and India? They both had a start with, no, the people didn't really get to choose, and they fled, and exiles, and way worse things that happened in the Natwa. Well, then, are you saying that now Indians and Pakistanis don't have a right to choose their border policy?\n",
      " And I can't imagine where you would choose the starting point. So either you're calling for a global reset or you're calling for only a reset in the case of the Jews. And obviously they would feel like you're targeting them and you're applying a double standard here. One standard for everyone else, second standard for the Jews or something else. But like it's something doesn't sound\n",
      " very workable.\n",
      " yet they don't want to have that conversation of like the pragmatics of the next steps, or at least they want to do it very reluctantly because his family's standing in. Yeah, he's from the, his family's from the West Bank, but now he lives in Jordan. And yeah, so that's,\n",
      " And I feel like that's the use of like, you're right. I mean, oftentimes I like to push for, all right, let's just think about the future. Let's stop worrying about the past. It's difficult to just worry about the future if the narrative people have in mind is that the Jewish state is a Nazi state.\n",
      " You know what I mean? Like, if you were to tell me, okay, now I'll just figure out stuff with the Nazis, I'll be like, wait, what? I can't even begin to process this. They are Nazis. I think it'd be very difficult for me. And I have a feeling that that's kind of how a lot of Arabs just see Israel. They see Israel the way I see the Nazis. And so there is no compromise. I'm not gonna sit in the room with Nazis right now. It's not gonna happen. So in some way we have to kind of,\n",
      " remove that, we have to dismantle that parsing, that impression. And I also think that on that note, Israel has a lot of responsibility here to try to remove that impression. And they could do more to remove that impression, to clean that up. But the rest of the world has even more responsibility. Honestly, people in America have the most responsibility, I think, and Europeans, not to add\n",
      " fuel to the flame and really to try to because I feel like they have they tend to have a little bit less\n",
      " Palestinians can't now be magnanimous and be able to really try to understand how the world looks like from the Jewish and from the Israeli. They can't. They're now in survival mode. I can't expect that. But what I hope is for the rest of the world to be able to see the narratives and proportion and not to stoke up the flames in the region. And I feel like they're doing the exact opposite.\n",
      " Why? Because again, I think it's easier for them to carve out their own identity, their own social status. Perhaps it's for the white Americans to launder their guilt on the Middle East or to clean up or to seem like they're in support of black and brown people in America. It's all about that. And it has nothing to do with actual concern for the people in the region. It has much more to do with concern for them and their own social standing. And I feel like that is the end of something.\n",
      " It's a good book. I saw a party one time, and my mom didn't know who she was. My mom walked up to her.\n",
      " It used to be somebody who's a little bit more on that side. Do you see that at all? Or is that just what Jews tell themselves? No, no, I want to know.\n",
      " for Abdullah and like more of the pro-Palestine side. And I was playing a, for these conversations I tend to play like a pro-Israeli side, but I feel like I can, I can, another conversations I can play with better, I think persuasive pro-Palestinian side. So on those conversations I was trying to do, oh yeah, so yesterday we tried to come up with like an exercise for 10 minutes. Can we reach some, what can we agree on?\n",
      " in terms of next steps. And we were thinking about that and then Abdullah was like, I think I can't really see anything to agree on right now, it'd be too difficult. I think I can only really see the downsides and how things can go wrong. So we're like, all right, so let's do that exercise first. So then we came up with like a very large mind map of all the different things that can go wrong.\n",
      " And now it's just like a massive kind of mind map. And now I think the next step we wanted to say, all right, now how do we tackle each one of them and convert them into something good as opposed to something bad? Open another exercise. I'll send that to you too. I'll send it. You might like it. Gmail or Berkeley would be better. Yeah, yes.\n",
      " OK, so I'll send it to Jimin. All right, guys, this has been fun. Thank you very much. Yeah, thanks. Thanks. See ya.\n",
      " Yeah, I was just saying that I think it's pretty obvious why Native Americans would side with Palestinians. I didn't really know that there were Palestinians, that there were Native Americans who were pro-Israel. Sorry, is this better?\n",
      " Yeah, I was just saying that I'm not surprised that that they're Native Americans who are pro-Palestinian, but I didn't know about pro-Israel.\n",
      " I don't know if I fully understood. Can you explain the timeline that you're talking about a little more clearly?\n",
      " Um, okay. So the first point is that, okay. Well, the first, the first point I have, I take, I think it's interest, uh, like flawed reasoning because\n",
      " Like that's like, for example, I had a Palestinian friend who relocated to Bahrain after the Nakba and now she, that's her home. Right. And so like what you're saying about the Jews who live there. Or who like our origins are from Israel, which is like.\n",
      " um ruling force was that was in israel for up until the british colonized palestine and um secondly about the indigenous or wait what was the second one the second part was about oh the fact that the jews never had to deal with colonialism i don't think that is\n",
      " The power would just shift from hand to hand whoever was the ruling power and the people it's different the different peoples on whatever land was being dominated would vary based off of what the what the ruling power thought they should do with the various types of people that lived on the land.\n",
      " colonialism before the British colonialism. Also, do you think that Palestine existed before the British colonized as a country and as a nationhood, like as a national identity?\n",
      " Let me repeat the two options. I started reading something. I think it's pretty clear to me envisioning what it was like back then.\n",
      " though, during the Ottomans Empire before the Jews started immigrating in large waves. Was it mainly Arabs? So yeah, I think that there was like a collective Arab identity and I think that identity still exists, but now there's also the national identities that each Arab has, depending on what country they live in.\n",
      " I also think, no, go ahead. You go first. Well, I don't, but you're responding to what he said specifically and I'm responding to something more general.\n",
      " So like, does she not have a right of return then? Is that what you're saying too?\n",
      " And so, like, when people are advocating for Palestinian right of return, they're like, okay, yeah, I guess it also makes sense to have, like, the Middle Eastern Jews have a right of return because, like, we were for the Middle East in general. If they're not anti-Semitic, if they are, then they're like, well, the Palestinians get all of it, and Palestine should be Arab from the river to the sea, right?\n",
      " Um, but yeah, I think that might be that I can, that's the only thing I can think of there being a reason to have a distinguishing between, um, the Middle Eastern Jews and the European Jews right to return to Israel. Dash Palestine. Let me know if I can clarify anything.\n",
      " And so it's like, the Europeans were nice.\n",
      " I mean, I don't think that it's very wise to go based off feeling though.\n",
      " So these are tangible reasons why somebody feels emotionally attached to a place. But I think determining it by an individual's feelings towards a certain place means that if a Korean who had never been to Greece but went to the Agora or the Metropolis or whatever,\n",
      " 23andMe, no genetic ties, no historic ties, no religious ties, nothing, then I don't think it makes sense for each person to be able to determine, oh, this is like, I think you should be able to apply and go through the process and legally immigrate and become a Greek if you want to, but yeah.\n",
      " I don't think I agree with it because I think it's just, I think it's, I think there's like each human being has various senses of community and like belonging within a certain group. And I don't think you can, it's, I think it's kind of dangerous to ignore that aspect.\n",
      " like people who have mixed identities for example mixed ethnicities already you can see like people are having very serious difficulties because they don't feel like they belong in either one of them fully.\n",
      " like actually living there because at the same time there's so many different ways of living that you could definitely figure if you really wanted to be somewhere you could figure out a way to be there.\n",
      " just as like people in the United States have a right to determine who they're going to elect based off of what their stance is on immigration policy. But then the question is, do I think that they should have rejected the waves of Jewish immigration? No. But do they have the right to determine who comes and who goes based on the current framework of how all countries work and are run? Yes.\n",
      " That's what I said. Yeah, I mean, they're the ones that are the...\n",
      " Yeah. Yeah, definitely. That resonates with me. And also, I mean, I think a lot of these people don't fully realize that. I think like, I think maybe the Jewish Americans maybe realize it.\n",
      " that they're doing it because like they feel specifically socially attacked if they're not like out at the protests because that's what happened to me personally and that's what I like I read a book on\n",
      " Um, by Barry Wallace, who, who was, who wrote a book called how to fight antisemitism. And she was talking about her personal experiences where like there's anti quote unquote anti Zionist Jews. And then, and then it's just the two of them late at night and they go out and they, they say that they pour their souls out to her. Um, but yeah, it's small, it's short. You can read it in like a day.\n",
      " um i wouldn't say it's like too too helpful but it was good for me when i was going through my realizations about the state of things at the after october 7th um that's so cool\n",
      " But the reality is that they're not actually doing it for the cause. They're doing it because it makes them feel good to fight against something that. Hypothetical like this concept and they just like to project their previous plates onto the onto the conflict instead of opening their eyes and seeing what's actually going on.\n",
      " Oh, sorry, I didn't mean to like, at you.\n",
      " Yeah, I sent it. Yeah, thanks. I'm impartial.\n",
      " I feel like for most people, they just think is like the people living in Israel now, like their ancestry comes from that area. But before 1948, they were able to like relook and live in other places. So whereas compared to Palestinians, they have been living there for many years and never having to face this kind of threat until 48.\n",
      " or not built, but acclimated to other civilizations for a while, even though it had its hardships that they were discriminated against. Whereas compared to the Palestinians, they've been living there for many, many years, even before 48. So it's starting from 48 that they had to leave as well and go build some other\n",
      " Mm hmm. All right. I thought that's yeah, I thought that's interesting. Yeah, most recent, like. Mm hmm.\n",
      " I don't know, because it's still like, before the Jews started coming in, they still knew who they were. They had their identity, they knew that they were native, not like native, but like indigenous, and they were living in that land before the Jews started coming back.\n",
      " There were Arabs amongst themselves seeing Jews within that land. And then that kind of subsection that was made by the British to be what is now Palestine slash Israel. It would change it a little bit because to them back then they didn't really have any commonality between them.\n",
      " you didn't really, you technically didn't have, it wasn't really your land to begin with until like a little bit ago. And like when it was made, you didn't really have a sense of national identity. So it might be a little bit more persuasive that way. Like I would, I would still feel like\n",
      " they have a reason to want the land for themselves, but I would be more understanding if they had a national identity before the juice came in than starting that national identity after.\n",
      " I feel like it would still be like what I said before, like if they only had a national identity after the juice started moving in, I would still feel like I can understand their claim for wanting the land for themselves, but I can also see like why either side would want it. That makes sense.\n",
      " Yeah. I don't blame them for wanting, I don't blame the Palestinians for wanting the land for themselves if they wanted to split off from what they saw as European control. But it's also maybe not as strong of a point than if they had a national identity before\n",
      " And it was like the people felt that like they had established their nation, they established their people. And then the British came along and just like took over that.\n",
      " descendants of that time, like European rather than Arab or Middle Eastern. And now they're coming here. I feel like, I feel like creating that distinction is like something that created like this service to the Jews that were coming back because now they had to live with that like title that they were Europeans and kind of taking, taking away where they came from.\n",
      " If they do that and it's because it'll say like, yes, they originated from the Middle East that they are Middle Eastern, then yeah, they should have the right to go back to the Middle East where they came from.\n",
      " I feel like that's where I disagree because if you became the government that you are now through some other means that didn't give the people the right to decide if they wanted you to begin with, I feel like it also shouldn't apply because if\n",
      " If the Palestinian, like there are two scenarios that I see that could go either way. If the Palestinian had the right to decide for themselves if they wanted the Jews in or not, and they let them in, and we got this situation that we have now, which I still think wouldn't be the case if they were let in peacefully, but like, just for the sake of the analogy, like if\n",
      " I look.\n",
      " And in both of those situations were the Pakistani and Indian or like the Japanese were was their government was like the governmental decisions that were made for those under a party that was different from the people that were living there. Was the decision was.\n",
      " Yeah, I think in both of those situations, like the countries themselves before, like without, without the colonialism should have had the right to decide. And now that\n",
      " Okay. Then, yeah, the same, I feel like the same logic applies if you got back country illegitimately. It's like, I don't see why you should have a say if the people you originally took it from who didn't really want to say why you should control if they get to come back or not.\n",
      " I think if I had to summarize what I think about it is because a lot of how I feel about it now is because of what's happening. And I feel like even though it started with violence from the Arabs, I feel like the situation now to me at least feels less\n",
      " Yeah, me too.\n",
      " No, you're fine. Yeah. I never really like shocked me a certain way because that was like how I like envisioned like the protests going. But yeah, like it's not really my like view as well, like either. So like,\n",
      " Want to project that onto another group and like to try to like fight back like it's not it's like missing or like missed the point of like what the actual conflict is. Or the point of like finding a resolution.\n"
     ]
    }
   ],
   "source": [
    "for i,e in enumerate(cluster.labels_):\n",
    "    if e== -1: print(sentences[i])"
   ]
  },
  {
   "cell_type": "markdown",
   "metadata": {},
   "source": [
    "## Summary Processing"
   ]
  },
  {
   "cell_type": "code",
   "execution_count": 20,
   "metadata": {},
   "outputs": [
    {
     "name": "stdout",
     "output_type": "stream",
     "text": [
      "    topic                                           sentence  \\\n",
      "0  topic1  I think it's fascinating how some Native Ameri...   \n",
      "1  topic1  There’s a lot of similarity between Native Ame...   \n",
      "2  topic1  It makes sense that Native Americans would sup...   \n",
      "3  topic2  The Jewish claim to Israel is deeply rooted in...   \n",
      "4  topic2  I see the argument for Jewish indigeneity, but...   \n",
      "\n",
      "                                           embedding  \n",
      "0  [-0.07896777, 0.11289133, -0.0103871375, 0.030...  \n",
      "1  [-0.09552511, 0.09052141, 0.0006565145, 0.0350...  \n",
      "2  [-0.092669226, 0.09681143, -0.0112264315, 0.05...  \n",
      "3  [-0.017652608, 0.05714198, 0.018672587, 0.0042...  \n",
      "4  [-0.033343498, 0.05749682, 0.000992715, 0.0276...   (9, 3) \n",
      "\n",
      "topic1 _avg 1x 768\n",
      "topic2 _avg 1x 768\n",
      "topic3 _avg 1x 768\n"
     ]
    }
   ],
   "source": [
    "topics ={\n",
    "    'topic1': [\"I think it's fascinating how some Native Americans relate to the Jewish experience of displacement and return, especially through their claim of indigeneity. They see a parallel between their spiritual connection to their land and the Jewish return to Israel, which makes them sympathize with Israel’s cause, even though it might seem counterintuitive given their own history of being displaced.\",\n",
    "                \"There’s a lot of similarity between Native Americans and Palestinians. Both were indigenous peoples who remained on their land for centuries, while others—like Jews—left, resettled elsewhere, and then later tried to come back. This shared experience of colonialism is why Native Americans naturally side with Palestinians.\",\n",
    "               \"It makes sense that Native Americans would support Palestinians. Both groups have suffered under colonialist rule. What surprised me, though, was finding out that there are Native Americans who support Israel. It’s hard for me to see that connection, especially given the colonial dynamic.\"\n",
    "                ],\n",
    "    'topic2': [\"The Jewish claim to Israel is deeply rooted in their historical indigeneity. They were displaced from their homeland, just like Native Americans, and many other groups in history. This longing to return to their ancestral land is not just political—it’s spiritual. They’ve maintained a connection to this land for thousands of years, and that’s why their claim resonates with the concept of indigeneity.\",\n",
    "                \"I see the argument for Jewish indigeneity, but there’s a difference. Jews left their homeland and were able to adapt elsewhere, even if they faced challenges. Palestinians, on the other hand, stayed on their land until they were forcibly removed in 1948. It’s not the same kind of displacement.\",\n",
    "                \"I don’t buy the argument that Jews never faced colonialism. They were kicked out of Israel multiple times and had to endure persecution wherever they settled—be it in Europe or the Middle East. The claim of indigeneity works for both Palestinian Arabs and Jews, especially the Jews from the Middle East who never left the region.\"\n",
    "                ],\n",
    "    'topic3': [\"Colonialism has shaped the history of so many groups, including Jews. Jews were not just victims of European colonialism, but also of Ottoman and other powers. It’s important not to view colonialism only through the European lens—it’s been a universal phenomenon, and Jews have had to survive under various forms of colonial rule.\",\n",
    "                \"Colonialism is the shared trauma that connects Native Americans and Palestinians. Both experienced being ruled by outsiders, and Palestinians are still under what feels like a form of colonial rule today. That’s why the Palestinian struggle resonates so much with people who have experienced colonialism firsthand.\",\n",
    "                \"Colonialism is a constant in human history. Different empires—be they European, Ottoman, or others—have always taken land from people. To single out one form of colonialism while ignoring others is to miss the larger picture. Jews, too, were affected by colonization, and we need to see these histories in a more interconnected way.\"\n",
    "                ],\n",
    "}\n",
    "\n",
    "topic_emb_df= pd.DataFrame(columns= ['topic','sentence', 'embedding'])\n",
    "for k in topics.keys():\n",
    "    for s in topics[k]:\n",
    "        newEntry= pd.DataFrame([{'topic': k, 'sentence':s, 'embedding': emb_model.encode(s)}])\n",
    "        topic_emb_df= pd.concat([topic_emb_df, newEntry], ignore_index= True)\n",
    "print(topic_emb_df.head(),topic_emb_df.shape, '\\n')\n",
    "\n",
    "topic_emb_avg= {}\n",
    "for k in topics.keys():\n",
    "    emb= emb_model.encode(topics[k])\n",
    "    emb_avg= np.mean(emb, axis=0)\n",
    "    topic_emb_avg[k]= emb_avg\n",
    "for k,v in topic_emb_avg.items():print(k,'_avg: 1x',len(v))"
   ]
  },
  {
   "cell_type": "code",
   "execution_count": 19,
   "metadata": {},
   "outputs": [
    {
     "name": "stdout",
     "output_type": "stream",
     "text": [
      "vectors: <class 'list'> \n",
      " [-0.07896777  0.11289133 -0.01038714  0.03086104 -0.03055891]\n"
     ]
    },
    {
     "name": "stderr",
     "output_type": "stream",
     "text": [
      "c:\\Users\\richa\\anaconda3\\lib\\site-packages\\umap\\umap_.py:1945: UserWarning:\n",
      "\n",
      "n_jobs value 1 overridden to 1 by setting random_state. Use no seed for parallelism.\n",
      "\n",
      "c:\\Users\\richa\\anaconda3\\lib\\site-packages\\umap\\umap_.py:2437: UserWarning:\n",
      "\n",
      "n_neighbors is larger than the dataset size; truncating to X.shape[0] - 1\n",
      "\n"
     ]
    },
    {
     "name": "stdout",
     "output_type": "stream",
     "text": [
      "\n",
      " -->3D Projection:  9\n",
      "          x         y         z   topic  index\n",
      "0  5.621573  3.577007 -1.926784  topic1      0\n",
      "1  6.356977  3.265422 -1.059515  topic1      1\n",
      "2  6.226356  3.026010 -1.879378  topic1      2\n",
      "3  4.865344  3.184132 -1.202710  topic2      3\n",
      "4  5.225440  3.059881 -0.477132  topic2      4 \n",
      " 9\n"
     ]
    },
    {
     "data": {
      "application/vnd.plotly.v1+json": {
       "config": {
        "plotlyServerURL": "https://plot.ly"
       },
       "data": [
        {
         "customdata": [
          [
           0
          ],
          [
           1
          ],
          [
           2
          ]
         ],
         "hovertemplate": "topic=topic1<br>x=%{x}<br>y=%{y}<br>z=%{z}<br>index=%{customdata[0]}<extra></extra>",
         "legendgroup": "topic1",
         "marker": {
          "color": "#636efa",
          "size": 9,
          "symbol": "circle"
         },
         "mode": "markers",
         "name": "topic1",
         "scene": "scene",
         "showlegend": true,
         "type": "scatter3d",
         "x": [
          5.621572971343994,
          6.356976509094238,
          6.22635555267334
         ],
         "y": [
          3.5770070552825928,
          3.2654216289520264,
          3.0260097980499268
         ],
         "z": [
          -1.926783800125122,
          -1.0595146417617798,
          -1.8793776035308838
         ]
        },
        {
         "customdata": [
          [
           3
          ],
          [
           4
          ],
          [
           5
          ]
         ],
         "hovertemplate": "topic=topic2<br>x=%{x}<br>y=%{y}<br>z=%{z}<br>index=%{customdata[0]}<extra></extra>",
         "legendgroup": "topic2",
         "marker": {
          "color": "#EF553B",
          "size": 9,
          "symbol": "circle"
         },
         "mode": "markers",
         "name": "topic2",
         "scene": "scene",
         "showlegend": true,
         "type": "scatter3d",
         "x": [
          4.8653435707092285,
          5.225439548492432,
          5.073217391967773
         ],
         "y": [
          3.1841318607330322,
          3.0598814487457275,
          3.913141965866089
         ],
         "z": [
          -1.2027100324630737,
          -0.47713181376457214,
          -0.2584589719772339
         ]
        },
        {
         "customdata": [
          [
           6
          ],
          [
           7
          ],
          [
           8
          ]
         ],
         "hovertemplate": "topic=topic3<br>x=%{x}<br>y=%{y}<br>z=%{z}<br>index=%{customdata[0]}<extra></extra>",
         "legendgroup": "topic3",
         "marker": {
          "color": "#00cc96",
          "size": 9,
          "symbol": "circle"
         },
         "mode": "markers",
         "name": "topic3",
         "scene": "scene",
         "showlegend": true,
         "type": "scatter3d",
         "x": [
          5.62178373336792,
          6.181634902954102,
          5.000636100769043
         ],
         "y": [
          4.422849655151367,
          4.189049243927002,
          4.437951564788818
         ],
         "z": [
          -0.4655001163482666,
          -1.306133508682251,
          -0.973493218421936
         ]
        }
       ],
       "layout": {
        "legend": {
         "title": {
          "text": "topic"
         },
         "tracegroupgap": 0
        },
        "scene": {
         "domain": {
          "x": [
           0,
           1
          ],
          "y": [
           0,
           1
          ]
         },
         "xaxis": {
          "title": {
           "text": "x"
          }
         },
         "yaxis": {
          "title": {
           "text": "y"
          }
         },
         "zaxis": {
          "title": {
           "text": "z"
          }
         }
        },
        "template": {
         "data": {
          "bar": [
           {
            "error_x": {
             "color": "#2a3f5f"
            },
            "error_y": {
             "color": "#2a3f5f"
            },
            "marker": {
             "line": {
              "color": "#E5ECF6",
              "width": 0.5
             },
             "pattern": {
              "fillmode": "overlay",
              "size": 10,
              "solidity": 0.2
             }
            },
            "type": "bar"
           }
          ],
          "barpolar": [
           {
            "marker": {
             "line": {
              "color": "#E5ECF6",
              "width": 0.5
             },
             "pattern": {
              "fillmode": "overlay",
              "size": 10,
              "solidity": 0.2
             }
            },
            "type": "barpolar"
           }
          ],
          "carpet": [
           {
            "aaxis": {
             "endlinecolor": "#2a3f5f",
             "gridcolor": "white",
             "linecolor": "white",
             "minorgridcolor": "white",
             "startlinecolor": "#2a3f5f"
            },
            "baxis": {
             "endlinecolor": "#2a3f5f",
             "gridcolor": "white",
             "linecolor": "white",
             "minorgridcolor": "white",
             "startlinecolor": "#2a3f5f"
            },
            "type": "carpet"
           }
          ],
          "choropleth": [
           {
            "colorbar": {
             "outlinewidth": 0,
             "ticks": ""
            },
            "type": "choropleth"
           }
          ],
          "contour": [
           {
            "colorbar": {
             "outlinewidth": 0,
             "ticks": ""
            },
            "colorscale": [
             [
              0,
              "#0d0887"
             ],
             [
              0.1111111111111111,
              "#46039f"
             ],
             [
              0.2222222222222222,
              "#7201a8"
             ],
             [
              0.3333333333333333,
              "#9c179e"
             ],
             [
              0.4444444444444444,
              "#bd3786"
             ],
             [
              0.5555555555555556,
              "#d8576b"
             ],
             [
              0.6666666666666666,
              "#ed7953"
             ],
             [
              0.7777777777777778,
              "#fb9f3a"
             ],
             [
              0.8888888888888888,
              "#fdca26"
             ],
             [
              1,
              "#f0f921"
             ]
            ],
            "type": "contour"
           }
          ],
          "contourcarpet": [
           {
            "colorbar": {
             "outlinewidth": 0,
             "ticks": ""
            },
            "type": "contourcarpet"
           }
          ],
          "heatmap": [
           {
            "colorbar": {
             "outlinewidth": 0,
             "ticks": ""
            },
            "colorscale": [
             [
              0,
              "#0d0887"
             ],
             [
              0.1111111111111111,
              "#46039f"
             ],
             [
              0.2222222222222222,
              "#7201a8"
             ],
             [
              0.3333333333333333,
              "#9c179e"
             ],
             [
              0.4444444444444444,
              "#bd3786"
             ],
             [
              0.5555555555555556,
              "#d8576b"
             ],
             [
              0.6666666666666666,
              "#ed7953"
             ],
             [
              0.7777777777777778,
              "#fb9f3a"
             ],
             [
              0.8888888888888888,
              "#fdca26"
             ],
             [
              1,
              "#f0f921"
             ]
            ],
            "type": "heatmap"
           }
          ],
          "heatmapgl": [
           {
            "colorbar": {
             "outlinewidth": 0,
             "ticks": ""
            },
            "colorscale": [
             [
              0,
              "#0d0887"
             ],
             [
              0.1111111111111111,
              "#46039f"
             ],
             [
              0.2222222222222222,
              "#7201a8"
             ],
             [
              0.3333333333333333,
              "#9c179e"
             ],
             [
              0.4444444444444444,
              "#bd3786"
             ],
             [
              0.5555555555555556,
              "#d8576b"
             ],
             [
              0.6666666666666666,
              "#ed7953"
             ],
             [
              0.7777777777777778,
              "#fb9f3a"
             ],
             [
              0.8888888888888888,
              "#fdca26"
             ],
             [
              1,
              "#f0f921"
             ]
            ],
            "type": "heatmapgl"
           }
          ],
          "histogram": [
           {
            "marker": {
             "pattern": {
              "fillmode": "overlay",
              "size": 10,
              "solidity": 0.2
             }
            },
            "type": "histogram"
           }
          ],
          "histogram2d": [
           {
            "colorbar": {
             "outlinewidth": 0,
             "ticks": ""
            },
            "colorscale": [
             [
              0,
              "#0d0887"
             ],
             [
              0.1111111111111111,
              "#46039f"
             ],
             [
              0.2222222222222222,
              "#7201a8"
             ],
             [
              0.3333333333333333,
              "#9c179e"
             ],
             [
              0.4444444444444444,
              "#bd3786"
             ],
             [
              0.5555555555555556,
              "#d8576b"
             ],
             [
              0.6666666666666666,
              "#ed7953"
             ],
             [
              0.7777777777777778,
              "#fb9f3a"
             ],
             [
              0.8888888888888888,
              "#fdca26"
             ],
             [
              1,
              "#f0f921"
             ]
            ],
            "type": "histogram2d"
           }
          ],
          "histogram2dcontour": [
           {
            "colorbar": {
             "outlinewidth": 0,
             "ticks": ""
            },
            "colorscale": [
             [
              0,
              "#0d0887"
             ],
             [
              0.1111111111111111,
              "#46039f"
             ],
             [
              0.2222222222222222,
              "#7201a8"
             ],
             [
              0.3333333333333333,
              "#9c179e"
             ],
             [
              0.4444444444444444,
              "#bd3786"
             ],
             [
              0.5555555555555556,
              "#d8576b"
             ],
             [
              0.6666666666666666,
              "#ed7953"
             ],
             [
              0.7777777777777778,
              "#fb9f3a"
             ],
             [
              0.8888888888888888,
              "#fdca26"
             ],
             [
              1,
              "#f0f921"
             ]
            ],
            "type": "histogram2dcontour"
           }
          ],
          "mesh3d": [
           {
            "colorbar": {
             "outlinewidth": 0,
             "ticks": ""
            },
            "type": "mesh3d"
           }
          ],
          "parcoords": [
           {
            "line": {
             "colorbar": {
              "outlinewidth": 0,
              "ticks": ""
             }
            },
            "type": "parcoords"
           }
          ],
          "pie": [
           {
            "automargin": true,
            "type": "pie"
           }
          ],
          "scatter": [
           {
            "fillpattern": {
             "fillmode": "overlay",
             "size": 10,
             "solidity": 0.2
            },
            "type": "scatter"
           }
          ],
          "scatter3d": [
           {
            "line": {
             "colorbar": {
              "outlinewidth": 0,
              "ticks": ""
             }
            },
            "marker": {
             "colorbar": {
              "outlinewidth": 0,
              "ticks": ""
             }
            },
            "type": "scatter3d"
           }
          ],
          "scattercarpet": [
           {
            "marker": {
             "colorbar": {
              "outlinewidth": 0,
              "ticks": ""
             }
            },
            "type": "scattercarpet"
           }
          ],
          "scattergeo": [
           {
            "marker": {
             "colorbar": {
              "outlinewidth": 0,
              "ticks": ""
             }
            },
            "type": "scattergeo"
           }
          ],
          "scattergl": [
           {
            "marker": {
             "colorbar": {
              "outlinewidth": 0,
              "ticks": ""
             }
            },
            "type": "scattergl"
           }
          ],
          "scattermapbox": [
           {
            "marker": {
             "colorbar": {
              "outlinewidth": 0,
              "ticks": ""
             }
            },
            "type": "scattermapbox"
           }
          ],
          "scatterpolar": [
           {
            "marker": {
             "colorbar": {
              "outlinewidth": 0,
              "ticks": ""
             }
            },
            "type": "scatterpolar"
           }
          ],
          "scatterpolargl": [
           {
            "marker": {
             "colorbar": {
              "outlinewidth": 0,
              "ticks": ""
             }
            },
            "type": "scatterpolargl"
           }
          ],
          "scatterternary": [
           {
            "marker": {
             "colorbar": {
              "outlinewidth": 0,
              "ticks": ""
             }
            },
            "type": "scatterternary"
           }
          ],
          "surface": [
           {
            "colorbar": {
             "outlinewidth": 0,
             "ticks": ""
            },
            "colorscale": [
             [
              0,
              "#0d0887"
             ],
             [
              0.1111111111111111,
              "#46039f"
             ],
             [
              0.2222222222222222,
              "#7201a8"
             ],
             [
              0.3333333333333333,
              "#9c179e"
             ],
             [
              0.4444444444444444,
              "#bd3786"
             ],
             [
              0.5555555555555556,
              "#d8576b"
             ],
             [
              0.6666666666666666,
              "#ed7953"
             ],
             [
              0.7777777777777778,
              "#fb9f3a"
             ],
             [
              0.8888888888888888,
              "#fdca26"
             ],
             [
              1,
              "#f0f921"
             ]
            ],
            "type": "surface"
           }
          ],
          "table": [
           {
            "cells": {
             "fill": {
              "color": "#EBF0F8"
             },
             "line": {
              "color": "white"
             }
            },
            "header": {
             "fill": {
              "color": "#C8D4E3"
             },
             "line": {
              "color": "white"
             }
            },
            "type": "table"
           }
          ]
         },
         "layout": {
          "annotationdefaults": {
           "arrowcolor": "#2a3f5f",
           "arrowhead": 0,
           "arrowwidth": 1
          },
          "autotypenumbers": "strict",
          "coloraxis": {
           "colorbar": {
            "outlinewidth": 0,
            "ticks": ""
           }
          },
          "colorscale": {
           "diverging": [
            [
             0,
             "#8e0152"
            ],
            [
             0.1,
             "#c51b7d"
            ],
            [
             0.2,
             "#de77ae"
            ],
            [
             0.3,
             "#f1b6da"
            ],
            [
             0.4,
             "#fde0ef"
            ],
            [
             0.5,
             "#f7f7f7"
            ],
            [
             0.6,
             "#e6f5d0"
            ],
            [
             0.7,
             "#b8e186"
            ],
            [
             0.8,
             "#7fbc41"
            ],
            [
             0.9,
             "#4d9221"
            ],
            [
             1,
             "#276419"
            ]
           ],
           "sequential": [
            [
             0,
             "#0d0887"
            ],
            [
             0.1111111111111111,
             "#46039f"
            ],
            [
             0.2222222222222222,
             "#7201a8"
            ],
            [
             0.3333333333333333,
             "#9c179e"
            ],
            [
             0.4444444444444444,
             "#bd3786"
            ],
            [
             0.5555555555555556,
             "#d8576b"
            ],
            [
             0.6666666666666666,
             "#ed7953"
            ],
            [
             0.7777777777777778,
             "#fb9f3a"
            ],
            [
             0.8888888888888888,
             "#fdca26"
            ],
            [
             1,
             "#f0f921"
            ]
           ],
           "sequentialminus": [
            [
             0,
             "#0d0887"
            ],
            [
             0.1111111111111111,
             "#46039f"
            ],
            [
             0.2222222222222222,
             "#7201a8"
            ],
            [
             0.3333333333333333,
             "#9c179e"
            ],
            [
             0.4444444444444444,
             "#bd3786"
            ],
            [
             0.5555555555555556,
             "#d8576b"
            ],
            [
             0.6666666666666666,
             "#ed7953"
            ],
            [
             0.7777777777777778,
             "#fb9f3a"
            ],
            [
             0.8888888888888888,
             "#fdca26"
            ],
            [
             1,
             "#f0f921"
            ]
           ]
          },
          "colorway": [
           "#636efa",
           "#EF553B",
           "#00cc96",
           "#ab63fa",
           "#FFA15A",
           "#19d3f3",
           "#FF6692",
           "#B6E880",
           "#FF97FF",
           "#FECB52"
          ],
          "font": {
           "color": "#2a3f5f"
          },
          "geo": {
           "bgcolor": "white",
           "lakecolor": "white",
           "landcolor": "#E5ECF6",
           "showlakes": true,
           "showland": true,
           "subunitcolor": "white"
          },
          "hoverlabel": {
           "align": "left"
          },
          "hovermode": "closest",
          "mapbox": {
           "style": "light"
          },
          "paper_bgcolor": "white",
          "plot_bgcolor": "#E5ECF6",
          "polar": {
           "angularaxis": {
            "gridcolor": "white",
            "linecolor": "white",
            "ticks": ""
           },
           "bgcolor": "#E5ECF6",
           "radialaxis": {
            "gridcolor": "white",
            "linecolor": "white",
            "ticks": ""
           }
          },
          "scene": {
           "xaxis": {
            "backgroundcolor": "#E5ECF6",
            "gridcolor": "white",
            "gridwidth": 2,
            "linecolor": "white",
            "showbackground": true,
            "ticks": "",
            "zerolinecolor": "white"
           },
           "yaxis": {
            "backgroundcolor": "#E5ECF6",
            "gridcolor": "white",
            "gridwidth": 2,
            "linecolor": "white",
            "showbackground": true,
            "ticks": "",
            "zerolinecolor": "white"
           },
           "zaxis": {
            "backgroundcolor": "#E5ECF6",
            "gridcolor": "white",
            "gridwidth": 2,
            "linecolor": "white",
            "showbackground": true,
            "ticks": "",
            "zerolinecolor": "white"
           }
          },
          "shapedefaults": {
           "line": {
            "color": "#2a3f5f"
           }
          },
          "ternary": {
           "aaxis": {
            "gridcolor": "white",
            "linecolor": "white",
            "ticks": ""
           },
           "baxis": {
            "gridcolor": "white",
            "linecolor": "white",
            "ticks": ""
           },
           "bgcolor": "#E5ECF6",
           "caxis": {
            "gridcolor": "white",
            "linecolor": "white",
            "ticks": ""
           }
          },
          "title": {
           "x": 0.05
          },
          "xaxis": {
           "automargin": true,
           "gridcolor": "white",
           "linecolor": "white",
           "ticks": "",
           "title": {
            "standoff": 15
           },
           "zerolinecolor": "white",
           "zerolinewidth": 2
          },
          "yaxis": {
           "automargin": true,
           "gridcolor": "white",
           "linecolor": "white",
           "ticks": "",
           "title": {
            "standoff": 15
           },
           "zerolinecolor": "white",
           "zerolinewidth": 2
          }
         }
        },
        "title": {
         "text": "Topic Summary Embeddings"
        }
       }
      }
     },
     "metadata": {},
     "output_type": "display_data"
    }
   ],
   "source": [
    "vectors= topic_emb_df.loc[:,'embedding'].tolist()\n",
    "print('vectors:', type(vectors),'\\n',vectors[0][:5])\n",
    "proj_3d = UMAP(n_components=3, init='random', random_state=0, metric='cosine').fit_transform(vectors)\n",
    "print('\\n -->3D Projection: ', len(proj_3d))\n",
    "\n",
    "proj_3d_df= pd.DataFrame(proj_3d, columns= ['x', 'y', 'z'])\n",
    "proj_3d_df['topic']= topic_emb_df['topic']\n",
    "proj_3d_df['index'] = topic_emb_df.index\n",
    "print(proj_3d_df.head(), '\\n', len(proj_3d_df))\n",
    "\n",
    "#[+] Map the dataframe of projected embeddings in 3d\n",
    "fig_3d = px.scatter_3d(\n",
    "    proj_3d_df,\n",
    "    x='x', y='y', z='z',\n",
    "    color='topic', \n",
    "    #labels={'color': 'stance'}\n",
    "    hover_data= 'index',\n",
    "    title= 'Topic Summary Embeddings'\n",
    ")\n",
    "fig_3d.update_traces(marker_size=9)\n",
    "fig_3d.show()"
   ]
  },
  {
   "cell_type": "markdown",
   "metadata": {},
   "source": [
    "### Agreement Spectrum\n",
    "\n",
    "First 3 Topics: \n",
    "1. Native American and Palestinian Solidarity\n",
    "\n",
    "2. Indigeneity and Jewish Return\n",
    "\n",
    "3. Colonialism and Its Impact\n",
    "\n",
    "According to GPT4o:3,1,2"
   ]
  },
  {
   "cell_type": "code",
   "execution_count": 66,
   "metadata": {},
   "outputs": [
    {
     "name": "stdout",
     "output_type": "stream",
     "text": [
      "3 [-0.07896777  0.11289133 -0.01038714  0.03086104 -0.03055891]\n",
      "3 [-0.01765261  0.05714198  0.01867259  0.0042201  -0.08135743]\n",
      "3 [ 0.00727112  0.0651238   0.01484105 -0.04710075 -0.02037156]\n",
      "[0.90188354, 0.60046387, 0.6289834]\n",
      "\n",
      "Most to least Agreement: \n",
      "Topic 2\n",
      "Topic 3\n",
      "Topic 1\n"
     ]
    }
   ],
   "source": [
    "# filtered_df = df.loc[df['Label'] == specific_label, 'Value']\n",
    "cos_sigma= []\n",
    "\n",
    "topic1_emb= topic_emb_df.loc[topic_emb_df['topic']=='topic1', 'embedding'].tolist()\n",
    "print(len(topic1_emb), topic1_emb[0][:5])\n",
    "d1= np.mean([util.cos_sim(i, topic_emb_avg['topic1']) for i in topic1_emb ])\n",
    "cos_sigma.append(d1)\n",
    "\n",
    "topic2_emb= topic_emb_df.loc[topic_emb_df['topic']=='topic2', 'embedding'].tolist()\n",
    "print(len(topic2_emb), topic2_emb[0][:5])\n",
    "d1= np.mean([util.cos_sim(i, topic_emb_avg['topic1']) for i in topic2_emb ])\n",
    "cos_sigma.append(d1)\n",
    "\n",
    "topic3_emb= topic_emb_df.loc[topic_emb_df['topic']=='topic3', 'embedding'].tolist()\n",
    "print(len(topic3_emb), topic3_emb[0][:5])\n",
    "d1= np.mean([util.cos_sim(i, topic_emb_avg['topic1']) for i in topic3_emb ])\n",
    "cos_sigma.append(d1)\n",
    "\n",
    "\n",
    "cos_sort= np.sort(cos_sigma)\n",
    "print(cos_sigma)\n",
    "\n",
    "print(\"\\nMost to least Agreement: \")\n",
    "for i in cos_sort:\n",
    "    print('Topic', cos_sigma.index(i)+1)\n",
    "\n",
    "\n",
    "\n",
    "\n",
    "\n",
    "\n",
    "\n",
    "\n",
    "\n",
    "#cos_sim = util.cos_sim(emb1, emb2)\n",
    "\n",
    "# topic2_avg= topic_emb_df.loc[topic_emb_df['topic']=='topic2', 'embedding'].tolist()\n",
    "# print(len(topic1_avg),topic2_avg[0][:5])\n"
   ]
  },
  {
   "cell_type": "code",
   "execution_count": null,
   "metadata": {},
   "outputs": [],
   "source": []
  }
 ],
 "metadata": {
  "kernelspec": {
   "display_name": "base",
   "language": "python",
   "name": "python3"
  },
  "language_info": {
   "codemirror_mode": {
    "name": "ipython",
    "version": 3
   },
   "file_extension": ".py",
   "mimetype": "text/x-python",
   "name": "python",
   "nbconvert_exporter": "python",
   "pygments_lexer": "ipython3",
   "version": "3.9.18"
  }
 },
 "nbformat": 4,
 "nbformat_minor": 2
}
