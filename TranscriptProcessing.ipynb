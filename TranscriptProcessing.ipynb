{
 "cells": [
  {
   "cell_type": "markdown",
   "metadata": {},
   "source": [
    "# __[:+:]__ Transcript Processing"
   ]
  },
  {
   "cell_type": "code",
   "execution_count": 62,
   "metadata": {},
   "outputs": [
    {
     "name": "stderr",
     "output_type": "stream",
     "text": [
      "c:\\Users\\richa\\anaconda3\\lib\\site-packages\\sentence_transformers\\cross_encoder\\CrossEncoder.py:11: TqdmExperimentalWarning: Using `tqdm.autonotebook.tqdm` in notebook mode. Use `tqdm.tqdm` instead to force console mode (e.g. in jupyter console)\n",
      "  from tqdm.autonotebook import tqdm, trange\n",
      "c:\\Users\\richa\\anaconda3\\lib\\site-packages\\dask\\dataframe\\__init__.py:31: FutureWarning: \n",
      "Dask dataframe query planning is disabled because dask-expr is not installed.\n",
      "\n",
      "You can install it with `pip install dask[dataframe]` or `conda install dask`.\n",
      "This will raise in a future version.\n",
      "\n",
      "  warnings.warn(msg, FutureWarning)\n",
      "c:\\Users\\richa\\anaconda3\\lib\\site-packages\\numba\\np\\ufunc\\dufunc.py:343: NumbaWarning: \u001b[1mCompilation requested for previously compiled argument types ((uint32,)). This has no effect and perhaps indicates a bug in the calling code (compiling a ufunc more than once for the same signature\u001b[0m\n",
      "  warnings.warn(msg, errors.NumbaWarning)\n",
      "c:\\Users\\richa\\anaconda3\\lib\\site-packages\\numba\\np\\ufunc\\dufunc.py:343: NumbaWarning: \u001b[1mCompilation requested for previously compiled argument types ((uint32,)). This has no effect and perhaps indicates a bug in the calling code (compiling a ufunc more than once for the same signature\u001b[0m\n",
      "  warnings.warn(msg, errors.NumbaWarning)\n",
      "c:\\Users\\richa\\anaconda3\\lib\\site-packages\\numba\\np\\ufunc\\dufunc.py:343: NumbaWarning: \u001b[1mCompilation requested for previously compiled argument types ((uint32,)). This has no effect and perhaps indicates a bug in the calling code (compiling a ufunc more than once for the same signature\u001b[0m\n",
      "  warnings.warn(msg, errors.NumbaWarning)\n"
     ]
    }
   ],
   "source": [
    "from sentence_transformers import SentenceTransformer, util, InputExample, losses\n",
    "from torch.utils.data import DataLoader\n",
    "import matplotlib.pyplot as plt\n",
    "import plotly.express as px\n",
    "from umap import UMAP\n",
    "import pandas as pd\n",
    "import numpy as np\n",
    "import umap.plot\n",
    "import re\n"
   ]
  },
  {
   "cell_type": "code",
   "execution_count": 61,
   "metadata": {},
   "outputs": [
    {
     "name": "stdout",
     "output_type": "stream",
     "text": [
      " So are you surprised by that? Because the point is that there are Native Americans that then seem to support Israel because of the claim for indigeneity. They understand what it's like to be a people, sometimes tribes that have the spiritual dimension to these tribes, they're kicked out of their land and now they want to come back to their land. That's also exactly the story of the Jews, no?\n"
     ]
    }
   ],
   "source": [
    "#Extract each line from the transcript, with no wordwrap, each line is a new speaker\n",
    "def readFile(filePath):\n",
    "    with open(filePath, 'r') as file:\n",
    "        return file.read().split('\\n')\n",
    "    \n",
    "# Create a dictionary where each speaker is a key and their spoken sentences are the values\n",
    "def transMapper(lines):\n",
    "    trans_map= {}\n",
    "    for i in range(len(lines)):\n",
    "        regex= r'(.+): (.+)'\n",
    "\n",
    "        if re.match(regex, lines[0]):\n",
    "            speaker= lines[i][0:9]\n",
    "            sentence= lines[i][10:]\n",
    "\n",
    "            if speaker not in trans_map:\n",
    "                trans_map[speaker]= []\n",
    "            else:\n",
    "                trans_map[speaker].append(sentence)\n",
    "    return trans_map\n",
    "\n",
    "\n",
    "#------------------------------------------------------------------------------------------------\n",
    "filePath= r'transcript_noTimeStamp.txt'\n",
    "trans_map= transMapper(readFile(filePath))\n",
    "\n"
   ]
  },
  {
   "cell_type": "code",
   "execution_count": null,
   "metadata": {},
   "outputs": [],
   "source": []
  }
 ],
 "metadata": {
  "kernelspec": {
   "display_name": "base",
   "language": "python",
   "name": "python3"
  },
  "language_info": {
   "codemirror_mode": {
    "name": "ipython",
    "version": 3
   },
   "file_extension": ".py",
   "mimetype": "text/x-python",
   "name": "python",
   "nbconvert_exporter": "python",
   "pygments_lexer": "ipython3",
   "version": "3.9.18"
  }
 },
 "nbformat": 4,
 "nbformat_minor": 2
}
