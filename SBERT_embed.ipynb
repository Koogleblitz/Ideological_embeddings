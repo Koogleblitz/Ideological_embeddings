{
 "cells": [
  {
   "cell_type": "markdown",
   "metadata": {},
   "source": [
    "# __[:+:]__ SBERT Embeddings Test"
   ]
  },
  {
   "cell_type": "code",
   "execution_count": 27,
   "metadata": {},
   "outputs": [],
   "source": [
    "from sentence_transformers import SentenceTransformer, util, InputExample, losses\n",
    "from torch.utils.data import DataLoader\n",
    "import matplotlib.pyplot as plt\n",
    "import plotly.express as px\n",
    "from umap import UMAP\n",
    "import pandas as pd\n",
    "import numpy as np\n",
    "import umap.plot\n",
    "import pickle\n",
    "import json"
   ]
  },
  {
   "cell_type": "markdown",
   "metadata": {},
   "source": [
    "### Get Data"
   ]
  },
  {
   "cell_type": "code",
   "execution_count": 28,
   "metadata": {},
   "outputs": [
    {
     "name": "stdout",
     "output_type": "stream",
     "text": [
      "[+] -- Loaded  70  docs ---------------------------------------------------------------------------------------------|\n",
      "0 :  Support for Israeli settlements in the West Bank is crucial for security.\n",
      "\n",
      "1 :  Palestinian statehood should be recognized and supported by the international community.\n",
      "\n",
      "2 :  Economic cooperation between Israel and Palestine can lead to peace.\n",
      "\n",
      "3 :  Military action is necessary to protect Israeli borders from threats.\n",
      "\n",
      "4 :  Human rights abuses against Palestinians must be addressed by global organizations.\n",
      "\n",
      "[+] -- Loaded  238  docs ---------------------------------------------------------------------------------------------|\n",
      "0 :  Speaker 1 [0.01s - 26.53s]:  You're saying that you think it's the two narratives. Yeah, but we can't hear you very loudly. Maybe it's much better, much better.\n",
      "\n",
      "1 :  Speaker 3 [4.60s - 25.21s]:  Yeah, I was just saying that I think it's pretty obvious why Native Americans would side with Palestinians. I didn't really know that there were Palestinians, that there were Native Americans who were pro-Israel. Sorry, is this better?\n",
      "\n",
      "2 :  Speaker 3 [26.65s - 39.19s]:  Yeah, I was just saying that I'm not surprised that that they're Native Americans who are pro-Palestinian, but I didn't know about pro-Israel.\n",
      "\n",
      "3 :  Speaker 1 [37.82s - 63.28s]:  So are you surprised by that? Because the point is that there are Native Americans that then seem to support Israel because of the claim for indigeneity. They understand what it's like to be a people, sometimes tribes that have the spiritual dimension to these tribes, they're kicked out of their land and now they want to come back to their land. That's also exactly the story of the Jews, no?\n",
      "\n",
      "4 :  Speaker 2 [66.41s - 85.14s]:  I feel like the thing with the Jews is how like a lot of them were able to like I can see also some similarities there but I feel like the difference is that\n",
      "\n",
      "                                             opinion      stance\n",
      "0  Israel has the right to exist as a sovereign J...  pro-Israel\n",
      "1  Israel's security measures are necessary to pr...  pro-Israel\n",
      "2  The Israeli government's efforts to negotiate ...  pro-Israel\n",
      "3  Israel's withdrawal from Gaza in 2005 was a si...  pro-Israel\n",
      "4  Hamas' use of civilian areas for launching att...  pro-Israel \n",
      "\n"
     ]
    }
   ],
   "source": [
    "with open(\"ideological_corpus.txt\", \"r\") as f:\n",
    "    corpus = f.readlines()\n",
    "print(\"[+] -- Loaded \", len(corpus), ' docs ---------------------------------------------------------------------------------------------|')\n",
    "for i in range(5):\n",
    "    print(i, ': ', corpus[i])\n",
    "\n",
    "with open(\"transcript.txt\", \"r\") as f:\n",
    "    transcript = f.readlines()\n",
    "print(\"[+] -- Loaded \", len(transcript), ' docs ---------------------------------------------------------------------------------------------|')\n",
    "for i in range(5):\n",
    "    print(i, ': ', transcript[i])\n",
    "\n",
    "# Read csv of generated reference opinions as dataframe\n",
    "refCluster_df = pd.read_csv('referenceClusters.csv')\n",
    "print(refCluster_df.head(), '\\n')"
   ]
  },
  {
   "cell_type": "markdown",
   "metadata": {},
   "source": [
    "### Load Model and Embed \n",
    "Choose and load model from https://sbert.net/docs/sentence_transformer/pretrained_models.html"
   ]
  },
  {
   "cell_type": "code",
   "execution_count": 29,
   "metadata": {},
   "outputs": [
    {
     "name": "stderr",
     "output_type": "stream",
     "text": [
      "c:\\Users\\richa\\anaconda3\\lib\\site-packages\\transformers\\tokenization_utils_base.py:1601: FutureWarning:\n",
      "\n",
      "`clean_up_tokenization_spaces` was not set. It will be set to `True` by default. This behavior will be depracted in transformers v4.45, and will be then set to `False` by default. For more details check this issue: https://github.com/huggingface/transformers/issues/31884\n",
      "\n"
     ]
    },
    {
     "name": "stdout",
     "output_type": "stream",
     "text": [
      "Cosine-Similarity: tensor([[0.6053]])\n"
     ]
    }
   ],
   "source": [
    "#[+:]-- Top quality for general purpose\n",
    "model = SentenceTransformer('all-mpnet-base-v2')\n",
    "\n",
    "#[+:]-- Smaller, faster, but decent quality\n",
    "# model = SentenceTransformer('all-MiniLM-L6-v2')\n",
    "\n",
    "#Embed some examples\n",
    "emb1 = model.encode(\"This is a red cat with a hat.\")\n",
    "emb2 = model.encode(\"Have you seen my red cat?\")\n",
    "\n",
    "#Get the cosine similarity score between example sentences\n",
    "cos_sim = util.cos_sim(emb1, emb2)\n",
    "print(\"Cosine-Similarity:\", cos_sim)"
   ]
  },
  {
   "cell_type": "code",
   "execution_count": 30,
   "metadata": {},
   "outputs": [
    {
     "name": "stdout",
     "output_type": "stream",
     "text": [
      "70 768\n",
      "0    Israel has the right to exist as a sovereign J...\n",
      "1    Israel's security measures are necessary to pr...\n",
      "2    The Israeli government's efforts to negotiate ...\n",
      "3    Israel's withdrawal from Gaza in 2005 was a si...\n",
      "4    Hamas' use of civilian areas for launching att...\n",
      "Name: opinion, dtype: object \n",
      "\n",
      "Embeded Sentences:  100 x 768\n"
     ]
    }
   ],
   "source": [
    "corpusEmb_arr= [model.encode(i) for i in corpus]\n",
    "print(len(corpusEmb_arr), len(corpusEmb_arr[0]))\n",
    "\n",
    "\n",
    "#[+:] extract only the sentences, (without the labels)\n",
    "sentences = refCluster_df.loc[:,'opinion']\n",
    "print(sentences.head(), '\\n')\n",
    "\n",
    "#{+:] Embed the extracted sentences\n",
    "sent_emb= [model.encode(i) for i in sentences]\n",
    "print('Embeded Sentences: ', len(sent_emb),'x', len(sent_emb[0]))"
   ]
  },
  {
   "cell_type": "markdown",
   "metadata": {},
   "source": [
    "### UMAP Dimensionality Reduction & Visualization"
   ]
  },
  {
   "cell_type": "markdown",
   "metadata": {},
   "source": [
    "#### 2D Projection"
   ]
  },
  {
   "cell_type": "code",
   "execution_count": 31,
   "metadata": {},
   "outputs": [],
   "source": [
    "\n",
    "#[+] Also try \"metric= cosine\" arg for UMAP\n",
    "# umapper_2d= UMAP(n_components= 2, init= 'random', random_state=0, metric='cosine')\n",
    "# proj_2d= umapper_2d.fit_transform(corpusEmb_arr)\n",
    "# fig_2d= px.scatter(proj_2d, x=0, y=1)\n",
    "# fig_2d.show()"
   ]
  },
  {
   "cell_type": "markdown",
   "metadata": {},
   "source": [
    "#### 3D Projection"
   ]
  },
  {
   "cell_type": "code",
   "execution_count": 33,
   "metadata": {},
   "outputs": [
    {
     "name": "stderr",
     "output_type": "stream",
     "text": [
      "c:\\Users\\richa\\anaconda3\\lib\\site-packages\\umap\\umap_.py:1945: UserWarning:\n",
      "\n",
      "n_jobs value 1 overridden to 1 by setting random_state. Use no seed for parallelism.\n",
      "\n"
     ]
    },
    {
     "data": {
      "application/vnd.plotly.v1+json": {
       "config": {
        "plotlyServerURL": "https://plot.ly"
       },
       "data": [
        {
         "hovertemplate": "0=%{x}<br>1=%{y}<br>2=%{z}<extra></extra>",
         "legendgroup": "",
         "marker": {
          "color": "#636efa",
          "symbol": "circle"
         },
         "mode": "markers",
         "name": "",
         "scene": "scene",
         "showlegend": false,
         "type": "scatter3d",
         "x": [
          7.351081371307373,
          7.571756362915039,
          7.658278942108154,
          7.723374843597412,
          7.314103126525879,
          7.483419418334961,
          7.522225379943848,
          7.881648540496826,
          7.602685451507568,
          6.696233749389648,
          6.753674507141113,
          7.454387187957764,
          6.819331645965576,
          7.69338321685791,
          5.601743221282959,
          7.33608865737915,
          6.161237716674805,
          7.221836090087891,
          6.340273857116699,
          7.13157844543457,
          6.859903335571289,
          6.363626480102539,
          7.684103012084961,
          7.812031269073486,
          7.283295154571533,
          7.850824356079102,
          7.309006214141846,
          6.767505168914795,
          5.967289447784424,
          5.578248023986816,
          5.824195861816406,
          7.017417907714844,
          7.550797462463379,
          5.522861480712891,
          7.1914567947387695,
          6.254434585571289,
          7.113110065460205,
          7.496142864227295,
          6.557488441467285,
          6.769181251525879,
          7.351960182189941,
          6.404595375061035,
          5.6077046394348145,
          7.338260173797607,
          6.302229881286621,
          6.074001312255859,
          7.166665554046631,
          7.049975872039795,
          7.322182655334473,
          6.3356404304504395,
          7.490174293518066,
          7.604383945465088,
          7.744973182678223,
          6.220332622528076,
          6.991015911102295,
          7.654322624206543,
          7.061558723449707,
          6.718607425689697,
          6.528318405151367,
          7.493680000305176,
          7.07651424407959,
          5.5618510246276855,
          6.896632194519043,
          5.805994510650635,
          7.4079155921936035,
          5.907440662384033,
          7.378264427185059,
          6.594245433807373,
          7.402023792266846,
          5.729475498199463
         ],
         "y": [
          3.761270761489868,
          3.337104320526123,
          3.171839952468872,
          3.8941221237182617,
          3.3866348266601562,
          3.465385675430298,
          3.5031754970550537,
          3.5831260681152344,
          4.2043538093566895,
          4.470108985900879,
          5.945353984832764,
          5.435264587402344,
          5.508145332336426,
          6.133531093597412,
          5.3346357345581055,
          4.12598180770874,
          4.535404205322266,
          5.258288860321045,
          4.860263347625732,
          3.4456052780151367,
          4.034260272979736,
          4.5764641761779785,
          4.751931667327881,
          4.271203517913818,
          3.6359124183654785,
          5.045294284820557,
          6.507688045501709,
          4.994951248168945,
          5.081605911254883,
          5.3267621994018555,
          5.737800598144531,
          6.273139476776123,
          4.658624649047852,
          4.966576099395752,
          5.50402307510376,
          5.508735656738281,
          5.101618766784668,
          5.244685649871826,
          5.956650257110596,
          5.340859413146973,
          6.048472881317139,
          3.890941858291626,
          4.584242343902588,
          6.563053131103516,
          5.848171234130859,
          5.0205979347229,
          6.191263675689697,
          5.378017902374268,
          6.334390163421631,
          4.876565933227539,
          6.032046794891357,
          4.8375043869018555,
          5.437593460083008,
          4.351992607116699,
          4.525160312652588,
          6.384878635406494,
          3.463933229446411,
          5.614303112030029,
          4.090638637542725,
          4.345567226409912,
          4.862982273101807,
          5.499299049377441,
          5.470904350280762,
          5.350862503051758,
          6.541245460510254,
          5.101580619812012,
          6.570748805999756,
          6.019676685333252,
          3.429414987564087,
          5.730114936828613
         ],
         "z": [
          9.134281158447266,
          9.216937065124512,
          9.54711627960205,
          9.386642456054688,
          9.158973693847656,
          9.54403305053711,
          8.985047340393066,
          9.270999908447266,
          10.769737243652344,
          11.37387466430664,
          9.41317081451416,
          9.620532035827637,
          11.108358383178711,
          9.471381187438965,
          10.627634048461914,
          11.753244400024414,
          10.113951683044434,
          9.719103813171387,
          11.418456077575684,
          11.06400203704834,
          11.79784870147705,
          11.640403747558594,
          10.064547538757324,
          10.534811973571777,
          11.280235290527344,
          10.975353240966797,
          10.264419555664062,
          12.0057373046875,
          10.794313430786133,
          11.322367668151855,
          11.350842475891113,
          9.847274780273438,
          11.70268440246582,
          10.241150856018066,
          10.643497467041016,
          10.884143829345703,
          12.07907772064209,
          11.423660278320312,
          11.390787124633789,
          9.252654075622559,
          10.373024940490723,
          11.277826309204102,
          10.272198677062988,
          11.063836097717285,
          11.506266593933105,
          9.822575569152832,
          9.27260971069336,
          9.29643440246582,
          10.896320343017578,
          10.264506340026855,
          9.368675231933594,
          10.669275283813477,
          11.06744384765625,
          11.174884796142578,
          11.04201889038086,
          9.683466911315918,
          10.824251174926758,
          9.504264831542969,
          11.809099197387695,
          12.011313438415527,
          12.276784896850586,
          11.475912094116211,
          11.741002082824707,
          9.775781631469727,
          9.421157836914062,
          10.168850898742676,
          9.822643280029297,
          9.288386344909668,
          10.426971435546875,
          11.042790412902832
         ]
        }
       ],
       "layout": {
        "legend": {
         "tracegroupgap": 0
        },
        "margin": {
         "t": 60
        },
        "scene": {
         "domain": {
          "x": [
           0,
           1
          ],
          "y": [
           0,
           1
          ]
         },
         "xaxis": {
          "title": {
           "text": "0"
          }
         },
         "yaxis": {
          "title": {
           "text": "1"
          }
         },
         "zaxis": {
          "title": {
           "text": "2"
          }
         }
        },
        "template": {
         "data": {
          "bar": [
           {
            "error_x": {
             "color": "#2a3f5f"
            },
            "error_y": {
             "color": "#2a3f5f"
            },
            "marker": {
             "line": {
              "color": "#E5ECF6",
              "width": 0.5
             },
             "pattern": {
              "fillmode": "overlay",
              "size": 10,
              "solidity": 0.2
             }
            },
            "type": "bar"
           }
          ],
          "barpolar": [
           {
            "marker": {
             "line": {
              "color": "#E5ECF6",
              "width": 0.5
             },
             "pattern": {
              "fillmode": "overlay",
              "size": 10,
              "solidity": 0.2
             }
            },
            "type": "barpolar"
           }
          ],
          "carpet": [
           {
            "aaxis": {
             "endlinecolor": "#2a3f5f",
             "gridcolor": "white",
             "linecolor": "white",
             "minorgridcolor": "white",
             "startlinecolor": "#2a3f5f"
            },
            "baxis": {
             "endlinecolor": "#2a3f5f",
             "gridcolor": "white",
             "linecolor": "white",
             "minorgridcolor": "white",
             "startlinecolor": "#2a3f5f"
            },
            "type": "carpet"
           }
          ],
          "choropleth": [
           {
            "colorbar": {
             "outlinewidth": 0,
             "ticks": ""
            },
            "type": "choropleth"
           }
          ],
          "contour": [
           {
            "colorbar": {
             "outlinewidth": 0,
             "ticks": ""
            },
            "colorscale": [
             [
              0,
              "#0d0887"
             ],
             [
              0.1111111111111111,
              "#46039f"
             ],
             [
              0.2222222222222222,
              "#7201a8"
             ],
             [
              0.3333333333333333,
              "#9c179e"
             ],
             [
              0.4444444444444444,
              "#bd3786"
             ],
             [
              0.5555555555555556,
              "#d8576b"
             ],
             [
              0.6666666666666666,
              "#ed7953"
             ],
             [
              0.7777777777777778,
              "#fb9f3a"
             ],
             [
              0.8888888888888888,
              "#fdca26"
             ],
             [
              1,
              "#f0f921"
             ]
            ],
            "type": "contour"
           }
          ],
          "contourcarpet": [
           {
            "colorbar": {
             "outlinewidth": 0,
             "ticks": ""
            },
            "type": "contourcarpet"
           }
          ],
          "heatmap": [
           {
            "colorbar": {
             "outlinewidth": 0,
             "ticks": ""
            },
            "colorscale": [
             [
              0,
              "#0d0887"
             ],
             [
              0.1111111111111111,
              "#46039f"
             ],
             [
              0.2222222222222222,
              "#7201a8"
             ],
             [
              0.3333333333333333,
              "#9c179e"
             ],
             [
              0.4444444444444444,
              "#bd3786"
             ],
             [
              0.5555555555555556,
              "#d8576b"
             ],
             [
              0.6666666666666666,
              "#ed7953"
             ],
             [
              0.7777777777777778,
              "#fb9f3a"
             ],
             [
              0.8888888888888888,
              "#fdca26"
             ],
             [
              1,
              "#f0f921"
             ]
            ],
            "type": "heatmap"
           }
          ],
          "heatmapgl": [
           {
            "colorbar": {
             "outlinewidth": 0,
             "ticks": ""
            },
            "colorscale": [
             [
              0,
              "#0d0887"
             ],
             [
              0.1111111111111111,
              "#46039f"
             ],
             [
              0.2222222222222222,
              "#7201a8"
             ],
             [
              0.3333333333333333,
              "#9c179e"
             ],
             [
              0.4444444444444444,
              "#bd3786"
             ],
             [
              0.5555555555555556,
              "#d8576b"
             ],
             [
              0.6666666666666666,
              "#ed7953"
             ],
             [
              0.7777777777777778,
              "#fb9f3a"
             ],
             [
              0.8888888888888888,
              "#fdca26"
             ],
             [
              1,
              "#f0f921"
             ]
            ],
            "type": "heatmapgl"
           }
          ],
          "histogram": [
           {
            "marker": {
             "pattern": {
              "fillmode": "overlay",
              "size": 10,
              "solidity": 0.2
             }
            },
            "type": "histogram"
           }
          ],
          "histogram2d": [
           {
            "colorbar": {
             "outlinewidth": 0,
             "ticks": ""
            },
            "colorscale": [
             [
              0,
              "#0d0887"
             ],
             [
              0.1111111111111111,
              "#46039f"
             ],
             [
              0.2222222222222222,
              "#7201a8"
             ],
             [
              0.3333333333333333,
              "#9c179e"
             ],
             [
              0.4444444444444444,
              "#bd3786"
             ],
             [
              0.5555555555555556,
              "#d8576b"
             ],
             [
              0.6666666666666666,
              "#ed7953"
             ],
             [
              0.7777777777777778,
              "#fb9f3a"
             ],
             [
              0.8888888888888888,
              "#fdca26"
             ],
             [
              1,
              "#f0f921"
             ]
            ],
            "type": "histogram2d"
           }
          ],
          "histogram2dcontour": [
           {
            "colorbar": {
             "outlinewidth": 0,
             "ticks": ""
            },
            "colorscale": [
             [
              0,
              "#0d0887"
             ],
             [
              0.1111111111111111,
              "#46039f"
             ],
             [
              0.2222222222222222,
              "#7201a8"
             ],
             [
              0.3333333333333333,
              "#9c179e"
             ],
             [
              0.4444444444444444,
              "#bd3786"
             ],
             [
              0.5555555555555556,
              "#d8576b"
             ],
             [
              0.6666666666666666,
              "#ed7953"
             ],
             [
              0.7777777777777778,
              "#fb9f3a"
             ],
             [
              0.8888888888888888,
              "#fdca26"
             ],
             [
              1,
              "#f0f921"
             ]
            ],
            "type": "histogram2dcontour"
           }
          ],
          "mesh3d": [
           {
            "colorbar": {
             "outlinewidth": 0,
             "ticks": ""
            },
            "type": "mesh3d"
           }
          ],
          "parcoords": [
           {
            "line": {
             "colorbar": {
              "outlinewidth": 0,
              "ticks": ""
             }
            },
            "type": "parcoords"
           }
          ],
          "pie": [
           {
            "automargin": true,
            "type": "pie"
           }
          ],
          "scatter": [
           {
            "fillpattern": {
             "fillmode": "overlay",
             "size": 10,
             "solidity": 0.2
            },
            "type": "scatter"
           }
          ],
          "scatter3d": [
           {
            "line": {
             "colorbar": {
              "outlinewidth": 0,
              "ticks": ""
             }
            },
            "marker": {
             "colorbar": {
              "outlinewidth": 0,
              "ticks": ""
             }
            },
            "type": "scatter3d"
           }
          ],
          "scattercarpet": [
           {
            "marker": {
             "colorbar": {
              "outlinewidth": 0,
              "ticks": ""
             }
            },
            "type": "scattercarpet"
           }
          ],
          "scattergeo": [
           {
            "marker": {
             "colorbar": {
              "outlinewidth": 0,
              "ticks": ""
             }
            },
            "type": "scattergeo"
           }
          ],
          "scattergl": [
           {
            "marker": {
             "colorbar": {
              "outlinewidth": 0,
              "ticks": ""
             }
            },
            "type": "scattergl"
           }
          ],
          "scattermapbox": [
           {
            "marker": {
             "colorbar": {
              "outlinewidth": 0,
              "ticks": ""
             }
            },
            "type": "scattermapbox"
           }
          ],
          "scatterpolar": [
           {
            "marker": {
             "colorbar": {
              "outlinewidth": 0,
              "ticks": ""
             }
            },
            "type": "scatterpolar"
           }
          ],
          "scatterpolargl": [
           {
            "marker": {
             "colorbar": {
              "outlinewidth": 0,
              "ticks": ""
             }
            },
            "type": "scatterpolargl"
           }
          ],
          "scatterternary": [
           {
            "marker": {
             "colorbar": {
              "outlinewidth": 0,
              "ticks": ""
             }
            },
            "type": "scatterternary"
           }
          ],
          "surface": [
           {
            "colorbar": {
             "outlinewidth": 0,
             "ticks": ""
            },
            "colorscale": [
             [
              0,
              "#0d0887"
             ],
             [
              0.1111111111111111,
              "#46039f"
             ],
             [
              0.2222222222222222,
              "#7201a8"
             ],
             [
              0.3333333333333333,
              "#9c179e"
             ],
             [
              0.4444444444444444,
              "#bd3786"
             ],
             [
              0.5555555555555556,
              "#d8576b"
             ],
             [
              0.6666666666666666,
              "#ed7953"
             ],
             [
              0.7777777777777778,
              "#fb9f3a"
             ],
             [
              0.8888888888888888,
              "#fdca26"
             ],
             [
              1,
              "#f0f921"
             ]
            ],
            "type": "surface"
           }
          ],
          "table": [
           {
            "cells": {
             "fill": {
              "color": "#EBF0F8"
             },
             "line": {
              "color": "white"
             }
            },
            "header": {
             "fill": {
              "color": "#C8D4E3"
             },
             "line": {
              "color": "white"
             }
            },
            "type": "table"
           }
          ]
         },
         "layout": {
          "annotationdefaults": {
           "arrowcolor": "#2a3f5f",
           "arrowhead": 0,
           "arrowwidth": 1
          },
          "autotypenumbers": "strict",
          "coloraxis": {
           "colorbar": {
            "outlinewidth": 0,
            "ticks": ""
           }
          },
          "colorscale": {
           "diverging": [
            [
             0,
             "#8e0152"
            ],
            [
             0.1,
             "#c51b7d"
            ],
            [
             0.2,
             "#de77ae"
            ],
            [
             0.3,
             "#f1b6da"
            ],
            [
             0.4,
             "#fde0ef"
            ],
            [
             0.5,
             "#f7f7f7"
            ],
            [
             0.6,
             "#e6f5d0"
            ],
            [
             0.7,
             "#b8e186"
            ],
            [
             0.8,
             "#7fbc41"
            ],
            [
             0.9,
             "#4d9221"
            ],
            [
             1,
             "#276419"
            ]
           ],
           "sequential": [
            [
             0,
             "#0d0887"
            ],
            [
             0.1111111111111111,
             "#46039f"
            ],
            [
             0.2222222222222222,
             "#7201a8"
            ],
            [
             0.3333333333333333,
             "#9c179e"
            ],
            [
             0.4444444444444444,
             "#bd3786"
            ],
            [
             0.5555555555555556,
             "#d8576b"
            ],
            [
             0.6666666666666666,
             "#ed7953"
            ],
            [
             0.7777777777777778,
             "#fb9f3a"
            ],
            [
             0.8888888888888888,
             "#fdca26"
            ],
            [
             1,
             "#f0f921"
            ]
           ],
           "sequentialminus": [
            [
             0,
             "#0d0887"
            ],
            [
             0.1111111111111111,
             "#46039f"
            ],
            [
             0.2222222222222222,
             "#7201a8"
            ],
            [
             0.3333333333333333,
             "#9c179e"
            ],
            [
             0.4444444444444444,
             "#bd3786"
            ],
            [
             0.5555555555555556,
             "#d8576b"
            ],
            [
             0.6666666666666666,
             "#ed7953"
            ],
            [
             0.7777777777777778,
             "#fb9f3a"
            ],
            [
             0.8888888888888888,
             "#fdca26"
            ],
            [
             1,
             "#f0f921"
            ]
           ]
          },
          "colorway": [
           "#636efa",
           "#EF553B",
           "#00cc96",
           "#ab63fa",
           "#FFA15A",
           "#19d3f3",
           "#FF6692",
           "#B6E880",
           "#FF97FF",
           "#FECB52"
          ],
          "font": {
           "color": "#2a3f5f"
          },
          "geo": {
           "bgcolor": "white",
           "lakecolor": "white",
           "landcolor": "#E5ECF6",
           "showlakes": true,
           "showland": true,
           "subunitcolor": "white"
          },
          "hoverlabel": {
           "align": "left"
          },
          "hovermode": "closest",
          "mapbox": {
           "style": "light"
          },
          "paper_bgcolor": "white",
          "plot_bgcolor": "#E5ECF6",
          "polar": {
           "angularaxis": {
            "gridcolor": "white",
            "linecolor": "white",
            "ticks": ""
           },
           "bgcolor": "#E5ECF6",
           "radialaxis": {
            "gridcolor": "white",
            "linecolor": "white",
            "ticks": ""
           }
          },
          "scene": {
           "xaxis": {
            "backgroundcolor": "#E5ECF6",
            "gridcolor": "white",
            "gridwidth": 2,
            "linecolor": "white",
            "showbackground": true,
            "ticks": "",
            "zerolinecolor": "white"
           },
           "yaxis": {
            "backgroundcolor": "#E5ECF6",
            "gridcolor": "white",
            "gridwidth": 2,
            "linecolor": "white",
            "showbackground": true,
            "ticks": "",
            "zerolinecolor": "white"
           },
           "zaxis": {
            "backgroundcolor": "#E5ECF6",
            "gridcolor": "white",
            "gridwidth": 2,
            "linecolor": "white",
            "showbackground": true,
            "ticks": "",
            "zerolinecolor": "white"
           }
          },
          "shapedefaults": {
           "line": {
            "color": "#2a3f5f"
           }
          },
          "ternary": {
           "aaxis": {
            "gridcolor": "white",
            "linecolor": "white",
            "ticks": ""
           },
           "baxis": {
            "gridcolor": "white",
            "linecolor": "white",
            "ticks": ""
           },
           "bgcolor": "#E5ECF6",
           "caxis": {
            "gridcolor": "white",
            "linecolor": "white",
            "ticks": ""
           }
          },
          "title": {
           "x": 0.05
          },
          "xaxis": {
           "automargin": true,
           "gridcolor": "white",
           "linecolor": "white",
           "ticks": "",
           "title": {
            "standoff": 15
           },
           "zerolinecolor": "white",
           "zerolinewidth": 2
          },
          "yaxis": {
           "automargin": true,
           "gridcolor": "white",
           "linecolor": "white",
           "ticks": "",
           "title": {
            "standoff": 15
           },
           "zerolinecolor": "white",
           "zerolinewidth": 2
          }
         }
        }
       }
      }
     },
     "metadata": {},
     "output_type": "display_data"
    },
    {
     "name": "stderr",
     "output_type": "stream",
     "text": [
      "c:\\Users\\richa\\anaconda3\\lib\\site-packages\\umap\\umap_.py:1945: UserWarning:\n",
      "\n",
      "n_jobs value 1 overridden to 1 by setting random_state. Use no seed for parallelism.\n",
      "\n"
     ]
    },
    {
     "data": {
      "application/vnd.plotly.v1+json": {
       "config": {
        "plotlyServerURL": "https://plot.ly"
       },
       "data": [
        {
         "hovertemplate": "stance=pro-Israel<br>0=%{x}<br>1=%{y}<br>2=%{z}<extra></extra>",
         "legendgroup": "pro-Israel",
         "marker": {
          "color": "#636efa",
          "size": 5,
          "symbol": "circle"
         },
         "mode": "markers",
         "name": "pro-Israel",
         "scene": "scene",
         "showlegend": true,
         "type": "scatter3d",
         "x": [
          8.97282600402832,
          8.94637393951416,
          5.493677616119385,
          9.260308265686035,
          8.167441368103027,
          8.353768348693848,
          9.388442993164062,
          6.302891731262207,
          6.103030681610107,
          8.694785118103027,
          9.415023803710938,
          7.3698410987854,
          8.68193244934082,
          6.113879203796387,
          8.456031799316406,
          5.315968990325928,
          9.033988952636719,
          6.437869548797607,
          9.788813591003418,
          7.576348304748535,
          6.876965522766113,
          5.5850677490234375,
          5.720107078552246,
          7.929806709289551,
          5.552067756652832,
          8.716989517211914,
          9.225762367248535,
          5.571426868438721,
          6.239023685455322,
          5.933931827545166,
          7.377171993255615,
          5.942889213562012,
          9.060054779052734,
          5.864250659942627,
          8.674901008605957,
          5.754932403564453,
          5.48906946182251,
          9.321707725524902,
          7.643067836761475,
          5.593142986297607,
          8.848569869995117,
          9.235591888427734,
          5.428060531616211,
          9.20279312133789,
          5.572474956512451,
          8.16407299041748,
          9.890889167785645,
          5.409453392028809,
          9.03622817993164,
          9.10179328918457
         ],
         "y": [
          8.87180233001709,
          10.432327270507812,
          6.053779125213623,
          7.53762674331665,
          9.840036392211914,
          10.432887077331543,
          7.695706367492676,
          9.080050468444824,
          6.578890800476074,
          10.51465129852295,
          7.760179042816162,
          7.556604862213135,
          10.247903823852539,
          9.197127342224121,
          10.219517707824707,
          6.769331455230713,
          9.965818405151367,
          6.380479335784912,
          8.979391098022461,
          8.285728454589844,
          8.593523979187012,
          5.857604503631592,
          6.447916030883789,
          9.980483055114746,
          6.4687418937683105,
          9.62637996673584,
          9.57225227355957,
          6.265723705291748,
          9.069275856018066,
          6.695525646209717,
          9.867563247680664,
          7.766254901885986,
          10.20650577545166,
          7.106383800506592,
          10.390571594238281,
          7.8978400230407715,
          7.703680038452148,
          9.052005767822266,
          9.714160919189453,
          6.777857780456543,
          10.58894157409668,
          7.556755542755127,
          7.2283477783203125,
          10.157282829284668,
          7.48128080368042,
          10.062298774719238,
          8.936029434204102,
          6.326152801513672,
          10.178332328796387,
          7.909717082977295
         ],
         "z": [
          7.712194442749023,
          8.947545051574707,
          8.764413833618164,
          8.53966236114502,
          8.788050651550293,
          8.834561347961426,
          8.701967239379883,
          7.919401168823242,
          8.99674129486084,
          9.006464004516602,
          8.543111801147461,
          8.926711082458496,
          8.346539497375488,
          8.182945251464844,
          8.891077995300293,
          8.81093978881836,
          8.457045555114746,
          8.917015075683594,
          7.62095832824707,
          9.142406463623047,
          7.712188720703125,
          8.876635551452637,
          9.250097274780273,
          9.044636726379395,
          9.096884727478027,
          8.53289794921875,
          8.282979965209961,
          8.849481582641602,
          7.924339294433594,
          8.932302474975586,
          8.633023262023926,
          9.037797927856445,
          8.79272174835205,
          9.049851417541504,
          8.760932922363281,
          8.91718578338623,
          8.662079811096191,
          8.060072898864746,
          9.088607788085938,
          9.270360946655273,
          9.005853652954102,
          8.754916191101074,
          8.969064712524414,
          8.608386993408203,
          8.933426856994629,
          9.105657577514648,
          7.713265419006348,
          8.709823608398438,
          8.333439826965332,
          7.746987342834473
         ]
        },
        {
         "hovertemplate": "stance=pro-Palestine<br>0=%{x}<br>1=%{y}<br>2=%{z}<extra></extra>",
         "legendgroup": "pro-Palestine",
         "marker": {
          "color": "#EF553B",
          "size": 5,
          "symbol": "circle"
         },
         "mode": "markers",
         "name": "pro-Palestine",
         "scene": "scene",
         "showlegend": true,
         "type": "scatter3d",
         "x": [
          6.832249641418457,
          7.309067726135254,
          6.9282941818237305,
          5.585628986358643,
          7.292469024658203,
          6.503216743469238,
          6.928732872009277,
          7.136560916900635,
          6.553223609924316,
          7.003509044647217,
          6.834996223449707,
          6.7777228355407715,
          6.172310829162598,
          6.493147373199463,
          7.194230079650879,
          5.99690055847168,
          7.296453952789307,
          7.330828666687012,
          7.138393878936768,
          6.15552282333374,
          5.884869575500488,
          7.1446146965026855,
          6.387136459350586,
          7.503489971160889,
          5.501876354217529,
          8.861961364746094,
          9.193663597106934,
          7.872156620025635,
          8.992216110229492,
          9.433821678161621,
          6.7390851974487305,
          8.176660537719727,
          8.434391021728516,
          6.706235408782959,
          9.51543140411377,
          7.111974716186523,
          8.390212059020996,
          9.127683639526367,
          7.4831695556640625,
          9.635746955871582,
          6.630084037780762,
          8.850970268249512,
          9.060494422912598,
          8.618529319763184,
          6.942747592926025,
          8.566288948059082,
          9.55517578125,
          9.208760261535645,
          7.486577987670898,
          8.885565757751465
         ],
         "y": [
          6.6483845710754395,
          9.939800262451172,
          9.810858726501465,
          5.948797702789307,
          8.523114204406738,
          7.898144245147705,
          7.980284214019775,
          7.868870735168457,
          9.558505058288574,
          6.877734184265137,
          9.361254692077637,
          7.85503625869751,
          6.378036022186279,
          9.35073184967041,
          7.469569683074951,
          5.929553508758545,
          7.100032329559326,
          9.077289581298828,
          9.867358207702637,
          8.828081130981445,
          6.1583571434021,
          8.352973937988281,
          8.096138954162598,
          7.698769569396973,
          7.47128438949585,
          8.110173225402832,
          8.153575897216797,
          8.061895370483398,
          8.072434425354004,
          8.967287063598633,
          6.8503923416137695,
          9.884281158447266,
          7.974853515625,
          7.726916313171387,
          8.675822257995605,
          9.764182090759277,
          7.981351375579834,
          7.888245582580566,
          7.793026924133301,
          9.092755317687988,
          7.199101448059082,
          8.06179141998291,
          8.029135704040527,
          8.131028175354004,
          9.376311302185059,
          7.815674781799316,
          8.76725959777832,
          7.84658670425415,
          8.220793724060059,
          7.793612003326416
         ],
         "z": [
          8.856343269348145,
          8.200532913208008,
          8.350540161132812,
          8.814271926879883,
          7.892111301422119,
          8.697948455810547,
          8.470322608947754,
          8.476951599121094,
          8.131891250610352,
          8.887293815612793,
          8.67162799835205,
          8.277730941772461,
          8.675703048706055,
          8.467782974243164,
          8.71184253692627,
          8.753434181213379,
          8.874969482421875,
          8.085286140441895,
          8.3365478515625,
          7.856998443603516,
          8.840991020202637,
          8.215734481811523,
          9.133472442626953,
          8.807807922363281,
          8.68204116821289,
          7.19502592086792,
          6.898123741149902,
          7.6859893798828125,
          6.780287265777588,
          7.774198532104492,
          8.709404945373535,
          7.842759609222412,
          7.0121235847473145,
          8.35417652130127,
          7.527781963348389,
          8.39594554901123,
          7.011076927185059,
          6.871872901916504,
          8.256782531738281,
          7.712425231933594,
          8.590971946716309,
          6.608505725860596,
          7.420656681060791,
          6.872165203094482,
          8.458036422729492,
          7.168387413024902,
          7.4724626541137695,
          7.62344217300415,
          7.475966453552246,
          6.968569755554199
         ]
        }
       ],
       "layout": {
        "legend": {
         "title": {
          "text": "stance"
         },
         "tracegroupgap": 0
        },
        "margin": {
         "t": 60
        },
        "scene": {
         "domain": {
          "x": [
           0,
           1
          ],
          "y": [
           0,
           1
          ]
         },
         "xaxis": {
          "title": {
           "text": "0"
          }
         },
         "yaxis": {
          "title": {
           "text": "1"
          }
         },
         "zaxis": {
          "title": {
           "text": "2"
          }
         }
        },
        "template": {
         "data": {
          "bar": [
           {
            "error_x": {
             "color": "#2a3f5f"
            },
            "error_y": {
             "color": "#2a3f5f"
            },
            "marker": {
             "line": {
              "color": "#E5ECF6",
              "width": 0.5
             },
             "pattern": {
              "fillmode": "overlay",
              "size": 10,
              "solidity": 0.2
             }
            },
            "type": "bar"
           }
          ],
          "barpolar": [
           {
            "marker": {
             "line": {
              "color": "#E5ECF6",
              "width": 0.5
             },
             "pattern": {
              "fillmode": "overlay",
              "size": 10,
              "solidity": 0.2
             }
            },
            "type": "barpolar"
           }
          ],
          "carpet": [
           {
            "aaxis": {
             "endlinecolor": "#2a3f5f",
             "gridcolor": "white",
             "linecolor": "white",
             "minorgridcolor": "white",
             "startlinecolor": "#2a3f5f"
            },
            "baxis": {
             "endlinecolor": "#2a3f5f",
             "gridcolor": "white",
             "linecolor": "white",
             "minorgridcolor": "white",
             "startlinecolor": "#2a3f5f"
            },
            "type": "carpet"
           }
          ],
          "choropleth": [
           {
            "colorbar": {
             "outlinewidth": 0,
             "ticks": ""
            },
            "type": "choropleth"
           }
          ],
          "contour": [
           {
            "colorbar": {
             "outlinewidth": 0,
             "ticks": ""
            },
            "colorscale": [
             [
              0,
              "#0d0887"
             ],
             [
              0.1111111111111111,
              "#46039f"
             ],
             [
              0.2222222222222222,
              "#7201a8"
             ],
             [
              0.3333333333333333,
              "#9c179e"
             ],
             [
              0.4444444444444444,
              "#bd3786"
             ],
             [
              0.5555555555555556,
              "#d8576b"
             ],
             [
              0.6666666666666666,
              "#ed7953"
             ],
             [
              0.7777777777777778,
              "#fb9f3a"
             ],
             [
              0.8888888888888888,
              "#fdca26"
             ],
             [
              1,
              "#f0f921"
             ]
            ],
            "type": "contour"
           }
          ],
          "contourcarpet": [
           {
            "colorbar": {
             "outlinewidth": 0,
             "ticks": ""
            },
            "type": "contourcarpet"
           }
          ],
          "heatmap": [
           {
            "colorbar": {
             "outlinewidth": 0,
             "ticks": ""
            },
            "colorscale": [
             [
              0,
              "#0d0887"
             ],
             [
              0.1111111111111111,
              "#46039f"
             ],
             [
              0.2222222222222222,
              "#7201a8"
             ],
             [
              0.3333333333333333,
              "#9c179e"
             ],
             [
              0.4444444444444444,
              "#bd3786"
             ],
             [
              0.5555555555555556,
              "#d8576b"
             ],
             [
              0.6666666666666666,
              "#ed7953"
             ],
             [
              0.7777777777777778,
              "#fb9f3a"
             ],
             [
              0.8888888888888888,
              "#fdca26"
             ],
             [
              1,
              "#f0f921"
             ]
            ],
            "type": "heatmap"
           }
          ],
          "heatmapgl": [
           {
            "colorbar": {
             "outlinewidth": 0,
             "ticks": ""
            },
            "colorscale": [
             [
              0,
              "#0d0887"
             ],
             [
              0.1111111111111111,
              "#46039f"
             ],
             [
              0.2222222222222222,
              "#7201a8"
             ],
             [
              0.3333333333333333,
              "#9c179e"
             ],
             [
              0.4444444444444444,
              "#bd3786"
             ],
             [
              0.5555555555555556,
              "#d8576b"
             ],
             [
              0.6666666666666666,
              "#ed7953"
             ],
             [
              0.7777777777777778,
              "#fb9f3a"
             ],
             [
              0.8888888888888888,
              "#fdca26"
             ],
             [
              1,
              "#f0f921"
             ]
            ],
            "type": "heatmapgl"
           }
          ],
          "histogram": [
           {
            "marker": {
             "pattern": {
              "fillmode": "overlay",
              "size": 10,
              "solidity": 0.2
             }
            },
            "type": "histogram"
           }
          ],
          "histogram2d": [
           {
            "colorbar": {
             "outlinewidth": 0,
             "ticks": ""
            },
            "colorscale": [
             [
              0,
              "#0d0887"
             ],
             [
              0.1111111111111111,
              "#46039f"
             ],
             [
              0.2222222222222222,
              "#7201a8"
             ],
             [
              0.3333333333333333,
              "#9c179e"
             ],
             [
              0.4444444444444444,
              "#bd3786"
             ],
             [
              0.5555555555555556,
              "#d8576b"
             ],
             [
              0.6666666666666666,
              "#ed7953"
             ],
             [
              0.7777777777777778,
              "#fb9f3a"
             ],
             [
              0.8888888888888888,
              "#fdca26"
             ],
             [
              1,
              "#f0f921"
             ]
            ],
            "type": "histogram2d"
           }
          ],
          "histogram2dcontour": [
           {
            "colorbar": {
             "outlinewidth": 0,
             "ticks": ""
            },
            "colorscale": [
             [
              0,
              "#0d0887"
             ],
             [
              0.1111111111111111,
              "#46039f"
             ],
             [
              0.2222222222222222,
              "#7201a8"
             ],
             [
              0.3333333333333333,
              "#9c179e"
             ],
             [
              0.4444444444444444,
              "#bd3786"
             ],
             [
              0.5555555555555556,
              "#d8576b"
             ],
             [
              0.6666666666666666,
              "#ed7953"
             ],
             [
              0.7777777777777778,
              "#fb9f3a"
             ],
             [
              0.8888888888888888,
              "#fdca26"
             ],
             [
              1,
              "#f0f921"
             ]
            ],
            "type": "histogram2dcontour"
           }
          ],
          "mesh3d": [
           {
            "colorbar": {
             "outlinewidth": 0,
             "ticks": ""
            },
            "type": "mesh3d"
           }
          ],
          "parcoords": [
           {
            "line": {
             "colorbar": {
              "outlinewidth": 0,
              "ticks": ""
             }
            },
            "type": "parcoords"
           }
          ],
          "pie": [
           {
            "automargin": true,
            "type": "pie"
           }
          ],
          "scatter": [
           {
            "fillpattern": {
             "fillmode": "overlay",
             "size": 10,
             "solidity": 0.2
            },
            "type": "scatter"
           }
          ],
          "scatter3d": [
           {
            "line": {
             "colorbar": {
              "outlinewidth": 0,
              "ticks": ""
             }
            },
            "marker": {
             "colorbar": {
              "outlinewidth": 0,
              "ticks": ""
             }
            },
            "type": "scatter3d"
           }
          ],
          "scattercarpet": [
           {
            "marker": {
             "colorbar": {
              "outlinewidth": 0,
              "ticks": ""
             }
            },
            "type": "scattercarpet"
           }
          ],
          "scattergeo": [
           {
            "marker": {
             "colorbar": {
              "outlinewidth": 0,
              "ticks": ""
             }
            },
            "type": "scattergeo"
           }
          ],
          "scattergl": [
           {
            "marker": {
             "colorbar": {
              "outlinewidth": 0,
              "ticks": ""
             }
            },
            "type": "scattergl"
           }
          ],
          "scattermapbox": [
           {
            "marker": {
             "colorbar": {
              "outlinewidth": 0,
              "ticks": ""
             }
            },
            "type": "scattermapbox"
           }
          ],
          "scatterpolar": [
           {
            "marker": {
             "colorbar": {
              "outlinewidth": 0,
              "ticks": ""
             }
            },
            "type": "scatterpolar"
           }
          ],
          "scatterpolargl": [
           {
            "marker": {
             "colorbar": {
              "outlinewidth": 0,
              "ticks": ""
             }
            },
            "type": "scatterpolargl"
           }
          ],
          "scatterternary": [
           {
            "marker": {
             "colorbar": {
              "outlinewidth": 0,
              "ticks": ""
             }
            },
            "type": "scatterternary"
           }
          ],
          "surface": [
           {
            "colorbar": {
             "outlinewidth": 0,
             "ticks": ""
            },
            "colorscale": [
             [
              0,
              "#0d0887"
             ],
             [
              0.1111111111111111,
              "#46039f"
             ],
             [
              0.2222222222222222,
              "#7201a8"
             ],
             [
              0.3333333333333333,
              "#9c179e"
             ],
             [
              0.4444444444444444,
              "#bd3786"
             ],
             [
              0.5555555555555556,
              "#d8576b"
             ],
             [
              0.6666666666666666,
              "#ed7953"
             ],
             [
              0.7777777777777778,
              "#fb9f3a"
             ],
             [
              0.8888888888888888,
              "#fdca26"
             ],
             [
              1,
              "#f0f921"
             ]
            ],
            "type": "surface"
           }
          ],
          "table": [
           {
            "cells": {
             "fill": {
              "color": "#EBF0F8"
             },
             "line": {
              "color": "white"
             }
            },
            "header": {
             "fill": {
              "color": "#C8D4E3"
             },
             "line": {
              "color": "white"
             }
            },
            "type": "table"
           }
          ]
         },
         "layout": {
          "annotationdefaults": {
           "arrowcolor": "#2a3f5f",
           "arrowhead": 0,
           "arrowwidth": 1
          },
          "autotypenumbers": "strict",
          "coloraxis": {
           "colorbar": {
            "outlinewidth": 0,
            "ticks": ""
           }
          },
          "colorscale": {
           "diverging": [
            [
             0,
             "#8e0152"
            ],
            [
             0.1,
             "#c51b7d"
            ],
            [
             0.2,
             "#de77ae"
            ],
            [
             0.3,
             "#f1b6da"
            ],
            [
             0.4,
             "#fde0ef"
            ],
            [
             0.5,
             "#f7f7f7"
            ],
            [
             0.6,
             "#e6f5d0"
            ],
            [
             0.7,
             "#b8e186"
            ],
            [
             0.8,
             "#7fbc41"
            ],
            [
             0.9,
             "#4d9221"
            ],
            [
             1,
             "#276419"
            ]
           ],
           "sequential": [
            [
             0,
             "#0d0887"
            ],
            [
             0.1111111111111111,
             "#46039f"
            ],
            [
             0.2222222222222222,
             "#7201a8"
            ],
            [
             0.3333333333333333,
             "#9c179e"
            ],
            [
             0.4444444444444444,
             "#bd3786"
            ],
            [
             0.5555555555555556,
             "#d8576b"
            ],
            [
             0.6666666666666666,
             "#ed7953"
            ],
            [
             0.7777777777777778,
             "#fb9f3a"
            ],
            [
             0.8888888888888888,
             "#fdca26"
            ],
            [
             1,
             "#f0f921"
            ]
           ],
           "sequentialminus": [
            [
             0,
             "#0d0887"
            ],
            [
             0.1111111111111111,
             "#46039f"
            ],
            [
             0.2222222222222222,
             "#7201a8"
            ],
            [
             0.3333333333333333,
             "#9c179e"
            ],
            [
             0.4444444444444444,
             "#bd3786"
            ],
            [
             0.5555555555555556,
             "#d8576b"
            ],
            [
             0.6666666666666666,
             "#ed7953"
            ],
            [
             0.7777777777777778,
             "#fb9f3a"
            ],
            [
             0.8888888888888888,
             "#fdca26"
            ],
            [
             1,
             "#f0f921"
            ]
           ]
          },
          "colorway": [
           "#636efa",
           "#EF553B",
           "#00cc96",
           "#ab63fa",
           "#FFA15A",
           "#19d3f3",
           "#FF6692",
           "#B6E880",
           "#FF97FF",
           "#FECB52"
          ],
          "font": {
           "color": "#2a3f5f"
          },
          "geo": {
           "bgcolor": "white",
           "lakecolor": "white",
           "landcolor": "#E5ECF6",
           "showlakes": true,
           "showland": true,
           "subunitcolor": "white"
          },
          "hoverlabel": {
           "align": "left"
          },
          "hovermode": "closest",
          "mapbox": {
           "style": "light"
          },
          "paper_bgcolor": "white",
          "plot_bgcolor": "#E5ECF6",
          "polar": {
           "angularaxis": {
            "gridcolor": "white",
            "linecolor": "white",
            "ticks": ""
           },
           "bgcolor": "#E5ECF6",
           "radialaxis": {
            "gridcolor": "white",
            "linecolor": "white",
            "ticks": ""
           }
          },
          "scene": {
           "xaxis": {
            "backgroundcolor": "#E5ECF6",
            "gridcolor": "white",
            "gridwidth": 2,
            "linecolor": "white",
            "showbackground": true,
            "ticks": "",
            "zerolinecolor": "white"
           },
           "yaxis": {
            "backgroundcolor": "#E5ECF6",
            "gridcolor": "white",
            "gridwidth": 2,
            "linecolor": "white",
            "showbackground": true,
            "ticks": "",
            "zerolinecolor": "white"
           },
           "zaxis": {
            "backgroundcolor": "#E5ECF6",
            "gridcolor": "white",
            "gridwidth": 2,
            "linecolor": "white",
            "showbackground": true,
            "ticks": "",
            "zerolinecolor": "white"
           }
          },
          "shapedefaults": {
           "line": {
            "color": "#2a3f5f"
           }
          },
          "ternary": {
           "aaxis": {
            "gridcolor": "white",
            "linecolor": "white",
            "ticks": ""
           },
           "baxis": {
            "gridcolor": "white",
            "linecolor": "white",
            "ticks": ""
           },
           "bgcolor": "#E5ECF6",
           "caxis": {
            "gridcolor": "white",
            "linecolor": "white",
            "ticks": ""
           }
          },
          "title": {
           "x": 0.05
          },
          "xaxis": {
           "automargin": true,
           "gridcolor": "white",
           "linecolor": "white",
           "ticks": "",
           "title": {
            "standoff": 15
           },
           "zerolinecolor": "white",
           "zerolinewidth": 2
          },
          "yaxis": {
           "automargin": true,
           "gridcolor": "white",
           "linecolor": "white",
           "ticks": "",
           "title": {
            "standoff": 15
           },
           "zerolinecolor": "white",
           "zerolinewidth": 2
          }
         }
        }
       }
      }
     },
     "metadata": {},
     "output_type": "display_data"
    }
   ],
   "source": [
    "umapper_3d= UMAP(n_components= 3, init= 'random', random_state=0, metric='cosine')\n",
    "proj_3d= umapper_3d.fit_transform(corpusEmb_arr)\n",
    "fig_3d= px.scatter_3d(proj_3d, x=0, y=1, z=2)\n",
    "fig_3d.show()\n",
    "\n",
    "\n",
    "\n",
    "\n",
    "umap_3d = UMAP(n_components=3, init='random', random_state=0, metric='cosine')\n",
    "proj_3d = umap_3d.fit_transform(sent_emb)\n",
    "fig_3d = px.scatter_3d(\n",
    "    proj_3d, x=0, y=1, z=2,\n",
    "    color=refCluster_df.stance, labels={'color': 'stance'}\n",
    ")\n",
    "fig_3d.update_traces(marker_size=5)\n",
    "fig_3d.show()"
   ]
  },
  {
   "cell_type": "markdown",
   "metadata": {},
   "source": [
    "## TODO\n",
    "- [+] Install packages\n",
    "- [+] Embed corpus lines\n",
    "- [+] UMAP Dim reduction\n",
    "- [+] For the embeddings, put a label next to each embeding and save the whole thing as csv, load as df\n",
    "- [ ] Explore different sentence transformers models\n",
    "- [ ] Explore clustering methods (read documentation)\n",
    "- [ ] Embed LLM-generated polarized opinions as references\n",
    "- [ ] Try other dimensionality reduction techiques\n",
    "\n",
    "\n",
    "## Possible Ideas\n",
    "-   Recreate Lupin: Classify embedding within a spectrum between two polar opposite references\n",
    "-   KNN-based algo: instead of using a spectrum, simply classify each opinion based on its nearest neighbors in vector space, or some variation of that\n",
    "    - Given the sometimes ambiguous and overlapping nature of ideologies, this might be used as an alternative to classifying based on discrete categories\n",
    "    - ex: \"given this person's opinion, he is most ideologically aligned with politicians x and y\"\n",
    "    - We could also create an embedding of entire ideology as an average of a collection of quotes, and do classification based on the single nearest neighbor\n",
    "\n",
    "-   Recreate the 2019 Party Embedding method using SBERT\n",
    "    - Embed each opinion in the dataset with a party/ideology label\n",
    "    - Classify each new opinion based on distance to that label (need more research to confirm this method)"
   ]
  },
  {
   "cell_type": "markdown",
   "metadata": {},
   "source": []
  }
 ],
 "metadata": {
  "kernelspec": {
   "display_name": "base",
   "language": "python",
   "name": "python3"
  },
  "language_info": {
   "codemirror_mode": {
    "name": "ipython",
    "version": 3
   },
   "file_extension": ".py",
   "mimetype": "text/x-python",
   "name": "python",
   "nbconvert_exporter": "python",
   "pygments_lexer": "ipython3",
   "version": "3.9.18"
  }
 },
 "nbformat": 4,
 "nbformat_minor": 2
}
