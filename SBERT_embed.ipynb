{
 "cells": [
  {
   "cell_type": "markdown",
   "metadata": {},
   "source": [
    "# __[:+:]__ SBERT Embeddings Test"
   ]
  },
  {
   "cell_type": "code",
   "execution_count": 27,
   "metadata": {},
   "outputs": [],
   "source": [
    "from sentence_transformers import SentenceTransformer, util, InputExample, losses\n",
    "from torch.utils.data import DataLoader\n",
    "import matplotlib.pyplot as plt\n",
    "import plotly.express as px\n",
    "from umap import UMAP\n",
    "import pandas as pd\n",
    "import numpy as np\n",
    "import umap.plot\n",
    "import pickle\n",
    "import json"
   ]
  },
  {
   "cell_type": "markdown",
   "metadata": {},
   "source": [
    "### Get Data"
   ]
  },
  {
   "cell_type": "code",
   "execution_count": 37,
   "metadata": {},
   "outputs": [
    {
     "name": "stdout",
     "output_type": "stream",
     "text": [
      "[+] -- Loaded  70  docs ---------------------------------------------------------------------------------------------|\n",
      "0 :  Support for Israeli settlements in the West Bank is crucial for security.\n",
      "\n",
      "1 :  Palestinian statehood should be recognized and supported by the international community.\n",
      "\n",
      "2 :  Economic cooperation between Israel and Palestine can lead to peace.\n",
      "\n",
      "[+] -- Loaded  238  docs ---------------------------------------------------------------------------------------------|\n",
      "0 :  Speaker 1 [0.01s - 26.53s]:  You're saying that you think it's the two narratives. Yeah, but we can't hear you very loudly. Maybe it's much better, much better.\n",
      "\n",
      "1 :  Speaker 3 [4.60s - 25.21s]:  Yeah, I was just saying that I think it's pretty obvious why Native Americans would side with Palestinians. I didn't really know that there were Palestinians, that there were Native Americans who were pro-Israel. Sorry, is this better?\n",
      "\n",
      "2 :  Speaker 3 [26.65s - 39.19s]:  Yeah, I was just saying that I'm not surprised that that they're Native Americans who are pro-Palestinian, but I didn't know about pro-Israel.\n",
      "\n",
      " ---------------------------------------------------------------------------------------------|\n",
      "                                              opinion      stance\n",
      "0  Israel has the right to exist as a sovereign J...  pro-Israel\n",
      "1  Israel's security measures are necessary to pr...  pro-Israel\n",
      "2  The Israeli government's efforts to negotiate ...  pro-Israel\n",
      "3  Israel's withdrawal from Gaza in 2005 was a si...  pro-Israel\n",
      "4  Hamas' use of civilian areas for launching att...  pro-Israel \n",
      "\n"
     ]
    }
   ],
   "source": [
    "with open(\"ideological_corpus.txt\", \"r\") as f:\n",
    "    corpus = f.readlines()\n",
    "print(\"[+] -- Loaded \", len(corpus), ' docs ---------------------------------------------------------------------------------------------|')\n",
    "for i in range(3):\n",
    "    print(i, ': ', corpus[i])\n",
    "\n",
    "with open(\"transcript.txt\", \"r\") as f:\n",
    "    transcript = f.readlines()\n",
    "print(\"[+] -- Loaded \", len(transcript), ' docs ---------------------------------------------------------------------------------------------|')\n",
    "for i in range(3):\n",
    "    print(i, ': ', transcript[i])\n",
    "\n",
    "# Read csv of generated reference opinions as dataframe\n",
    "refCluster_df = pd.read_csv('referenceClusters.csv')\n",
    "print(' ---------------------------------------------------------------------------------------------|\\n', refCluster_df.head(), '\\n')"
   ]
  },
  {
   "cell_type": "markdown",
   "metadata": {},
   "source": [
    "### Load Model and Embed \n",
    "Choose and load model from https://sbert.net/docs/sentence_transformer/pretrained_models.html"
   ]
  },
  {
   "cell_type": "code",
   "execution_count": 29,
   "metadata": {},
   "outputs": [
    {
     "name": "stderr",
     "output_type": "stream",
     "text": [
      "c:\\Users\\richa\\anaconda3\\lib\\site-packages\\transformers\\tokenization_utils_base.py:1601: FutureWarning:\n",
      "\n",
      "`clean_up_tokenization_spaces` was not set. It will be set to `True` by default. This behavior will be depracted in transformers v4.45, and will be then set to `False` by default. For more details check this issue: https://github.com/huggingface/transformers/issues/31884\n",
      "\n"
     ]
    },
    {
     "name": "stdout",
     "output_type": "stream",
     "text": [
      "Cosine-Similarity: tensor([[0.6053]])\n"
     ]
    }
   ],
   "source": [
    "#[+:]-- Top quality for general purpose\n",
    "model = SentenceTransformer('all-mpnet-base-v2')\n",
    "\n",
    "#[+:]-- Smaller, faster, but decent quality\n",
    "# model = SentenceTransformer('all-MiniLM-L6-v2')\n",
    "\n",
    "#Embed some examples\n",
    "emb1 = model.encode(\"This is a red cat with a hat.\")\n",
    "emb2 = model.encode(\"Have you seen my red cat?\")\n",
    "\n",
    "#Get the cosine similarity score between example sentences\n",
    "cos_sim = util.cos_sim(emb1, emb2)\n",
    "print(\"Cosine-Similarity:\", cos_sim)"
   ]
  },
  {
   "cell_type": "code",
   "execution_count": 48,
   "metadata": {},
   "outputs": [
    {
     "name": "stdout",
     "output_type": "stream",
     "text": [
      "70 768\n",
      "Opinion Sentences: \n",
      " 0    Israel has the right to exist as a sovereign J...\n",
      "1    Israel's security measures are necessary to pr...\n",
      "2    The Israeli government's efforts to negotiate ...\n",
      "3    Israel's withdrawal from Gaza in 2005 was a si...\n",
      "4    Hamas' use of civilian areas for launching att...\n",
      "Name: opinion, dtype: object \n",
      "\n",
      "Embeded Sentences:  100 x 768\n"
     ]
    }
   ],
   "source": [
    "# corpusEmb_arr= [model.encode(i) for i in corpus]\n",
    "# print(len(corpusEmb_arr), len(corpusEmb_arr[0]))\n",
    "\n",
    "#[+:] extract only the sentences, (without the labels)\n",
    "sentences = refCluster_df.loc[:,'opinion']\n",
    "print('\\nOpinion Sentences sans Labels: \\n', sentences.head(), '\\n')\n",
    "\n",
    "#{+:] Embed the extracted sentences\n",
    "sent_emb= [model.encode(i) for i in sentences]\n",
    "print('Embeded Sentences: ', len(sent_emb),'x', len(sent_emb[0]))"
   ]
  },
  {
   "cell_type": "markdown",
   "metadata": {},
   "source": [
    "### UMAP Dimensionality Reduction & Visualization"
   ]
  },
  {
   "cell_type": "markdown",
   "metadata": {},
   "source": [
    "#### 2D Projection"
   ]
  },
  {
   "cell_type": "code",
   "execution_count": 31,
   "metadata": {},
   "outputs": [],
   "source": [
    "\n",
    "#[+] Also try \"metric= cosine\" arg for UMAP\n",
    "# umapper_2d= UMAP(n_components= 2, init= 'random', random_state=0, metric='cosine')\n",
    "# proj_2d= umapper_2d.fit_transform(corpusEmb_arr)\n",
    "# fig_2d= px.scatter(proj_2d, x=0, y=1)\n",
    "# fig_2d.show()"
   ]
  },
  {
   "cell_type": "markdown",
   "metadata": {},
   "source": [
    "#### 3D Projection"
   ]
  },
  {
   "cell_type": "code",
   "execution_count": 165,
   "metadata": {},
   "outputs": [
    {
     "name": "stderr",
     "output_type": "stream",
     "text": [
      "c:\\Users\\richa\\anaconda3\\lib\\site-packages\\umap\\umap_.py:1945: UserWarning:\n",
      "\n",
      "n_jobs value 1 overridden to 1 by setting random_state. Use no seed for parallelism.\n",
      "\n"
     ]
    },
    {
     "name": "stdout",
     "output_type": "stream",
     "text": [
      "x           9.101793\n",
      "y           7.909717\n",
      "z           7.746987\n",
      "stance    pro-Israel\n",
      "Name: 49, dtype: object \n",
      "\n",
      "x               6.83225\n",
      "y              6.648385\n",
      "z              8.856343\n",
      "stance    pro-Palestine\n",
      "Name: 50, dtype: object \n",
      "\n",
      "<class 'numpy.ndarray'> \n",
      " [[9.101793  7.909717  7.7469873]\n",
      " [6.8322496 6.6483846 8.856343 ]]\n"
     ]
    },
    {
     "data": {
      "application/vnd.plotly.v1+json": {
       "config": {
        "plotlyServerURL": "https://plot.ly"
       },
       "data": [
        {
         "hovertemplate": "stance=pro-Israel<br>x=%{x}<br>y=%{y}<br>z=%{z}<extra></extra>",
         "legendgroup": "pro-Israel",
         "marker": {
          "color": "#636efa",
          "size": 5,
          "symbol": "circle"
         },
         "mode": "markers",
         "name": "pro-Israel",
         "scene": "scene",
         "showlegend": true,
         "type": "scatter3d",
         "x": [
          8.97282600402832,
          8.94637393951416,
          5.493677616119385,
          9.260308265686035,
          8.167441368103027,
          8.353768348693848,
          9.388442993164062,
          6.302891731262207,
          6.103030681610107,
          8.694785118103027,
          9.415023803710938,
          7.3698410987854,
          8.68193244934082,
          6.113879203796387,
          8.456031799316406,
          5.315968990325928,
          9.033988952636719,
          6.437869548797607,
          9.788813591003418,
          7.576348304748535,
          6.876965522766113,
          5.5850677490234375,
          5.720107078552246,
          7.929806709289551,
          5.552067756652832,
          8.716989517211914,
          9.225762367248535,
          5.571426868438721,
          6.239023685455322,
          5.933931827545166,
          7.377171993255615,
          5.942889213562012,
          9.060054779052734,
          5.864250659942627,
          8.674901008605957,
          5.754932403564453,
          5.48906946182251,
          9.321707725524902,
          7.643067836761475,
          5.593142986297607,
          8.848569869995117,
          9.235591888427734,
          5.428060531616211,
          9.20279312133789,
          5.572474956512451,
          8.16407299041748,
          9.890889167785645,
          5.409453392028809,
          9.03622817993164,
          9.10179328918457
         ],
         "y": [
          8.87180233001709,
          10.432327270507812,
          6.053779125213623,
          7.53762674331665,
          9.840036392211914,
          10.432887077331543,
          7.695706367492676,
          9.080050468444824,
          6.578890800476074,
          10.51465129852295,
          7.760179042816162,
          7.556604862213135,
          10.247903823852539,
          9.197127342224121,
          10.219517707824707,
          6.769331455230713,
          9.965818405151367,
          6.380479335784912,
          8.979391098022461,
          8.285728454589844,
          8.593523979187012,
          5.857604503631592,
          6.447916030883789,
          9.980483055114746,
          6.4687418937683105,
          9.62637996673584,
          9.57225227355957,
          6.265723705291748,
          9.069275856018066,
          6.695525646209717,
          9.867563247680664,
          7.766254901885986,
          10.20650577545166,
          7.106383800506592,
          10.390571594238281,
          7.8978400230407715,
          7.703680038452148,
          9.052005767822266,
          9.714160919189453,
          6.777857780456543,
          10.58894157409668,
          7.556755542755127,
          7.2283477783203125,
          10.157282829284668,
          7.48128080368042,
          10.062298774719238,
          8.936029434204102,
          6.326152801513672,
          10.178332328796387,
          7.909717082977295
         ],
         "z": [
          7.712194442749023,
          8.947545051574707,
          8.764413833618164,
          8.53966236114502,
          8.788050651550293,
          8.834561347961426,
          8.701967239379883,
          7.919401168823242,
          8.99674129486084,
          9.006464004516602,
          8.543111801147461,
          8.926711082458496,
          8.346539497375488,
          8.182945251464844,
          8.891077995300293,
          8.81093978881836,
          8.457045555114746,
          8.917015075683594,
          7.62095832824707,
          9.142406463623047,
          7.712188720703125,
          8.876635551452637,
          9.250097274780273,
          9.044636726379395,
          9.096884727478027,
          8.53289794921875,
          8.282979965209961,
          8.849481582641602,
          7.924339294433594,
          8.932302474975586,
          8.633023262023926,
          9.037797927856445,
          8.79272174835205,
          9.049851417541504,
          8.760932922363281,
          8.91718578338623,
          8.662079811096191,
          8.060072898864746,
          9.088607788085938,
          9.270360946655273,
          9.005853652954102,
          8.754916191101074,
          8.969064712524414,
          8.608386993408203,
          8.933426856994629,
          9.105657577514648,
          7.713265419006348,
          8.709823608398438,
          8.333439826965332,
          7.746987342834473
         ]
        },
        {
         "hovertemplate": "stance=pro-Palestine<br>x=%{x}<br>y=%{y}<br>z=%{z}<extra></extra>",
         "legendgroup": "pro-Palestine",
         "marker": {
          "color": "#EF553B",
          "size": 5,
          "symbol": "circle"
         },
         "mode": "markers",
         "name": "pro-Palestine",
         "scene": "scene",
         "showlegend": true,
         "type": "scatter3d",
         "x": [
          6.832249641418457,
          7.309067726135254,
          6.9282941818237305,
          5.585628986358643,
          7.292469024658203,
          6.503216743469238,
          6.928732872009277,
          7.136560916900635,
          6.553223609924316,
          7.003509044647217,
          6.834996223449707,
          6.7777228355407715,
          6.172310829162598,
          6.493147373199463,
          7.194230079650879,
          5.99690055847168,
          7.296453952789307,
          7.330828666687012,
          7.138393878936768,
          6.15552282333374,
          5.884869575500488,
          7.1446146965026855,
          6.387136459350586,
          7.503489971160889,
          5.501876354217529,
          8.861961364746094,
          9.193663597106934,
          7.872156620025635,
          8.992216110229492,
          9.433821678161621,
          6.7390851974487305,
          8.176660537719727,
          8.434391021728516,
          6.706235408782959,
          9.51543140411377,
          7.111974716186523,
          8.390212059020996,
          9.127683639526367,
          7.4831695556640625,
          9.635746955871582,
          6.630084037780762,
          8.850970268249512,
          9.060494422912598,
          8.618529319763184,
          6.942747592926025,
          8.566288948059082,
          9.55517578125,
          9.208760261535645,
          7.486577987670898,
          8.885565757751465
         ],
         "y": [
          6.6483845710754395,
          9.939800262451172,
          9.810858726501465,
          5.948797702789307,
          8.523114204406738,
          7.898144245147705,
          7.980284214019775,
          7.868870735168457,
          9.558505058288574,
          6.877734184265137,
          9.361254692077637,
          7.85503625869751,
          6.378036022186279,
          9.35073184967041,
          7.469569683074951,
          5.929553508758545,
          7.100032329559326,
          9.077289581298828,
          9.867358207702637,
          8.828081130981445,
          6.1583571434021,
          8.352973937988281,
          8.096138954162598,
          7.698769569396973,
          7.47128438949585,
          8.110173225402832,
          8.153575897216797,
          8.061895370483398,
          8.072434425354004,
          8.967287063598633,
          6.8503923416137695,
          9.884281158447266,
          7.974853515625,
          7.726916313171387,
          8.675822257995605,
          9.764182090759277,
          7.981351375579834,
          7.888245582580566,
          7.793026924133301,
          9.092755317687988,
          7.199101448059082,
          8.06179141998291,
          8.029135704040527,
          8.131028175354004,
          9.376311302185059,
          7.815674781799316,
          8.76725959777832,
          7.84658670425415,
          8.220793724060059,
          7.793612003326416
         ],
         "z": [
          8.856343269348145,
          8.200532913208008,
          8.350540161132812,
          8.814271926879883,
          7.892111301422119,
          8.697948455810547,
          8.470322608947754,
          8.476951599121094,
          8.131891250610352,
          8.887293815612793,
          8.67162799835205,
          8.277730941772461,
          8.675703048706055,
          8.467782974243164,
          8.71184253692627,
          8.753434181213379,
          8.874969482421875,
          8.085286140441895,
          8.3365478515625,
          7.856998443603516,
          8.840991020202637,
          8.215734481811523,
          9.133472442626953,
          8.807807922363281,
          8.68204116821289,
          7.19502592086792,
          6.898123741149902,
          7.6859893798828125,
          6.780287265777588,
          7.774198532104492,
          8.709404945373535,
          7.842759609222412,
          7.0121235847473145,
          8.35417652130127,
          7.527781963348389,
          8.39594554901123,
          7.011076927185059,
          6.871872901916504,
          8.256782531738281,
          7.712425231933594,
          8.590971946716309,
          6.608505725860596,
          7.420656681060791,
          6.872165203094482,
          8.458036422729492,
          7.168387413024902,
          7.4724626541137695,
          7.62344217300415,
          7.475966453552246,
          6.968569755554199
         ]
        }
       ],
       "layout": {
        "legend": {
         "title": {
          "text": "stance"
         },
         "tracegroupgap": 0
        },
        "margin": {
         "t": 60
        },
        "scene": {
         "domain": {
          "x": [
           0,
           1
          ],
          "y": [
           0,
           1
          ]
         },
         "xaxis": {
          "title": {
           "text": "x"
          }
         },
         "yaxis": {
          "title": {
           "text": "y"
          }
         },
         "zaxis": {
          "title": {
           "text": "z"
          }
         }
        },
        "template": {
         "data": {
          "bar": [
           {
            "error_x": {
             "color": "#2a3f5f"
            },
            "error_y": {
             "color": "#2a3f5f"
            },
            "marker": {
             "line": {
              "color": "#E5ECF6",
              "width": 0.5
             },
             "pattern": {
              "fillmode": "overlay",
              "size": 10,
              "solidity": 0.2
             }
            },
            "type": "bar"
           }
          ],
          "barpolar": [
           {
            "marker": {
             "line": {
              "color": "#E5ECF6",
              "width": 0.5
             },
             "pattern": {
              "fillmode": "overlay",
              "size": 10,
              "solidity": 0.2
             }
            },
            "type": "barpolar"
           }
          ],
          "carpet": [
           {
            "aaxis": {
             "endlinecolor": "#2a3f5f",
             "gridcolor": "white",
             "linecolor": "white",
             "minorgridcolor": "white",
             "startlinecolor": "#2a3f5f"
            },
            "baxis": {
             "endlinecolor": "#2a3f5f",
             "gridcolor": "white",
             "linecolor": "white",
             "minorgridcolor": "white",
             "startlinecolor": "#2a3f5f"
            },
            "type": "carpet"
           }
          ],
          "choropleth": [
           {
            "colorbar": {
             "outlinewidth": 0,
             "ticks": ""
            },
            "type": "choropleth"
           }
          ],
          "contour": [
           {
            "colorbar": {
             "outlinewidth": 0,
             "ticks": ""
            },
            "colorscale": [
             [
              0,
              "#0d0887"
             ],
             [
              0.1111111111111111,
              "#46039f"
             ],
             [
              0.2222222222222222,
              "#7201a8"
             ],
             [
              0.3333333333333333,
              "#9c179e"
             ],
             [
              0.4444444444444444,
              "#bd3786"
             ],
             [
              0.5555555555555556,
              "#d8576b"
             ],
             [
              0.6666666666666666,
              "#ed7953"
             ],
             [
              0.7777777777777778,
              "#fb9f3a"
             ],
             [
              0.8888888888888888,
              "#fdca26"
             ],
             [
              1,
              "#f0f921"
             ]
            ],
            "type": "contour"
           }
          ],
          "contourcarpet": [
           {
            "colorbar": {
             "outlinewidth": 0,
             "ticks": ""
            },
            "type": "contourcarpet"
           }
          ],
          "heatmap": [
           {
            "colorbar": {
             "outlinewidth": 0,
             "ticks": ""
            },
            "colorscale": [
             [
              0,
              "#0d0887"
             ],
             [
              0.1111111111111111,
              "#46039f"
             ],
             [
              0.2222222222222222,
              "#7201a8"
             ],
             [
              0.3333333333333333,
              "#9c179e"
             ],
             [
              0.4444444444444444,
              "#bd3786"
             ],
             [
              0.5555555555555556,
              "#d8576b"
             ],
             [
              0.6666666666666666,
              "#ed7953"
             ],
             [
              0.7777777777777778,
              "#fb9f3a"
             ],
             [
              0.8888888888888888,
              "#fdca26"
             ],
             [
              1,
              "#f0f921"
             ]
            ],
            "type": "heatmap"
           }
          ],
          "heatmapgl": [
           {
            "colorbar": {
             "outlinewidth": 0,
             "ticks": ""
            },
            "colorscale": [
             [
              0,
              "#0d0887"
             ],
             [
              0.1111111111111111,
              "#46039f"
             ],
             [
              0.2222222222222222,
              "#7201a8"
             ],
             [
              0.3333333333333333,
              "#9c179e"
             ],
             [
              0.4444444444444444,
              "#bd3786"
             ],
             [
              0.5555555555555556,
              "#d8576b"
             ],
             [
              0.6666666666666666,
              "#ed7953"
             ],
             [
              0.7777777777777778,
              "#fb9f3a"
             ],
             [
              0.8888888888888888,
              "#fdca26"
             ],
             [
              1,
              "#f0f921"
             ]
            ],
            "type": "heatmapgl"
           }
          ],
          "histogram": [
           {
            "marker": {
             "pattern": {
              "fillmode": "overlay",
              "size": 10,
              "solidity": 0.2
             }
            },
            "type": "histogram"
           }
          ],
          "histogram2d": [
           {
            "colorbar": {
             "outlinewidth": 0,
             "ticks": ""
            },
            "colorscale": [
             [
              0,
              "#0d0887"
             ],
             [
              0.1111111111111111,
              "#46039f"
             ],
             [
              0.2222222222222222,
              "#7201a8"
             ],
             [
              0.3333333333333333,
              "#9c179e"
             ],
             [
              0.4444444444444444,
              "#bd3786"
             ],
             [
              0.5555555555555556,
              "#d8576b"
             ],
             [
              0.6666666666666666,
              "#ed7953"
             ],
             [
              0.7777777777777778,
              "#fb9f3a"
             ],
             [
              0.8888888888888888,
              "#fdca26"
             ],
             [
              1,
              "#f0f921"
             ]
            ],
            "type": "histogram2d"
           }
          ],
          "histogram2dcontour": [
           {
            "colorbar": {
             "outlinewidth": 0,
             "ticks": ""
            },
            "colorscale": [
             [
              0,
              "#0d0887"
             ],
             [
              0.1111111111111111,
              "#46039f"
             ],
             [
              0.2222222222222222,
              "#7201a8"
             ],
             [
              0.3333333333333333,
              "#9c179e"
             ],
             [
              0.4444444444444444,
              "#bd3786"
             ],
             [
              0.5555555555555556,
              "#d8576b"
             ],
             [
              0.6666666666666666,
              "#ed7953"
             ],
             [
              0.7777777777777778,
              "#fb9f3a"
             ],
             [
              0.8888888888888888,
              "#fdca26"
             ],
             [
              1,
              "#f0f921"
             ]
            ],
            "type": "histogram2dcontour"
           }
          ],
          "mesh3d": [
           {
            "colorbar": {
             "outlinewidth": 0,
             "ticks": ""
            },
            "type": "mesh3d"
           }
          ],
          "parcoords": [
           {
            "line": {
             "colorbar": {
              "outlinewidth": 0,
              "ticks": ""
             }
            },
            "type": "parcoords"
           }
          ],
          "pie": [
           {
            "automargin": true,
            "type": "pie"
           }
          ],
          "scatter": [
           {
            "fillpattern": {
             "fillmode": "overlay",
             "size": 10,
             "solidity": 0.2
            },
            "type": "scatter"
           }
          ],
          "scatter3d": [
           {
            "line": {
             "colorbar": {
              "outlinewidth": 0,
              "ticks": ""
             }
            },
            "marker": {
             "colorbar": {
              "outlinewidth": 0,
              "ticks": ""
             }
            },
            "type": "scatter3d"
           }
          ],
          "scattercarpet": [
           {
            "marker": {
             "colorbar": {
              "outlinewidth": 0,
              "ticks": ""
             }
            },
            "type": "scattercarpet"
           }
          ],
          "scattergeo": [
           {
            "marker": {
             "colorbar": {
              "outlinewidth": 0,
              "ticks": ""
             }
            },
            "type": "scattergeo"
           }
          ],
          "scattergl": [
           {
            "marker": {
             "colorbar": {
              "outlinewidth": 0,
              "ticks": ""
             }
            },
            "type": "scattergl"
           }
          ],
          "scattermapbox": [
           {
            "marker": {
             "colorbar": {
              "outlinewidth": 0,
              "ticks": ""
             }
            },
            "type": "scattermapbox"
           }
          ],
          "scatterpolar": [
           {
            "marker": {
             "colorbar": {
              "outlinewidth": 0,
              "ticks": ""
             }
            },
            "type": "scatterpolar"
           }
          ],
          "scatterpolargl": [
           {
            "marker": {
             "colorbar": {
              "outlinewidth": 0,
              "ticks": ""
             }
            },
            "type": "scatterpolargl"
           }
          ],
          "scatterternary": [
           {
            "marker": {
             "colorbar": {
              "outlinewidth": 0,
              "ticks": ""
             }
            },
            "type": "scatterternary"
           }
          ],
          "surface": [
           {
            "colorbar": {
             "outlinewidth": 0,
             "ticks": ""
            },
            "colorscale": [
             [
              0,
              "#0d0887"
             ],
             [
              0.1111111111111111,
              "#46039f"
             ],
             [
              0.2222222222222222,
              "#7201a8"
             ],
             [
              0.3333333333333333,
              "#9c179e"
             ],
             [
              0.4444444444444444,
              "#bd3786"
             ],
             [
              0.5555555555555556,
              "#d8576b"
             ],
             [
              0.6666666666666666,
              "#ed7953"
             ],
             [
              0.7777777777777778,
              "#fb9f3a"
             ],
             [
              0.8888888888888888,
              "#fdca26"
             ],
             [
              1,
              "#f0f921"
             ]
            ],
            "type": "surface"
           }
          ],
          "table": [
           {
            "cells": {
             "fill": {
              "color": "#EBF0F8"
             },
             "line": {
              "color": "white"
             }
            },
            "header": {
             "fill": {
              "color": "#C8D4E3"
             },
             "line": {
              "color": "white"
             }
            },
            "type": "table"
           }
          ]
         },
         "layout": {
          "annotationdefaults": {
           "arrowcolor": "#2a3f5f",
           "arrowhead": 0,
           "arrowwidth": 1
          },
          "autotypenumbers": "strict",
          "coloraxis": {
           "colorbar": {
            "outlinewidth": 0,
            "ticks": ""
           }
          },
          "colorscale": {
           "diverging": [
            [
             0,
             "#8e0152"
            ],
            [
             0.1,
             "#c51b7d"
            ],
            [
             0.2,
             "#de77ae"
            ],
            [
             0.3,
             "#f1b6da"
            ],
            [
             0.4,
             "#fde0ef"
            ],
            [
             0.5,
             "#f7f7f7"
            ],
            [
             0.6,
             "#e6f5d0"
            ],
            [
             0.7,
             "#b8e186"
            ],
            [
             0.8,
             "#7fbc41"
            ],
            [
             0.9,
             "#4d9221"
            ],
            [
             1,
             "#276419"
            ]
           ],
           "sequential": [
            [
             0,
             "#0d0887"
            ],
            [
             0.1111111111111111,
             "#46039f"
            ],
            [
             0.2222222222222222,
             "#7201a8"
            ],
            [
             0.3333333333333333,
             "#9c179e"
            ],
            [
             0.4444444444444444,
             "#bd3786"
            ],
            [
             0.5555555555555556,
             "#d8576b"
            ],
            [
             0.6666666666666666,
             "#ed7953"
            ],
            [
             0.7777777777777778,
             "#fb9f3a"
            ],
            [
             0.8888888888888888,
             "#fdca26"
            ],
            [
             1,
             "#f0f921"
            ]
           ],
           "sequentialminus": [
            [
             0,
             "#0d0887"
            ],
            [
             0.1111111111111111,
             "#46039f"
            ],
            [
             0.2222222222222222,
             "#7201a8"
            ],
            [
             0.3333333333333333,
             "#9c179e"
            ],
            [
             0.4444444444444444,
             "#bd3786"
            ],
            [
             0.5555555555555556,
             "#d8576b"
            ],
            [
             0.6666666666666666,
             "#ed7953"
            ],
            [
             0.7777777777777778,
             "#fb9f3a"
            ],
            [
             0.8888888888888888,
             "#fdca26"
            ],
            [
             1,
             "#f0f921"
            ]
           ]
          },
          "colorway": [
           "#636efa",
           "#EF553B",
           "#00cc96",
           "#ab63fa",
           "#FFA15A",
           "#19d3f3",
           "#FF6692",
           "#B6E880",
           "#FF97FF",
           "#FECB52"
          ],
          "font": {
           "color": "#2a3f5f"
          },
          "geo": {
           "bgcolor": "white",
           "lakecolor": "white",
           "landcolor": "#E5ECF6",
           "showlakes": true,
           "showland": true,
           "subunitcolor": "white"
          },
          "hoverlabel": {
           "align": "left"
          },
          "hovermode": "closest",
          "mapbox": {
           "style": "light"
          },
          "paper_bgcolor": "white",
          "plot_bgcolor": "#E5ECF6",
          "polar": {
           "angularaxis": {
            "gridcolor": "white",
            "linecolor": "white",
            "ticks": ""
           },
           "bgcolor": "#E5ECF6",
           "radialaxis": {
            "gridcolor": "white",
            "linecolor": "white",
            "ticks": ""
           }
          },
          "scene": {
           "xaxis": {
            "backgroundcolor": "#E5ECF6",
            "gridcolor": "white",
            "gridwidth": 2,
            "linecolor": "white",
            "showbackground": true,
            "ticks": "",
            "zerolinecolor": "white"
           },
           "yaxis": {
            "backgroundcolor": "#E5ECF6",
            "gridcolor": "white",
            "gridwidth": 2,
            "linecolor": "white",
            "showbackground": true,
            "ticks": "",
            "zerolinecolor": "white"
           },
           "zaxis": {
            "backgroundcolor": "#E5ECF6",
            "gridcolor": "white",
            "gridwidth": 2,
            "linecolor": "white",
            "showbackground": true,
            "ticks": "",
            "zerolinecolor": "white"
           }
          },
          "shapedefaults": {
           "line": {
            "color": "#2a3f5f"
           }
          },
          "ternary": {
           "aaxis": {
            "gridcolor": "white",
            "linecolor": "white",
            "ticks": ""
           },
           "baxis": {
            "gridcolor": "white",
            "linecolor": "white",
            "ticks": ""
           },
           "bgcolor": "#E5ECF6",
           "caxis": {
            "gridcolor": "white",
            "linecolor": "white",
            "ticks": ""
           }
          },
          "title": {
           "x": 0.05
          },
          "xaxis": {
           "automargin": true,
           "gridcolor": "white",
           "linecolor": "white",
           "ticks": "",
           "title": {
            "standoff": 15
           },
           "zerolinecolor": "white",
           "zerolinewidth": 2
          },
          "yaxis": {
           "automargin": true,
           "gridcolor": "white",
           "linecolor": "white",
           "ticks": "",
           "title": {
            "standoff": 15
           },
           "zerolinecolor": "white",
           "zerolinewidth": 2
          }
         }
        }
       }
      }
     },
     "metadata": {},
     "output_type": "display_data"
    }
   ],
   "source": [
    "#[+]-- UMAP on corpus\n",
    "# umapper_3d= UMAP(n_components= 3, init= 'random', random_state=0, metric='cosine')\n",
    "# proj_3d= umapper_3d.fit_transform(corpusEmb_arr)\n",
    "# fig_3d= px.scatter_3d(proj_3d, x=0, y=1, z=2)\n",
    "# fig_3d.update_traces(marker_size=7)\n",
    "# fig_3d.show()\n",
    "\n",
    "#[+]-- UMAP on generated opinions\n",
    "# umap_3d = UMAP(n_components=3, init='random', random_state=0, metric='cosine')\n",
    "# proj_3d = umap_3d.fit_transform(sent_emb)\n",
    "# print(len(proj_3d), len(proj_3d[0]))\n",
    "# fig_3d = px.scatter_3d(\n",
    "#     proj_3d,\n",
    "#     x=0, y=1, z=2,\n",
    "#     color=refCluster_df.stance, \n",
    "#     labels={'color': 'stance'}\n",
    "# )\n",
    "# fig_3d.update_traces(marker_size=5)\n",
    "# fig_3d.show()\n",
    "\n",
    "\n",
    "\n",
    "#[+] Project all the embeddings into 3d\n",
    "umap_3d = UMAP(n_components=3, init='random', random_state=0, metric='cosine')\n",
    "proj_3d = umap_3d.fit_transform(sent_emb)\n",
    "\n",
    "#[+] Create a new dataframe where each sentence is not the sentence embedding projection\n",
    "proj_3d_df= pd.DataFrame(proj_3d, columns= ['x', 'y', 'z'])\n",
    "proj_3d_df['stance'] = refCluster_df.stance\n",
    "for i in range(49,51): print(proj_3d_df.iloc[i], '\\n')\n",
    "\n",
    "#[+] Map the dataframe of projected embeddings in 3d\n",
    "print(type(proj_3d),'\\n', proj_3d[49:51])\n",
    "fig_3d = px.scatter_3d(\n",
    "    proj_3d_df,\n",
    "    x='x', y='y', z='z',\n",
    "    color='stance', \n",
    "    #labels={'color': 'stance'}\n",
    ")\n",
    "fig_3d.update_traces(marker_size=5)\n",
    "fig_3d.show()"
   ]
  },
  {
   "cell_type": "markdown",
   "metadata": {},
   "source": [
    "## Take the Average of Each Embedding Cluster"
   ]
  },
  {
   "cell_type": "code",
   "execution_count": 169,
   "metadata": {},
   "outputs": [
    {
     "name": "stdout",
     "output_type": "stream",
     "text": [
      "Israel has the right to exist as a sovereign Jewish state.\n",
      "Israel's security measures are necessary to protect its citizens from terrorism.\n",
      "The Israeli government's efforts to negotiate peace have been met with consistent rejection from Palestinian leadership.\n",
      "Israel's withdrawal from Gaza in 2005 was a significant concession aimed at fostering peace.\n",
      "Hamas' use of civilian areas for launching attacks justifies Israel's self-defense actions.\n",
      "(50, 768)\n",
      "(768,)\n"
     ]
    }
   ],
   "source": [
    "pro_isr= refCluster_df[refCluster_df['stance']== \"pro-Israel\"]\n",
    "pro_isr= pro_isr.loc[:,'opinion']\n",
    "for i in range(5): print(pro_isr.iloc[i])\n",
    "pro_isr_emb= np.array([model.encode(i) for i in pro_isr])\n",
    "print(pro_isr_emb.shape)\n",
    "pro_isr_avg= np.mean(pro_isr_emb, axis=0)\n",
    "print(pro_isr_avg.shape)"
   ]
  },
  {
   "cell_type": "code",
   "execution_count": 70,
   "metadata": {},
   "outputs": [
    {
     "name": "stdout",
     "output_type": "stream",
     "text": [
      "50    Israel's continued expansion of settlements in...\n",
      "51    The Israeli blockade of Gaza has created a hum...\n",
      "52    Israel's use of disproportionate force in Gaza...\n",
      "53    The Israeli government's refusal to engage in ...\n",
      "54    Israel's occupation of Palestinian territories...\n",
      "Name: opinion, dtype: object\n",
      "(50, 768)\n",
      "(768,)\n"
     ]
    }
   ],
   "source": [
    "pro_pal= refCluster_df[refCluster_df['stance']== \"pro-Palestine\"]\n",
    "pro_pal= pro_pal.loc[:,'opinion']\n",
    "print(pro_pal.head())\n",
    "pro_pal_emb= np.array([model.encode(i) for i in pro_pal])\n",
    "print(pro_pal_emb.shape)\n",
    "pro_pal_avg= np.mean(pro_pal_emb, axis=0)\n",
    "print(pro_pal_avg.shape)"
   ]
  },
  {
   "cell_type": "markdown",
   "metadata": {},
   "source": [
    "### Find Nearest Cluster for a given Opinion"
   ]
  },
  {
   "cell_type": "code",
   "execution_count": 173,
   "metadata": {},
   "outputs": [
    {
     "name": "stderr",
     "output_type": "stream",
     "text": [
      "c:\\Users\\richa\\anaconda3\\lib\\site-packages\\umap\\umap_.py:1945: UserWarning:\n",
      "\n",
      "n_jobs value 1 overridden to 1 by setting random_state. Use no seed for parallelism.\n",
      "\n",
      "c:\\Users\\richa\\anaconda3\\lib\\site-packages\\umap\\umap_.py:2437: UserWarning:\n",
      "\n",
      "n_neighbors is larger than the dataset size; truncating to X.shape[0] - 1\n",
      "\n"
     ]
    },
    {
     "name": "stdout",
     "output_type": "stream",
     "text": [
      "Embedded: \n",
      " [[-5.162796   3.8370411 15.713148 ]\n",
      " [-5.3541427  4.223686  14.909268 ]\n",
      " [-6.0192103  4.875412  15.2080965]]\n",
      "          x         y          z   stance\n",
      "0 -5.162796  3.837041  15.713148   pro-IS\n",
      "1 -5.354143  4.223686  14.909268   pro-PS\n",
      "2 -6.019210  4.875412  15.208097  Opinion\n"
     ]
    },
    {
     "data": {
      "application/vnd.plotly.v1+json": {
       "config": {
        "plotlyServerURL": "https://plot.ly"
       },
       "data": [
        {
         "hovertemplate": "stance=%{text}<br>x=%{x}<br>y=%{y}<br>z=%{z}<extra></extra>",
         "legendgroup": "pro-IS",
         "marker": {
          "color": "#636efa",
          "size": 10,
          "symbol": "circle"
         },
         "mode": "markers+text",
         "name": "pro-IS",
         "scene": "scene",
         "showlegend": true,
         "text": [
          "pro-IS"
         ],
         "type": "scatter3d",
         "x": [
          -5.1627960205078125
         ],
         "y": [
          3.837041139602661
         ],
         "z": [
          15.71314811706543
         ]
        },
        {
         "hovertemplate": "stance=%{text}<br>x=%{x}<br>y=%{y}<br>z=%{z}<extra></extra>",
         "legendgroup": "pro-PS",
         "marker": {
          "color": "#EF553B",
          "size": 10,
          "symbol": "circle"
         },
         "mode": "markers+text",
         "name": "pro-PS",
         "scene": "scene",
         "showlegend": true,
         "text": [
          "pro-PS"
         ],
         "type": "scatter3d",
         "x": [
          -5.354142665863037
         ],
         "y": [
          4.223686218261719
         ],
         "z": [
          14.909268379211426
         ]
        },
        {
         "hovertemplate": "stance=%{text}<br>x=%{x}<br>y=%{y}<br>z=%{z}<extra></extra>",
         "legendgroup": "Opinion",
         "marker": {
          "color": "#00cc96",
          "size": 10,
          "symbol": "circle"
         },
         "mode": "markers+text",
         "name": "Opinion",
         "scene": "scene",
         "showlegend": true,
         "text": [
          "Opinion"
         ],
         "type": "scatter3d",
         "x": [
          -6.019210338592529
         ],
         "y": [
          4.8754119873046875
         ],
         "z": [
          15.208096504211426
         ]
        }
       ],
       "layout": {
        "legend": {
         "title": {
          "text": "stance"
         },
         "tracegroupgap": 0
        },
        "margin": {
         "t": 60
        },
        "scene": {
         "domain": {
          "x": [
           0,
           1
          ],
          "y": [
           0,
           1
          ]
         },
         "xaxis": {
          "title": {
           "text": "x"
          }
         },
         "yaxis": {
          "title": {
           "text": "y"
          }
         },
         "zaxis": {
          "title": {
           "text": "z"
          }
         }
        },
        "template": {
         "data": {
          "bar": [
           {
            "error_x": {
             "color": "#2a3f5f"
            },
            "error_y": {
             "color": "#2a3f5f"
            },
            "marker": {
             "line": {
              "color": "#E5ECF6",
              "width": 0.5
             },
             "pattern": {
              "fillmode": "overlay",
              "size": 10,
              "solidity": 0.2
             }
            },
            "type": "bar"
           }
          ],
          "barpolar": [
           {
            "marker": {
             "line": {
              "color": "#E5ECF6",
              "width": 0.5
             },
             "pattern": {
              "fillmode": "overlay",
              "size": 10,
              "solidity": 0.2
             }
            },
            "type": "barpolar"
           }
          ],
          "carpet": [
           {
            "aaxis": {
             "endlinecolor": "#2a3f5f",
             "gridcolor": "white",
             "linecolor": "white",
             "minorgridcolor": "white",
             "startlinecolor": "#2a3f5f"
            },
            "baxis": {
             "endlinecolor": "#2a3f5f",
             "gridcolor": "white",
             "linecolor": "white",
             "minorgridcolor": "white",
             "startlinecolor": "#2a3f5f"
            },
            "type": "carpet"
           }
          ],
          "choropleth": [
           {
            "colorbar": {
             "outlinewidth": 0,
             "ticks": ""
            },
            "type": "choropleth"
           }
          ],
          "contour": [
           {
            "colorbar": {
             "outlinewidth": 0,
             "ticks": ""
            },
            "colorscale": [
             [
              0,
              "#0d0887"
             ],
             [
              0.1111111111111111,
              "#46039f"
             ],
             [
              0.2222222222222222,
              "#7201a8"
             ],
             [
              0.3333333333333333,
              "#9c179e"
             ],
             [
              0.4444444444444444,
              "#bd3786"
             ],
             [
              0.5555555555555556,
              "#d8576b"
             ],
             [
              0.6666666666666666,
              "#ed7953"
             ],
             [
              0.7777777777777778,
              "#fb9f3a"
             ],
             [
              0.8888888888888888,
              "#fdca26"
             ],
             [
              1,
              "#f0f921"
             ]
            ],
            "type": "contour"
           }
          ],
          "contourcarpet": [
           {
            "colorbar": {
             "outlinewidth": 0,
             "ticks": ""
            },
            "type": "contourcarpet"
           }
          ],
          "heatmap": [
           {
            "colorbar": {
             "outlinewidth": 0,
             "ticks": ""
            },
            "colorscale": [
             [
              0,
              "#0d0887"
             ],
             [
              0.1111111111111111,
              "#46039f"
             ],
             [
              0.2222222222222222,
              "#7201a8"
             ],
             [
              0.3333333333333333,
              "#9c179e"
             ],
             [
              0.4444444444444444,
              "#bd3786"
             ],
             [
              0.5555555555555556,
              "#d8576b"
             ],
             [
              0.6666666666666666,
              "#ed7953"
             ],
             [
              0.7777777777777778,
              "#fb9f3a"
             ],
             [
              0.8888888888888888,
              "#fdca26"
             ],
             [
              1,
              "#f0f921"
             ]
            ],
            "type": "heatmap"
           }
          ],
          "heatmapgl": [
           {
            "colorbar": {
             "outlinewidth": 0,
             "ticks": ""
            },
            "colorscale": [
             [
              0,
              "#0d0887"
             ],
             [
              0.1111111111111111,
              "#46039f"
             ],
             [
              0.2222222222222222,
              "#7201a8"
             ],
             [
              0.3333333333333333,
              "#9c179e"
             ],
             [
              0.4444444444444444,
              "#bd3786"
             ],
             [
              0.5555555555555556,
              "#d8576b"
             ],
             [
              0.6666666666666666,
              "#ed7953"
             ],
             [
              0.7777777777777778,
              "#fb9f3a"
             ],
             [
              0.8888888888888888,
              "#fdca26"
             ],
             [
              1,
              "#f0f921"
             ]
            ],
            "type": "heatmapgl"
           }
          ],
          "histogram": [
           {
            "marker": {
             "pattern": {
              "fillmode": "overlay",
              "size": 10,
              "solidity": 0.2
             }
            },
            "type": "histogram"
           }
          ],
          "histogram2d": [
           {
            "colorbar": {
             "outlinewidth": 0,
             "ticks": ""
            },
            "colorscale": [
             [
              0,
              "#0d0887"
             ],
             [
              0.1111111111111111,
              "#46039f"
             ],
             [
              0.2222222222222222,
              "#7201a8"
             ],
             [
              0.3333333333333333,
              "#9c179e"
             ],
             [
              0.4444444444444444,
              "#bd3786"
             ],
             [
              0.5555555555555556,
              "#d8576b"
             ],
             [
              0.6666666666666666,
              "#ed7953"
             ],
             [
              0.7777777777777778,
              "#fb9f3a"
             ],
             [
              0.8888888888888888,
              "#fdca26"
             ],
             [
              1,
              "#f0f921"
             ]
            ],
            "type": "histogram2d"
           }
          ],
          "histogram2dcontour": [
           {
            "colorbar": {
             "outlinewidth": 0,
             "ticks": ""
            },
            "colorscale": [
             [
              0,
              "#0d0887"
             ],
             [
              0.1111111111111111,
              "#46039f"
             ],
             [
              0.2222222222222222,
              "#7201a8"
             ],
             [
              0.3333333333333333,
              "#9c179e"
             ],
             [
              0.4444444444444444,
              "#bd3786"
             ],
             [
              0.5555555555555556,
              "#d8576b"
             ],
             [
              0.6666666666666666,
              "#ed7953"
             ],
             [
              0.7777777777777778,
              "#fb9f3a"
             ],
             [
              0.8888888888888888,
              "#fdca26"
             ],
             [
              1,
              "#f0f921"
             ]
            ],
            "type": "histogram2dcontour"
           }
          ],
          "mesh3d": [
           {
            "colorbar": {
             "outlinewidth": 0,
             "ticks": ""
            },
            "type": "mesh3d"
           }
          ],
          "parcoords": [
           {
            "line": {
             "colorbar": {
              "outlinewidth": 0,
              "ticks": ""
             }
            },
            "type": "parcoords"
           }
          ],
          "pie": [
           {
            "automargin": true,
            "type": "pie"
           }
          ],
          "scatter": [
           {
            "fillpattern": {
             "fillmode": "overlay",
             "size": 10,
             "solidity": 0.2
            },
            "type": "scatter"
           }
          ],
          "scatter3d": [
           {
            "line": {
             "colorbar": {
              "outlinewidth": 0,
              "ticks": ""
             }
            },
            "marker": {
             "colorbar": {
              "outlinewidth": 0,
              "ticks": ""
             }
            },
            "type": "scatter3d"
           }
          ],
          "scattercarpet": [
           {
            "marker": {
             "colorbar": {
              "outlinewidth": 0,
              "ticks": ""
             }
            },
            "type": "scattercarpet"
           }
          ],
          "scattergeo": [
           {
            "marker": {
             "colorbar": {
              "outlinewidth": 0,
              "ticks": ""
             }
            },
            "type": "scattergeo"
           }
          ],
          "scattergl": [
           {
            "marker": {
             "colorbar": {
              "outlinewidth": 0,
              "ticks": ""
             }
            },
            "type": "scattergl"
           }
          ],
          "scattermapbox": [
           {
            "marker": {
             "colorbar": {
              "outlinewidth": 0,
              "ticks": ""
             }
            },
            "type": "scattermapbox"
           }
          ],
          "scatterpolar": [
           {
            "marker": {
             "colorbar": {
              "outlinewidth": 0,
              "ticks": ""
             }
            },
            "type": "scatterpolar"
           }
          ],
          "scatterpolargl": [
           {
            "marker": {
             "colorbar": {
              "outlinewidth": 0,
              "ticks": ""
             }
            },
            "type": "scatterpolargl"
           }
          ],
          "scatterternary": [
           {
            "marker": {
             "colorbar": {
              "outlinewidth": 0,
              "ticks": ""
             }
            },
            "type": "scatterternary"
           }
          ],
          "surface": [
           {
            "colorbar": {
             "outlinewidth": 0,
             "ticks": ""
            },
            "colorscale": [
             [
              0,
              "#0d0887"
             ],
             [
              0.1111111111111111,
              "#46039f"
             ],
             [
              0.2222222222222222,
              "#7201a8"
             ],
             [
              0.3333333333333333,
              "#9c179e"
             ],
             [
              0.4444444444444444,
              "#bd3786"
             ],
             [
              0.5555555555555556,
              "#d8576b"
             ],
             [
              0.6666666666666666,
              "#ed7953"
             ],
             [
              0.7777777777777778,
              "#fb9f3a"
             ],
             [
              0.8888888888888888,
              "#fdca26"
             ],
             [
              1,
              "#f0f921"
             ]
            ],
            "type": "surface"
           }
          ],
          "table": [
           {
            "cells": {
             "fill": {
              "color": "#EBF0F8"
             },
             "line": {
              "color": "white"
             }
            },
            "header": {
             "fill": {
              "color": "#C8D4E3"
             },
             "line": {
              "color": "white"
             }
            },
            "type": "table"
           }
          ]
         },
         "layout": {
          "annotationdefaults": {
           "arrowcolor": "#2a3f5f",
           "arrowhead": 0,
           "arrowwidth": 1
          },
          "autotypenumbers": "strict",
          "coloraxis": {
           "colorbar": {
            "outlinewidth": 0,
            "ticks": ""
           }
          },
          "colorscale": {
           "diverging": [
            [
             0,
             "#8e0152"
            ],
            [
             0.1,
             "#c51b7d"
            ],
            [
             0.2,
             "#de77ae"
            ],
            [
             0.3,
             "#f1b6da"
            ],
            [
             0.4,
             "#fde0ef"
            ],
            [
             0.5,
             "#f7f7f7"
            ],
            [
             0.6,
             "#e6f5d0"
            ],
            [
             0.7,
             "#b8e186"
            ],
            [
             0.8,
             "#7fbc41"
            ],
            [
             0.9,
             "#4d9221"
            ],
            [
             1,
             "#276419"
            ]
           ],
           "sequential": [
            [
             0,
             "#0d0887"
            ],
            [
             0.1111111111111111,
             "#46039f"
            ],
            [
             0.2222222222222222,
             "#7201a8"
            ],
            [
             0.3333333333333333,
             "#9c179e"
            ],
            [
             0.4444444444444444,
             "#bd3786"
            ],
            [
             0.5555555555555556,
             "#d8576b"
            ],
            [
             0.6666666666666666,
             "#ed7953"
            ],
            [
             0.7777777777777778,
             "#fb9f3a"
            ],
            [
             0.8888888888888888,
             "#fdca26"
            ],
            [
             1,
             "#f0f921"
            ]
           ],
           "sequentialminus": [
            [
             0,
             "#0d0887"
            ],
            [
             0.1111111111111111,
             "#46039f"
            ],
            [
             0.2222222222222222,
             "#7201a8"
            ],
            [
             0.3333333333333333,
             "#9c179e"
            ],
            [
             0.4444444444444444,
             "#bd3786"
            ],
            [
             0.5555555555555556,
             "#d8576b"
            ],
            [
             0.6666666666666666,
             "#ed7953"
            ],
            [
             0.7777777777777778,
             "#fb9f3a"
            ],
            [
             0.8888888888888888,
             "#fdca26"
            ],
            [
             1,
             "#f0f921"
            ]
           ]
          },
          "colorway": [
           "#636efa",
           "#EF553B",
           "#00cc96",
           "#ab63fa",
           "#FFA15A",
           "#19d3f3",
           "#FF6692",
           "#B6E880",
           "#FF97FF",
           "#FECB52"
          ],
          "font": {
           "color": "#2a3f5f"
          },
          "geo": {
           "bgcolor": "white",
           "lakecolor": "white",
           "landcolor": "#E5ECF6",
           "showlakes": true,
           "showland": true,
           "subunitcolor": "white"
          },
          "hoverlabel": {
           "align": "left"
          },
          "hovermode": "closest",
          "mapbox": {
           "style": "light"
          },
          "paper_bgcolor": "white",
          "plot_bgcolor": "#E5ECF6",
          "polar": {
           "angularaxis": {
            "gridcolor": "white",
            "linecolor": "white",
            "ticks": ""
           },
           "bgcolor": "#E5ECF6",
           "radialaxis": {
            "gridcolor": "white",
            "linecolor": "white",
            "ticks": ""
           }
          },
          "scene": {
           "xaxis": {
            "backgroundcolor": "#E5ECF6",
            "gridcolor": "white",
            "gridwidth": 2,
            "linecolor": "white",
            "showbackground": true,
            "ticks": "",
            "zerolinecolor": "white"
           },
           "yaxis": {
            "backgroundcolor": "#E5ECF6",
            "gridcolor": "white",
            "gridwidth": 2,
            "linecolor": "white",
            "showbackground": true,
            "ticks": "",
            "zerolinecolor": "white"
           },
           "zaxis": {
            "backgroundcolor": "#E5ECF6",
            "gridcolor": "white",
            "gridwidth": 2,
            "linecolor": "white",
            "showbackground": true,
            "ticks": "",
            "zerolinecolor": "white"
           }
          },
          "shapedefaults": {
           "line": {
            "color": "#2a3f5f"
           }
          },
          "ternary": {
           "aaxis": {
            "gridcolor": "white",
            "linecolor": "white",
            "ticks": ""
           },
           "baxis": {
            "gridcolor": "white",
            "linecolor": "white",
            "ticks": ""
           },
           "bgcolor": "#E5ECF6",
           "caxis": {
            "gridcolor": "white",
            "linecolor": "white",
            "ticks": ""
           }
          },
          "title": {
           "x": 0.05
          },
          "xaxis": {
           "automargin": true,
           "gridcolor": "white",
           "linecolor": "white",
           "ticks": "",
           "title": {
            "standoff": 15
           },
           "zerolinecolor": "white",
           "zerolinewidth": 2
          },
          "yaxis": {
           "automargin": true,
           "gridcolor": "white",
           "linecolor": "white",
           "ticks": "",
           "title": {
            "standoff": 15
           },
           "zerolinecolor": "white",
           "zerolinewidth": 2
          }
         }
        }
       }
      }
     },
     "metadata": {},
     "output_type": "display_data"
    },
    {
     "name": "stdout",
     "output_type": "stream",
     "text": [
      "pro Palestine |  tensor([[0.7082]])\n"
     ]
    }
   ],
   "source": [
    "opinion_emb= model.encode(\"Israel is comitting genocide\")\n",
    "\n",
    "\n",
    "umap_3d = UMAP(n_components=3, init='random', random_state=0, metric='cosine')\n",
    "proj_3d = umap_3d.fit_transform([pro_isr_avg, pro_pal_avg, opinion_emb])\n",
    "print('Embedded: \\n', proj_3d)\n",
    "\n",
    "proj_3d_df= pd.DataFrame(proj_3d, columns= ['x', 'y', 'z'])\n",
    "proj_3d_df['stance'] = ['pro-IS', 'pro-PS', 'Opinion']\n",
    "print(proj_3d_df)\n",
    "\n",
    "\n",
    "fig_3d = px.scatter_3d(\n",
    "    data_frame= proj_3d_df,\n",
    "    x='x', y='y', z='z',\n",
    "    color='stance', \n",
    "    text= 'stance'\n",
    "    #labels={'color': np.array(mapping.keys())}\n",
    ")\n",
    "fig_3d.update_traces(marker_size=10)\n",
    "fig_3d.show()\n",
    "\n",
    "#Get the cosine similarity score between the opnion and the two clusters\n",
    "cos1 = util.cos_sim(opinion_emb, pro_isr_avg)\n",
    "cos2 = util.cos_sim(opinion_emb, pro_pal_avg)\n",
    "if cos1>cos2:\n",
    "    print(\"pro Israel |  \", cos1)\n",
    "else:\n",
    "    print(\"pro Palestine | \", cos2)"
   ]
  },
  {
   "cell_type": "markdown",
   "metadata": {},
   "source": [
    "## TODO\n",
    "- [+] Install packages\n",
    "- [+] Embed corpus lines\n",
    "- [+] UMAP Dim reduction\n",
    "- [+] Get the Average Embeddign for the Cluster, and compare \n",
    "- [ ] Explore different sentence transformers models\n",
    "- [ ] Explore clustering methods (read documentation)\n",
    "- [ ] Embed LLM-generated polarized opinions as references\n",
    "- [ ] Try other dimensionality reduction techiques\n",
    "\n",
    "\n",
    "## Possible Ideas\n",
    "-   Recreate Lupin: Classify embedding within a spectrum between two polar opposite references\n",
    "-   KNN-based algo: instead of using a spectrum, simply classify each opinion based on its nearest neighbors in vector space, or some variation of that\n",
    "    - Given the sometimes ambiguous and overlapping nature of ideologies, this might be used as an alternative to classifying based on discrete categories\n",
    "    - ex: \"given this person's opinion, he is most ideologically aligned with politicians x and y\"\n",
    "    - We could also create an embedding of entire ideology as an average of a collection of quotes, and do classification based on the single nearest neighbor\n",
    "\n",
    "-   Recreate the 2019 Party Embedding method using SBERT\n",
    "    - Embed each opinion in the dataset with a party/ideology label\n",
    "    - Classify each new opinion based on distance to that label (need more research to confirm this method)"
   ]
  },
  {
   "cell_type": "markdown",
   "metadata": {},
   "source": []
  }
 ],
 "metadata": {
  "kernelspec": {
   "display_name": "base",
   "language": "python",
   "name": "python3"
  },
  "language_info": {
   "codemirror_mode": {
    "name": "ipython",
    "version": 3
   },
   "file_extension": ".py",
   "mimetype": "text/x-python",
   "name": "python",
   "nbconvert_exporter": "python",
   "pygments_lexer": "ipython3",
   "version": "3.9.18"
  }
 },
 "nbformat": 4,
 "nbformat_minor": 2
}
