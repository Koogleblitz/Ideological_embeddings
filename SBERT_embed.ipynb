{
 "cells": [
  {
   "cell_type": "markdown",
   "metadata": {},
   "source": [
    "# SBERT Embeddings"
   ]
  },
  {
   "cell_type": "code",
   "execution_count": 10,
   "metadata": {},
   "outputs": [],
   "source": [
    "from sentence_transformers import SentenceTransformer, util, InputExample, losses\n",
    "import numpy as np\n",
    "import matplotlib.pyplot as plt"
   ]
  },
  {
   "cell_type": "code",
   "execution_count": 14,
   "metadata": {},
   "outputs": [
    {
     "name": "stdout",
     "output_type": "stream",
     "text": [
      "[+] -- Loaded  70  docs ---------------------------------------------------------------------------------------------|\n",
      "0 :  Support for Israeli settlements in the West Bank is crucial for security.\n",
      "\n",
      "1 :  Palestinian statehood should be recognized and supported by the international community.\n",
      "\n",
      "2 :  Economic cooperation between Israel and Palestine can lead to peace.\n",
      "\n",
      "3 :  Military action is necessary to protect Israeli borders from threats.\n",
      "\n",
      "4 :  Human rights abuses against Palestinians must be addressed by global organizations.\n",
      "\n",
      "[+] -- Loaded  238  docs ---------------------------------------------------------------------------------------------|\n",
      "0 :  Speaker 1 [0.01s - 26.53s]:  You're saying that you think it's the two narratives. Yeah, but we can't hear you very loudly. Maybe it's much better, much better.\n",
      "\n",
      "1 :  Speaker 3 [4.60s - 25.21s]:  Yeah, I was just saying that I think it's pretty obvious why Native Americans would side with Palestinians. I didn't really know that there were Palestinians, that there were Native Americans who were pro-Israel. Sorry, is this better?\n",
      "\n",
      "2 :  Speaker 3 [26.65s - 39.19s]:  Yeah, I was just saying that I'm not surprised that that they're Native Americans who are pro-Palestinian, but I didn't know about pro-Israel.\n",
      "\n",
      "3 :  Speaker 1 [37.82s - 63.28s]:  So are you surprised by that? Because the point is that there are Native Americans that then seem to support Israel because of the claim for indigeneity. They understand what it's like to be a people, sometimes tribes that have the spiritual dimension to these tribes, they're kicked out of their land and now they want to come back to their land. That's also exactly the story of the Jews, no?\n",
      "\n",
      "4 :  Speaker 2 [66.41s - 85.14s]:  I feel like the thing with the Jews is how like a lot of them were able to like I can see also some similarities there but I feel like the difference is that\n",
      "\n"
     ]
    }
   ],
   "source": [
    "with open(\"ideological_corpus.txt\", \"r\") as f:\n",
    "    corpus = f.readlines()\n",
    "print(\"[+] -- Loaded \", len(corpus), ' docs ---------------------------------------------------------------------------------------------|')\n",
    "for i in range(5):\n",
    "    print(i, ': ', corpus[i])\n",
    "\n",
    "with open(\"transcript.txt\", \"r\") as f:\n",
    "    transcript = f.readlines()\n",
    "print(\"[+] -- Loaded \", len(transcript), ' docs ---------------------------------------------------------------------------------------------|')\n",
    "for i in range(5):\n",
    "    print(i, ': ', transcript[i])"
   ]
  },
  {
   "cell_type": "code",
   "execution_count": null,
   "metadata": {},
   "outputs": [],
   "source": []
  },
  {
   "cell_type": "markdown",
   "metadata": {},
   "source": [
    "## TODO\n",
    "- [ ] Install packages\n",
    "- [ ] Embed corpus lines\n",
    "- [ ] UMAP "
   ]
  }
 ],
 "metadata": {
  "kernelspec": {
   "display_name": "base",
   "language": "python",
   "name": "python3"
  },
  "language_info": {
   "codemirror_mode": {
    "name": "ipython",
    "version": 3
   },
   "file_extension": ".py",
   "mimetype": "text/x-python",
   "name": "python",
   "nbconvert_exporter": "python",
   "pygments_lexer": "ipython3",
   "version": "3.9.18"
  }
 },
 "nbformat": 4,
 "nbformat_minor": 2
}
